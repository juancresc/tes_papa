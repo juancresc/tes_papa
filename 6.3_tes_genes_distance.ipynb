{
 "cells": [
  {
   "cell_type": "code",
   "execution_count": 23,
   "metadata": {},
   "outputs": [],
   "source": [
    "import pandas as pd\n",
    "import matplotlib.pyplot as plt\n",
    "import seaborn as sns\n",
    "path_gff_tes = 'data/results/all.noun.no00.gff'\n",
    "path_gff_genes = 'data/results/circos/genes.gff3'\n",
    "path_genome = 'data/Stuberosum_genome.gff3'\n",
    "te_classes = ['TRIM', 'LARD','LTR','SINE', 'LINE','MITE', 'TIR','helitron']\n",
    "#te_classes = ['TRIM']"
   ]
  },
  {
   "cell_type": "code",
   "execution_count": 24,
   "metadata": {},
   "outputs": [],
   "source": [
    "df_genome = pd.read_csv(path_genome, sep='\\t', header=None)\n",
    "df_genome.columns = ['seqname' , 'source' , 'feature' , 'start' , 'end' , 'score' , 'strand' , 'frame' , 'attribute']\n",
    "\n",
    "df_tes = pd.read_csv(path_gff_tes, sep='\\t', header=None)\n",
    "df_tes.columns = ['seqname' , 'source' , 'feature' , 'start' , 'end' , 'score' , 'strand' , 'frame' , 'attribute']\n",
    "\n",
    "df_genes = pd.read_csv(path_gff_genes, sep='\\t', header=None)\n",
    "df_genes.columns = ['seqname' , 'source' , 'feature' , 'start' , 'end' , 'score' , 'strand' , 'frame' , 'attribute']\n"
   ]
  },
  {
   "cell_type": "code",
   "execution_count": 25,
   "metadata": {},
   "outputs": [],
   "source": [
    "#load genome structure\n",
    "df_genes_genome = {}\n",
    "for k,chromosome in df_genome.iterrows():\n",
    "    df_genes_genome[chromosome.seqname] = df_genes[(df_genes.seqname == chromosome.seqname)].reset_index()"
   ]
  },
  {
   "cell_type": "code",
   "execution_count": 33,
   "metadata": {},
   "outputs": [
    {
     "name": "stdout",
     "output_type": "stream",
     "text": [
      "('TRIM', 76)\n",
      "('LARD', 0)\n",
      "('LTR', 572)\n",
      "('SINE', 25)\n",
      "('LINE', 2)\n",
      "('MITE', 149)\n",
      "('TIR', 34)\n",
      "('helitron', 11)\n"
     ]
    }
   ],
   "source": [
    "distances_kb = {}\n",
    "distances_kb_filtered = {}\n",
    "for te_class in te_classes:\n",
    "    #calculate distance to closest gene\n",
    "    df_tes_class = df_tes[df_tes.attribute.str.contains(te_class + \"_id\")]\n",
    "    distances = []\n",
    "    for k,v in df_tes_class.iterrows():\n",
    "        midd = (v.start + v.end) / 2\n",
    "        df_curr = df_genes_genome[v.seqname]\n",
    "        df_res = df_curr.loc[(df_curr.start - midd).abs().argsort()[:1]]\n",
    "        if len(df_res.index) > 0:\n",
    "            closest = (int(df_res.start) + int(df_res.end)) / 2\n",
    "            distance = abs(midd - closest)\n",
    "            distances.append(distance)\n",
    "        else:\n",
    "            print(v.seqname, midd)\n",
    "            print(df_res)\n",
    "            print(df_curr)\n",
    "            print('error')\n",
    "    count = 0\n",
    "    for i in range(0,10000,1000):\n",
    "        for distance in distances:\n",
    "            if distance < 100:\n",
    "                count += 1\n",
    "    print(te_class, count)\n",
    "    distances_kb[te_class] = []\n",
    "    for d in distances:\n",
    "        distances_kb[te_class].append(d/1000)\n",
    "    #! pip3 install seaborn\n",
    "    distances_kb_filtered[te_class] = []\n",
    "    for distance_kb in distances_kb[te_class]:\n",
    "        if distance_kb <= 500:\n",
    "            distances_kb_filtered[te_class].append(distance_kb)"
   ]
  },
  {
   "cell_type": "code",
   "execution_count": 35,
   "metadata": {},
   "outputs": [
    {
     "ename": "IndexError",
     "evalue": "list index out of range",
     "output_type": "error",
     "traceback": [
      "\u001b[0;31m---------------------------------------------------------------------------\u001b[0m",
      "\u001b[0;31mIndexError\u001b[0m                                Traceback (most recent call last)",
      "\u001b[0;32m<ipython-input-35-81c04d025f48>\u001b[0m in \u001b[0;36m<module>\u001b[0;34m()\u001b[0m\n\u001b[1;32m      5\u001b[0m     sns.distplot(distances_kb_filtered[te_class], hist=True, kde=False, \n\u001b[1;32m      6\u001b[0m                  \u001b[0mbins\u001b[0m\u001b[0;34m=\u001b[0m\u001b[0;36m80\u001b[0m\u001b[0;34m,\u001b[0m \u001b[0mcolor\u001b[0m \u001b[0;34m=\u001b[0m \u001b[0;34m'blue'\u001b[0m\u001b[0;34m,\u001b[0m\u001b[0;34m\u001b[0m\u001b[0m\n\u001b[0;32m----> 7\u001b[0;31m                  hist_kws={'edgecolor':'black'},rug=False).get_lines()[0].get_data()\n\u001b[0m\u001b[1;32m      8\u001b[0m \u001b[0;31m#    plt.ylim(0, 3500)\u001b[0m\u001b[0;34m\u001b[0m\u001b[0;34m\u001b[0m\u001b[0m\n\u001b[1;32m      9\u001b[0m     \u001b[0mplt\u001b[0m\u001b[0;34m.\u001b[0m\u001b[0mxlim\u001b[0m\u001b[0;34m(\u001b[0m\u001b[0;36m0\u001b[0m\u001b[0;34m,\u001b[0m \u001b[0;36m400\u001b[0m\u001b[0;34m)\u001b[0m\u001b[0;34m\u001b[0m\u001b[0m\n",
      "\u001b[0;31mIndexError\u001b[0m: list index out of range"
     ]
    },
    {
     "data": {
      "image/png": "[encoded data removed]",
      "text/plain": [
       "<Figure size 432x288 with 1 Axes>"
      ]
     },
     "metadata": {
      "needs_background": "light"
     },
     "output_type": "display_data"
    }
   ],
   "source": [
    "for te_class in te_classes:\n",
    "    # seaborn histogram\n",
    "    plt.figure()\n",
    " \n",
    "    sns.distplot(distances_kb_filtered[te_class], hist=True, kde=False, \n",
    "                 bins=80, color = 'blue',\n",
    "                 hist_kws={'edgecolor':'black'},rug=False)\n",
    "#    plt.ylim(0, 3500)\n",
    "    plt.xlim(0, 400)\n",
    "\n",
    "    # Add labels\n",
    "    plt.title(te_class + ' distance to closest gene in the genome')\n",
    "    plt.xlabel('Distance to closest gene (kb)')\n",
    "    plt.ylabel('Number of ' + te_class)\n",
    "    plt.savefig('data/results/plots/histogram' + te_class + '.png', dpi=800,bbox_inches='tight')\n",
    "\n"
   ]
  },
  {
   "cell_type": "code",
   "execution_count": 30,
   "metadata": {},
   "outputs": [],
   "source": [
    "#distances_kb_filtered\n",
    "import csv"
   ]
  },
  {
   "cell_type": "code",
   "execution_count": 32,
   "metadata": {},
   "outputs": [],
   "source": [
    "with open('data/distances.csv', 'wb') as f:  # Just use 'w' mode in 3.x\n",
    "    w = csv.DictWriter(f, distances_kb_filtered.keys())\n",
    "    for d in distances_kb_filtered:\n",
    "        w.writeheader()\n",
    "        w.writerow(distances_kb_filtered)\n"
   ]
  },
  {
   "cell_type": "code",
   "execution_count": null,
   "metadata": {},
   "outputs": [],
   "source": []
  },
  {
   "cell_type": "code",
   "execution_count": null,
   "metadata": {},
   "outputs": [],
   "source": []
  }
 ],
 "metadata": {
  "kernelspec": {
   "display_name": "Python 3",
   "language": "python",
   "name": "python3"
  },
  "language_info": {
   "codemirror_mode": {
    "name": "ipython",
    "version": 2
   },
   "file_extension": ".py",
   "mimetype": "text/x-python",
   "name": "python",
   "nbconvert_exporter": "python",
   "pygments_lexer": "ipython2",
   "version": "2.7.15"
  }
 },
 "nbformat": 4,
 "nbformat_minor": 2
}
