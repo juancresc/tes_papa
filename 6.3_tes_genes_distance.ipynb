{
 "cells": [
  {
   "cell_type": "code",
   "execution_count": 77,
   "metadata": {},
   "outputs": [],
   "source": [
    "import pandas as pd\n",
    "import matplotlib.pyplot as plt\n",
    "import csv\n",
    "#import seaborn as sns\n",
    "path_gff_tes = 'data/results/all.noun.no00.gff'\n",
    "path_gff_genes = 'data/results/Stuberosum_genes_sin_chr0.gff3'\n",
    "path_genome = 'data/Stuberosum_genome.gff3'\n",
    "te_classes = ['TRIM', 'LARD','LTR','SINE', 'LINE','TIR','helitron', 'MITE'] #falta mite"
   ]
  },
  {
   "cell_type": "code",
   "execution_count": 78,
   "metadata": {},
   "outputs": [],
   "source": [
    "df_genome = pd.read_csv(path_genome, sep='\\t', header=None)\n",
    "df_genome.columns = ['seqname' , 'source' , 'feature' , 'start' , 'end' , 'score' , 'strand' , 'frame' , 'attribute']\n",
    "\n",
    "df_tes = pd.read_csv(path_gff_tes, sep='\\t', header=None)\n",
    "df_tes.columns = ['seqname' , 'source' , 'feature' , 'start' , 'end' , 'score' , 'strand' , 'frame' , 'attribute']\n",
    "\n",
    "df_genes = pd.read_csv(path_gff_genes, sep='\\t', header=None)\n",
    "df_genes.columns = ['seqname' , 'source' , 'feature' , 'start' , 'end' , 'score' , 'strand' , 'frame' , 'attribute']\n"
   ]
  },
  {
   "cell_type": "code",
   "execution_count": 79,
   "metadata": {},
   "outputs": [
    {
     "data": {
      "text/html": [
       "<div>\n",
       "<style scoped>\n",
       "    .dataframe tbody tr th:only-of-type {\n",
       "        vertical-align: middle;\n",
       "    }\n",
       "\n",
       "    .dataframe tbody tr th {\n",
       "        vertical-align: top;\n",
       "    }\n",
       "\n",
       "    .dataframe thead th {\n",
       "        text-align: right;\n",
       "    }\n",
       "</style>\n",
       "<table border=\"1\" class=\"dataframe\">\n",
       "  <thead>\n",
       "    <tr style=\"text-align: right;\">\n",
       "      <th></th>\n",
       "      <th>seqname</th>\n",
       "      <th>source</th>\n",
       "      <th>feature</th>\n",
       "      <th>start</th>\n",
       "      <th>end</th>\n",
       "      <th>score</th>\n",
       "      <th>strand</th>\n",
       "      <th>frame</th>\n",
       "      <th>attribute</th>\n",
       "    </tr>\n",
       "  </thead>\n",
       "  <tbody>\n",
       "    <tr>\n",
       "      <th>0</th>\n",
       "      <td>chr01</td>\n",
       "      <td>phytozomev12</td>\n",
       "      <td>gene</td>\n",
       "      <td>71267700</td>\n",
       "      <td>71269327</td>\n",
       "      <td>.</td>\n",
       "      <td>+</td>\n",
       "      <td>.</td>\n",
       "      <td>ID=PGSC0003DMG400000001.v4.03;Name=PGSC0003DMG...</td>\n",
       "    </tr>\n",
       "    <tr>\n",
       "      <th>1</th>\n",
       "      <td>chr01</td>\n",
       "      <td>phytozomev12</td>\n",
       "      <td>gene</td>\n",
       "      <td>71271492</td>\n",
       "      <td>71272645</td>\n",
       "      <td>.</td>\n",
       "      <td>+</td>\n",
       "      <td>.</td>\n",
       "      <td>ID=PGSC0003DMG400000002.v4.03;Name=PGSC0003DMG...</td>\n",
       "    </tr>\n",
       "  </tbody>\n",
       "</table>\n",
       "</div>"
      ],
      "text/plain": [
       "  seqname        source feature     start       end score strand frame  \\\n",
       "0   chr01  phytozomev12    gene  71267700  71269327     .      +     .   \n",
       "1   chr01  phytozomev12    gene  71271492  71272645     .      +     .   \n",
       "\n",
       "                                           attribute  \n",
       "0  ID=PGSC0003DMG400000001.v4.03;Name=PGSC0003DMG...  \n",
       "1  ID=PGSC0003DMG400000002.v4.03;Name=PGSC0003DMG...  "
      ]
     },
     "execution_count": 79,
     "metadata": {},
     "output_type": "execute_result"
    }
   ],
   "source": [
    "df_genes.head(2)"
   ]
  },
  {
   "cell_type": "code",
   "execution_count": 80,
   "metadata": {},
   "outputs": [],
   "source": [
    "df_genes['gene_id'] = df_genes.attribute.str.split(\";\").str[0]"
   ]
  },
  {
   "cell_type": "code",
   "execution_count": 81,
   "metadata": {},
   "outputs": [
    {
     "data": {
      "text/html": [
       "<div>\n",
       "<style scoped>\n",
       "    .dataframe tbody tr th:only-of-type {\n",
       "        vertical-align: middle;\n",
       "    }\n",
       "\n",
       "    .dataframe tbody tr th {\n",
       "        vertical-align: top;\n",
       "    }\n",
       "\n",
       "    .dataframe thead th {\n",
       "        text-align: right;\n",
       "    }\n",
       "</style>\n",
       "<table border=\"1\" class=\"dataframe\">\n",
       "  <thead>\n",
       "    <tr style=\"text-align: right;\">\n",
       "      <th></th>\n",
       "      <th>seqname</th>\n",
       "      <th>source</th>\n",
       "      <th>feature</th>\n",
       "      <th>start</th>\n",
       "      <th>end</th>\n",
       "      <th>score</th>\n",
       "      <th>strand</th>\n",
       "      <th>frame</th>\n",
       "      <th>attribute</th>\n",
       "      <th>gene_id</th>\n",
       "    </tr>\n",
       "  </thead>\n",
       "  <tbody>\n",
       "    <tr>\n",
       "      <th>0</th>\n",
       "      <td>chr01</td>\n",
       "      <td>phytozomev12</td>\n",
       "      <td>gene</td>\n",
       "      <td>71267700</td>\n",
       "      <td>71269327</td>\n",
       "      <td>.</td>\n",
       "      <td>+</td>\n",
       "      <td>.</td>\n",
       "      <td>ID=PGSC0003DMG400000001.v4.03;Name=PGSC0003DMG...</td>\n",
       "      <td>ID=PGSC0003DMG400000001.v4.03</td>\n",
       "    </tr>\n",
       "    <tr>\n",
       "      <th>1</th>\n",
       "      <td>chr01</td>\n",
       "      <td>phytozomev12</td>\n",
       "      <td>gene</td>\n",
       "      <td>71271492</td>\n",
       "      <td>71272645</td>\n",
       "      <td>.</td>\n",
       "      <td>+</td>\n",
       "      <td>.</td>\n",
       "      <td>ID=PGSC0003DMG400000002.v4.03;Name=PGSC0003DMG...</td>\n",
       "      <td>ID=PGSC0003DMG400000002.v4.03</td>\n",
       "    </tr>\n",
       "  </tbody>\n",
       "</table>\n",
       "</div>"
      ],
      "text/plain": [
       "  seqname        source feature     start       end score strand frame  \\\n",
       "0   chr01  phytozomev12    gene  71267700  71269327     .      +     .   \n",
       "1   chr01  phytozomev12    gene  71271492  71272645     .      +     .   \n",
       "\n",
       "                                           attribute  \\\n",
       "0  ID=PGSC0003DMG400000001.v4.03;Name=PGSC0003DMG...   \n",
       "1  ID=PGSC0003DMG400000002.v4.03;Name=PGSC0003DMG...   \n",
       "\n",
       "                         gene_id  \n",
       "0  ID=PGSC0003DMG400000001.v4.03  \n",
       "1  ID=PGSC0003DMG400000002.v4.03  "
      ]
     },
     "execution_count": 81,
     "metadata": {},
     "output_type": "execute_result"
    }
   ],
   "source": [
    "df_genes.head(2)"
   ]
  },
  {
   "cell_type": "code",
   "execution_count": null,
   "metadata": {},
   "outputs": [],
   "source": []
  },
  {
   "cell_type": "code",
   "execution_count": 82,
   "metadata": {},
   "outputs": [
    {
     "data": {
      "text/html": [
       "<div>\n",
       "<style scoped>\n",
       "    .dataframe tbody tr th:only-of-type {\n",
       "        vertical-align: middle;\n",
       "    }\n",
       "\n",
       "    .dataframe tbody tr th {\n",
       "        vertical-align: top;\n",
       "    }\n",
       "\n",
       "    .dataframe thead th {\n",
       "        text-align: right;\n",
       "    }\n",
       "</style>\n",
       "<table border=\"1\" class=\"dataframe\">\n",
       "  <thead>\n",
       "    <tr style=\"text-align: right;\">\n",
       "      <th></th>\n",
       "      <th>seqname</th>\n",
       "      <th>source</th>\n",
       "      <th>feature</th>\n",
       "      <th>start</th>\n",
       "      <th>end</th>\n",
       "      <th>score</th>\n",
       "      <th>strand</th>\n",
       "      <th>frame</th>\n",
       "      <th>attribute</th>\n",
       "    </tr>\n",
       "  </thead>\n",
       "  <tbody>\n",
       "    <tr>\n",
       "      <th>0</th>\n",
       "      <td>chr01</td>\n",
       "      <td>ST_annotation</td>\n",
       "      <td>TE</td>\n",
       "      <td>23365</td>\n",
       "      <td>24238</td>\n",
       "      <td>.</td>\n",
       "      <td>+</td>\n",
       "      <td>.</td>\n",
       "      <td>TRIM_id:1163;source_name:RLX_family19_TRIM_ret...</td>\n",
       "    </tr>\n",
       "    <tr>\n",
       "      <th>1</th>\n",
       "      <td>chr01</td>\n",
       "      <td>ST_annotation</td>\n",
       "      <td>TE</td>\n",
       "      <td>26437</td>\n",
       "      <td>27916</td>\n",
       "      <td>.</td>\n",
       "      <td>+</td>\n",
       "      <td>.</td>\n",
       "      <td>TRIM_id:5841;source_name:RLX_family32_TRIM_ret...</td>\n",
       "    </tr>\n",
       "  </tbody>\n",
       "</table>\n",
       "</div>"
      ],
      "text/plain": [
       "  seqname         source feature  start    end score strand frame  \\\n",
       "0   chr01  ST_annotation      TE  23365  24238     .      +     .   \n",
       "1   chr01  ST_annotation      TE  26437  27916     .      +     .   \n",
       "\n",
       "                                           attribute  \n",
       "0  TRIM_id:1163;source_name:RLX_family19_TRIM_ret...  \n",
       "1  TRIM_id:5841;source_name:RLX_family32_TRIM_ret...  "
      ]
     },
     "execution_count": 82,
     "metadata": {},
     "output_type": "execute_result"
    }
   ],
   "source": [
    "df_tes.head(2)"
   ]
  },
  {
   "cell_type": "code",
   "execution_count": 83,
   "metadata": {},
   "outputs": [],
   "source": [
    "df_tes['te_id'] = df_tes.attribute.str.split(\";\").str[0]"
   ]
  },
  {
   "cell_type": "code",
   "execution_count": 84,
   "metadata": {},
   "outputs": [
    {
     "data": {
      "text/html": [
       "<div>\n",
       "<style scoped>\n",
       "    .dataframe tbody tr th:only-of-type {\n",
       "        vertical-align: middle;\n",
       "    }\n",
       "\n",
       "    .dataframe tbody tr th {\n",
       "        vertical-align: top;\n",
       "    }\n",
       "\n",
       "    .dataframe thead th {\n",
       "        text-align: right;\n",
       "    }\n",
       "</style>\n",
       "<table border=\"1\" class=\"dataframe\">\n",
       "  <thead>\n",
       "    <tr style=\"text-align: right;\">\n",
       "      <th></th>\n",
       "      <th>seqname</th>\n",
       "      <th>source</th>\n",
       "      <th>feature</th>\n",
       "      <th>start</th>\n",
       "      <th>end</th>\n",
       "      <th>score</th>\n",
       "      <th>strand</th>\n",
       "      <th>frame</th>\n",
       "      <th>attribute</th>\n",
       "      <th>te_id</th>\n",
       "    </tr>\n",
       "  </thead>\n",
       "  <tbody>\n",
       "    <tr>\n",
       "      <th>0</th>\n",
       "      <td>chr01</td>\n",
       "      <td>ST_annotation</td>\n",
       "      <td>TE</td>\n",
       "      <td>23365</td>\n",
       "      <td>24238</td>\n",
       "      <td>.</td>\n",
       "      <td>+</td>\n",
       "      <td>.</td>\n",
       "      <td>TRIM_id:1163;source_name:RLX_family19_TRIM_ret...</td>\n",
       "      <td>TRIM_id:1163</td>\n",
       "    </tr>\n",
       "    <tr>\n",
       "      <th>1</th>\n",
       "      <td>chr01</td>\n",
       "      <td>ST_annotation</td>\n",
       "      <td>TE</td>\n",
       "      <td>26437</td>\n",
       "      <td>27916</td>\n",
       "      <td>.</td>\n",
       "      <td>+</td>\n",
       "      <td>.</td>\n",
       "      <td>TRIM_id:5841;source_name:RLX_family32_TRIM_ret...</td>\n",
       "      <td>TRIM_id:5841</td>\n",
       "    </tr>\n",
       "  </tbody>\n",
       "</table>\n",
       "</div>"
      ],
      "text/plain": [
       "  seqname         source feature  start    end score strand frame  \\\n",
       "0   chr01  ST_annotation      TE  23365  24238     .      +     .   \n",
       "1   chr01  ST_annotation      TE  26437  27916     .      +     .   \n",
       "\n",
       "                                           attribute         te_id  \n",
       "0  TRIM_id:1163;source_name:RLX_family19_TRIM_ret...  TRIM_id:1163  \n",
       "1  TRIM_id:5841;source_name:RLX_family32_TRIM_ret...  TRIM_id:5841  "
      ]
     },
     "execution_count": 84,
     "metadata": {},
     "output_type": "execute_result"
    }
   ],
   "source": [
    "df_tes.head(2)"
   ]
  },
  {
   "cell_type": "code",
   "execution_count": 85,
   "metadata": {},
   "outputs": [
    {
     "name": "stdout",
     "output_type": "stream",
     "text": [
      "37482\n"
     ]
    }
   ],
   "source": [
    "df_genes['new_start'] = df_genes[['start','end']].min(axis=1)\n",
    "df_genes['new_send'] = df_genes[['start','end']].max(axis=1)\n",
    "df_genes['start'] = df_genes['new_start']\n",
    "df_genes['end'] = df_genes['new_send']\n",
    "df_genes = df_genes.drop('new_start',axis=1).drop('new_send',axis=1)\n",
    "df_genes.sort_values(['seqname', 'start'], inplace=True)\n",
    "print(len(df_genes.index))"
   ]
  },
  {
   "cell_type": "code",
   "execution_count": 86,
   "metadata": {},
   "outputs": [],
   "source": [
    "#load genome structure\n",
    "df_genes_genome = {}\n",
    "for k,chromosome in df_genome.iterrows():\n",
    "    df_genes_genome[chromosome.seqname] = df_genes[(df_genes.seqname == chromosome.seqname)].reset_index()"
   ]
  },
  {
   "cell_type": "code",
   "execution_count": 87,
   "metadata": {},
   "outputs": [],
   "source": [
    "#te_classes = ['LARD','SINE']"
   ]
  },
  {
   "cell_type": "code",
   "execution_count": 88,
   "metadata": {},
   "outputs": [
    {
     "name": "stdout",
     "output_type": "stream",
     "text": [
      "class: TRIM\n",
      "class: LARD\n",
      "class: LTR\n",
      "class: SINE\n",
      "class: LINE\n",
      "class: TIR\n",
      "class: helitron\n",
      "class: MITE\n"
     ]
    }
   ],
   "source": [
    "distances_all = {}\n",
    "for te_class in te_classes:\n",
    "    print(\"class: %s\" % (te_class,))\n",
    "    #calculate distance to closest gene\n",
    "    df_tes_class = df_tes[df_tes.attribute.str.contains(te_class + \"_id\")]\n",
    "    distances_all[te_class] = []\n",
    "    for k1, te in df_tes_class.iterrows():\n",
    "        te_id = \"%s %s_%s_%s\" % (te.te_id, te.seqname, te.start, te.end)\n",
    "        df_curr = df_genes_genome[te.seqname]\n",
    "        distances = []\n",
    "        distance_prev = False\n",
    "        for k2, gene in df_curr.iterrows():\n",
    "            gene_id = \"%s %s_%s_%s\" % (gene.gene_id, gene.seqname, gene.start, gene.end)\n",
    "            if te.start < gene.start:\n",
    "                first = te\n",
    "                second = gene\n",
    "            else:\n",
    "                first = gene\n",
    "                second = te\n",
    "            distance = max(0, second.start - first.end)\n",
    "            if distance_prev and distance > distance_prev:\n",
    "                break\n",
    "            distances.append((distance,te_id,gene_id))\n",
    "            distance_prev = distance\n",
    "        distances_all[te_class].append(min(distances, key=lambda x:x[0]))"
   ]
  },
  {
   "cell_type": "code",
   "execution_count": 89,
   "metadata": {},
   "outputs": [],
   "source": [
    "for te_class in te_classes:\n",
    "    distance = distances_all[te_class]\n",
    "    with open(\"data/results/dist_\" + te_class + \".csv\", \"w\") as f:\n",
    "        writer = csv.writer(f)\n",
    "        writer.writerows(distance)"
   ]
  },
  {
   "cell_type": "code",
   "execution_count": null,
   "metadata": {},
   "outputs": [],
   "source": []
  },
  {
   "cell_type": "code",
   "execution_count": null,
   "metadata": {},
   "outputs": [],
   "source": []
  },
  {
   "cell_type": "code",
   "execution_count": null,
   "metadata": {},
   "outputs": [],
   "source": []
  },
  {
   "cell_type": "code",
   "execution_count": null,
   "metadata": {},
   "outputs": [],
   "source": []
  },
  {
   "cell_type": "code",
   "execution_count": null,
   "metadata": {},
   "outputs": [],
   "source": []
  },
  {
   "cell_type": "code",
   "execution_count": 44,
   "metadata": {},
   "outputs": [],
   "source": [
    "import numpy as np\n",
    "import matplotlib.pyplot as plt"
   ]
  },
  {
   "cell_type": "code",
   "execution_count": 45,
   "metadata": {},
   "outputs": [
    {
     "data": {
      "image/png": "[encoded data removed]",
      "text/plain": [
       "<Figure size 432x288 with 1 Axes>"
      ]
     },
     "metadata": {
      "needs_background": "light"
     },
     "output_type": "display_data"
    }
   ],
   "source": [
    "a = np.histogram(distances_all['MITE'])\n",
    "plt.hist(a, bins='auto')\n",
    "plt.show()"
   ]
  },
  {
   "cell_type": "code",
   "execution_count": null,
   "metadata": {},
   "outputs": [],
   "source": []
  },
  {
   "cell_type": "code",
   "execution_count": null,
   "metadata": {},
   "outputs": [],
   "source": []
  },
  {
   "cell_type": "code",
   "execution_count": null,
   "metadata": {},
   "outputs": [],
   "source": []
  },
  {
   "cell_type": "code",
   "execution_count": null,
   "metadata": {},
   "outputs": [],
   "source": []
  },
  {
   "cell_type": "code",
   "execution_count": null,
   "metadata": {},
   "outputs": [],
   "source": []
  },
  {
   "cell_type": "code",
   "execution_count": null,
   "metadata": {},
   "outputs": [],
   "source": []
  },
  {
   "cell_type": "code",
   "execution_count": null,
   "metadata": {},
   "outputs": [],
   "source": [
    "distances_kb = {}\n",
    "distances_all = {}\n",
    "distances_kb_filtered = {}\n",
    "for te_class in te_classes:\n",
    "    #calculate distance to closest gene\n",
    "    df_tes_class = df_tes[df_tes.attribute.str.contains(te_class + \"_id\")]\n",
    "    distances = []\n",
    "    for k,v in df_tes_class.iterrows():\n",
    "        midd = (v.start + v.end) / 2\n",
    "        df_curr = df_genes_genome[v.seqname]\n",
    "        df_res = df_curr.loc[(df_curr.start - midd).abs().argsort()[:1]]\n",
    "        if len(df_res.index) > 0:\n",
    "            closest = (int(df_res.start) + int(df_res.end)) / 2\n",
    "            distance = abs(midd - closest)\n",
    "            distances.append(distance)\n",
    "        else:\n",
    "            print(v.seqname, midd)\n",
    "            print(df_res)\n",
    "            print(df_curr)\n",
    "            print('error')\n",
    "    print(te_class, min(distances), max(distances))\n",
    "    distances_kb[te_class] = []\n",
    "    for d in distances:\n",
    "        distances_kb[te_class].append(d/1000)\n",
    "    #! pip3 install seaborn\n",
    "    distances_kb_filtered[te_class] = []\n",
    "    for distance_kb in distances_kb[te_class]:\n",
    "        if distance_kb <= 500:\n",
    "            distances_kb_filtered[te_class].append(distance_kb)"
   ]
  },
  {
   "cell_type": "code",
   "execution_count": null,
   "metadata": {},
   "outputs": [],
   "source": [
    "for te_class in te_classes:\n",
    "    # seaborn histogram\n",
    "    plt.figure()\n",
    " \n",
    "    sns.distplot(distances_kb_filtered[te_class], hist=True, kde=False, \n",
    "                 bins=80, color = 'blue',\n",
    "                 hist_kws={'edgecolor':'black'},rug=False)\n",
    "    # Add labels\n",
    "    plt.title(te_class + ' distance to closest gene in the genome')\n",
    "    plt.xlabel('Distance to closest gene (kb)')\n",
    "    plt.ylabel('Number of ' + te_class)\n",
    "    plt.savefig('data/results/plots/histogram' + te_class + '.png', dpi=800,bbox_inches='tight')\n",
    "\n"
   ]
  },
  {
   "cell_type": "code",
   "execution_count": null,
   "metadata": {},
   "outputs": [],
   "source": []
  },
  {
   "cell_type": "code",
   "execution_count": null,
   "metadata": {},
   "outputs": [],
   "source": []
  }
 ],
 "metadata": {
  "kernelspec": {
   "display_name": "Python 3",
   "language": "python",
   "name": "python3"
  },
  "language_info": {
   "codemirror_mode": {
    "name": "ipython",
    "version": 3
   },
   "file_extension": ".py",
   "mimetype": "text/x-python",
   "name": "python",
   "nbconvert_exporter": "python",
   "pygments_lexer": "ipython3",
   "version": "3.6.5"
  }
 },
 "nbformat": 4,
 "nbformat_minor": 2
}
