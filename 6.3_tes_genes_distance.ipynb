{
 "cells": [
  {
   "cell_type": "code",
   "execution_count": 44,
   "metadata": {},
   "outputs": [],
   "source": [
    "import pandas as pd\n",
    "import matplotlib.pyplot as plt\n",
    "#import seaborn as sns\n",
    "path_gff_tes = 'data/results/all.noun.no00.gff'\n",
    "path_gff_genes = 'data/results/Stuberosum_genes_sin_chr0.gff3'\n",
    "path_genome = 'data/Stuberosum_genome.gff3'\n",
    "te_classes = ['TRIM', 'LARD','LTR','SINE', 'LINE','MITE', 'TIR','helitron']"
   ]
  },
  {
   "cell_type": "code",
   "execution_count": 45,
   "metadata": {},
   "outputs": [],
   "source": [
    "df_genome = pd.read_csv(path_genome, sep='\\t', header=None)\n",
    "df_genome.columns = ['seqname' , 'source' , 'feature' , 'start' , 'end' , 'score' , 'strand' , 'frame' , 'attribute']\n",
    "\n",
    "df_tes = pd.read_csv(path_gff_tes, sep='\\t', header=None)\n",
    "df_tes.columns = ['seqname' , 'source' , 'feature' , 'start' , 'end' , 'score' , 'strand' , 'frame' , 'attribute']\n",
    "\n",
    "df_genes = pd.read_csv(path_gff_genes, sep='\\t', header=None)\n",
    "df_genes.columns = ['seqname' , 'source' , 'feature' , 'start' , 'end' , 'score' , 'strand' , 'frame' , 'attribute']\n"
   ]
  },
  {
   "cell_type": "code",
   "execution_count": 46,
   "metadata": {},
   "outputs": [
    {
     "name": "stdout",
     "output_type": "stream",
     "text": [
      "227947\n"
     ]
    }
   ],
   "source": [
    "print(len(df_tes.index))"
   ]
  },
  {
   "cell_type": "code",
   "execution_count": 47,
   "metadata": {},
   "outputs": [],
   "source": [
    "df_genes['new_start'] = df_genes[['start','end']].min(axis=1)\n",
    "df_genes['new_send'] = df_genes[['start','end']].max(axis=1)\n",
    "df_genes['start'] = df_genes['new_start']\n",
    "df_genes['end'] = df_genes['new_send']\n",
    "df_genes = df_genes.drop('new_start',axis=1).drop('new_send',axis=1)\n",
    "df_genes.sort_values(['seqname', 'start'], inplace=True)"
   ]
  },
  {
   "cell_type": "code",
   "execution_count": 48,
   "metadata": {},
   "outputs": [
    {
     "name": "stdout",
     "output_type": "stream",
     "text": [
      "37482\n"
     ]
    }
   ],
   "source": [
    "print(len(df_genes.index))"
   ]
  },
  {
   "cell_type": "code",
   "execution_count": 49,
   "metadata": {},
   "outputs": [],
   "source": [
    "#load genome structure\n",
    "df_genes_genome = {}\n",
    "for k,chromosome in df_genome.iterrows():\n",
    "    df_genes_genome[chromosome.seqname] = df_genes[(df_genes.seqname == chromosome.seqname)].reset_index()"
   ]
  },
  {
   "cell_type": "code",
   "execution_count": 50,
   "metadata": {},
   "outputs": [
    {
     "name": "stdout",
     "output_type": "stream",
     "text": [
      "TRIM 11630 748\n",
      "LARD 5 3\n",
      "LTR 172509 15550\n",
      "SINE 2413 539\n",
      "LINE 164 48\n",
      "MITE 36854 2604\n",
      "TIR 3264 328\n",
      "helitron 1108 262\n"
     ]
    }
   ],
   "source": [
    "distances_kb = {}\n",
    "distances_kb_filtered = {}\n",
    "for te_class in te_classes:\n",
    "    touch_gene = 0\n",
    "    #calculate distance to closest gene\n",
    "    df_tes_class = df_tes[df_tes.attribute.str.contains(te_class + \"_id\")]\n",
    "    for k,v in df_tes_class.iterrows():\n",
    "        df_curr = df_genes_genome[v.seqname]\n",
    "        df_curr = df_curr[(df_curr.end >= v.start)  & (df_curr.start <= v.end )]\n",
    "        if len(df_curr.index) > 0:\n",
    "            touch_gene += 1\n",
    "    total_len = len(df_tes_class.index)\n",
    "    print(te_class, total_len, touch_gene)"
   ]
  },
  {
   "cell_type": "code",
   "execution_count": null,
   "metadata": {},
   "outputs": [],
   "source": []
  },
  {
   "cell_type": "code",
   "execution_count": null,
   "metadata": {},
   "outputs": [],
   "source": [
    "for te_class in te_classes:\n",
    "    # seaborn histogram\n",
    "    plt.figure()\n",
    " \n",
    "    sns.distplot(distances_kb_filtered[te_class], hist=True, kde=False, \n",
    "                 bins=80, color = 'blue',\n",
    "                 hist_kws={'edgecolor':'black'},rug=False)\n",
    "    # Add labels\n",
    "    plt.title(te_class + ' distance to closest gene in the genome')\n",
    "    plt.xlabel('Distance to closest gene (kb)')\n",
    "    plt.ylabel('Number of ' + te_class)\n",
    "    plt.savefig('data/results/plots/histogram' + te_class + '.png', dpi=800,bbox_inches='tight')\n",
    "\n"
   ]
  },
  {
   "cell_type": "code",
   "execution_count": 34,
   "metadata": {},
   "outputs": [
    {
     "data": {
      "text/plain": [
       "['TRIM', 'LARD', 'LTR', 'SINE', 'LINE', 'MITE', 'TIR', 'helitron']"
      ]
     },
     "execution_count": 34,
     "metadata": {},
     "output_type": "execute_result"
    }
   ],
   "source": []
  },
  {
   "cell_type": "code",
   "execution_count": null,
   "metadata": {},
   "outputs": [],
   "source": []
  }
 ],
 "metadata": {
  "kernelspec": {
   "display_name": "Python 3",
   "language": "python",
   "name": "python3"
  },
  "language_info": {
   "codemirror_mode": {
    "name": "ipython",
    "version": 3
   },
   "file_extension": ".py",
   "mimetype": "text/x-python",
   "name": "python",
   "nbconvert_exporter": "python",
   "pygments_lexer": "ipython3",
   "version": "3.6.5"
  }
 },
 "nbformat": 4,
 "nbformat_minor": 2
}
