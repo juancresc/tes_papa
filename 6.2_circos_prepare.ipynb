{
 "cells": [
  {
   "cell_type": "code",
   "execution_count": 1,
   "metadata": {},
   "outputs": [],
   "source": [
    "# library\n",
    "import numpy as np\n",
    "import gff2coverage\n",
    "import pandas as pd\n",
    "import csv\n",
    "%matplotlib inline\n",
    "import matplotlib.pyplot as plt"
   ]
  },
  {
   "cell_type": "code",
   "execution_count": 2,
   "metadata": {},
   "outputs": [],
   "source": [
    "path_gff = 'data/results/all.gff'\n",
    "path_genome = 'data/Stuberosum_genome.gff3'\n",
    "te_classes = ['SINE']#, 'LARD','LTR','SINE', 'LINE','MITE', 'TIR','helitron']\n",
    "unit_value = 1000000"
   ]
  },
  {
   "cell_type": "code",
   "execution_count": 3,
   "metadata": {},
   "outputs": [],
   "source": [
    "#load chromosomal srtucture\n",
    "df_genome = pd.read_csv(path_genome, sep='\\t', header=None)\n",
    "df_genome.columns = ['seqname' , 'source' , 'feature' , 'start' , 'end' , 'score' , 'strand' , 'frame' , 'attribute']\n"
   ]
  },
  {
   "cell_type": "code",
   "execution_count": 4,
   "metadata": {},
   "outputs": [],
   "source": [
    "#load data\n",
    "df = pd.read_csv(path_gff, sep='\\t')\n",
    "df.columns = ['seqname' , 'source' , 'feature' , 'start' , 'end' , 'score' , 'strand' , 'frame' , 'attribute']"
   ]
  },
  {
   "cell_type": "code",
   "execution_count": 5,
   "metadata": {},
   "outputs": [],
   "source": [
    "# sep by chr\n",
    "dfs = {}\n",
    "for seq in df.seqname.unique():\n",
    "    dfs[seq] = df[df.seqname == seq]"
   ]
  },
  {
   "cell_type": "code",
   "execution_count": 6,
   "metadata": {},
   "outputs": [
    {
     "name": "stdout",
     "output_type": "stream",
     "text": [
      "SINE\n",
      "chr01: elements count: 39484 max: 88663952\n",
      "chr02: elements count: 21403 max: 48614681\n",
      "chr03: elements count: 24983 max: 62290286\n",
      "chr04: elements count: 26917 max: 72208621\n",
      "chr05: elements count: 21582 max: 52070158\n",
      "chr06: elements count: 21919 max: 59532096\n",
      "chr07: elements count: 30947 max: 56760843\n",
      "chr08: elements count: 27022 max: 56938457\n",
      "chr09: elements count: 22723 max: 61540751\n",
      "chr10: elements count: 27851 max: 59756223\n",
      "chr11: elements count: 19894 max: 45475667\n",
      "chr12: elements count: 42289 max: 61165649\n"
     ]
    }
   ],
   "source": [
    "max_chrs = {}\n",
    "for te_class in te_classes:\n",
    "    print(te_class)\n",
    "    out = []\n",
    "    outcsv = open('data/results/circos/' + te_class + '.csv', 'wb')\n",
    "    wr = csv.writer(outcsv, quoting=csv.QUOTE_NONE, delimiter='\\t')\n",
    "    for chr_num in range(1, 13):\n",
    "        chr_name = 'chr' + str(chr_num).zfill(2)\n",
    "        df_genome_chr = df_genome[df_genome.seqname == chr_name]\n",
    "        max_chr = df_genome_chr.iloc[0].end\n",
    "        max_chrs[chr_num] = max_chr\n",
    "        df_chr = dfs[chr_name]\n",
    "        print('%s: elements count: %i max: %i' % (chr_name, len(df_chr.index), max_chr) )\n",
    "        step = 1 # in mb\n",
    "        bins = (max_chr / unit_value) \n",
    "        x = np.arange(0, bins + step, step)\n",
    "        y = []\n",
    "        current = []\n",
    "        for i in np.arange(0, bins + step, step):\n",
    "            nt_start = i * unit_value\n",
    "            nt_end = (i * unit_value) + (unit_value * step) - 1\n",
    "            if(nt_end > max_chr):\n",
    "                nt_end = max_chr\n",
    "            df_res = df_chr[((df_chr.start + df_chr.end) / 2 >= nt_start) & ((df_chr.start + df_chr.end) / 2 <= nt_end) & (df_chr.attribute.str.contains(te_class))]\n",
    "            coverage = gff2coverage.calc_coverage_part(df_res, unit_value)\n",
    "            outlist = [chr_name, nt_start, nt_end, coverage]\n",
    "            wr.writerow(outlist)\n",
    "    outcsv.close()\n"
   ]
  },
  {
   "cell_type": "code",
   "execution_count": null,
   "metadata": {},
   "outputs": [],
   "source": []
  },
  {
   "cell_type": "code",
   "execution_count": null,
   "metadata": {},
   "outputs": [],
   "source": []
  },
  {
   "cell_type": "code",
   "execution_count": null,
   "metadata": {},
   "outputs": [],
   "source": []
  },
  {
   "cell_type": "code",
   "execution_count": null,
   "metadata": {},
   "outputs": [],
   "source": []
  },
  {
   "cell_type": "code",
   "execution_count": null,
   "metadata": {},
   "outputs": [],
   "source": []
  }
 ],
 "metadata": {
  "kernelspec": {
   "display_name": "Python 3",
   "language": "python",
   "name": "python3"
  },
  "language_info": {
   "codemirror_mode": {
    "name": "ipython",
    "version": 2
   },
   "file_extension": ".py",
   "mimetype": "text/x-python",
   "name": "python",
   "nbconvert_exporter": "python",
   "pygments_lexer": "ipython2",
   "version": "2.7.15"
  }
 },
 "nbformat": 4,
 "nbformat_minor": 2
}
