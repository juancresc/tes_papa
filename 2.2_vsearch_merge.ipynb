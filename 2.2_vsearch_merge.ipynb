{
 "cells": [
  {
   "cell_type": "code",
   "execution_count": 16,
   "metadata": {},
   "outputs": [],
   "source": [
    "from Bio import SeqIO\n",
    "from Bio.SeqRecord import SeqRecord\n",
    "from os import listdir\n",
    "from os.path import isfile, join"
   ]
  },
  {
   "cell_type": "code",
   "execution_count": 17,
   "metadata": {},
   "outputs": [],
   "source": [
    "def find_between(s, first, last):\n",
    "    try:\n",
    "        start = s.index(first) + len(first)\n",
    "        end = s.index( last, start )\n",
    "        return s[start:end]\n",
    "    except ValueError:\n",
    "        return \"\""
   ]
  },
  {
   "cell_type": "code",
   "execution_count": 18,
   "metadata": {},
   "outputs": [],
   "source": [
    "path_cluster = 'data/results/clusters_mites'\n",
    "path_outfile = 'data/results/mites_clustered.fasta'\n",
    "te_name = \"mite\""
   ]
  },
  {
   "cell_type": "code",
   "execution_count": 25,
   "metadata": {},
   "outputs": [],
   "source": [
    "path_cluster = 'data/results/clusters_tirs'\n",
    "path_outfile = 'data/results/tirs_clustered.fasta'\n",
    "te_name = \"tir\""
   ]
  },
  {
   "cell_type": "code",
   "execution_count": 29,
   "metadata": {},
   "outputs": [],
   "source": [
    "#helitrons\n",
    "path_cluster = 'data/results/clusters_helitrons'\n",
    "path_outfile = 'data/results/helitrons_clustered.fasta'\n",
    "te_name = \"helitron\""
   ]
  },
  {
   "cell_type": "code",
   "execution_count": 45,
   "metadata": {},
   "outputs": [],
   "source": [
    "#ltrs\n",
    "path_cluster = 'data/results/clusters_ltr'\n",
    "path_outfile = 'data/results/ltr_clustered.fasta'\n",
    "te_name = \"ltr\""
   ]
  },
  {
   "cell_type": "code",
   "execution_count": 42,
   "metadata": {},
   "outputs": [],
   "source": [
    "#sine\n",
    "path_cluster = 'data/results/clusters_sine'\n",
    "path_outfile = 'data/results/sine_clustered.fasta'\n",
    "te_name = \"sine\""
   ]
  },
  {
   "cell_type": "code",
   "execution_count": 38,
   "metadata": {},
   "outputs": [],
   "source": [
    "#line\n",
    "path_cluster = 'data/results/clusters_line'\n",
    "path_outfile = 'data/results/line_clustered.fasta'\n",
    "te_name = \"line\""
   ]
  },
  {
   "cell_type": "code",
   "execution_count": 46,
   "metadata": {},
   "outputs": [
    {
     "data": {
      "text/plain": [
       "('data/results/clusters_ltr', 'data/results/ltr_clustered.fasta', 'ltr')"
      ]
     },
     "execution_count": 46,
     "metadata": {},
     "output_type": "execute_result"
    }
   ],
   "source": [
    "path_cluster, path_outfile, te_name"
   ]
  },
  {
   "cell_type": "code",
   "execution_count": 47,
   "metadata": {},
   "outputs": [],
   "source": [
    "records = []\n",
    "files = [f for f in listdir(path_cluster) if isfile(join(path_cluster, f))]\n",
    "inc_id = 1\n",
    "for file in files:\n",
    "    fasta_seqs = SeqIO.parse(join(path_cluster, file), \"fasta\")\n",
    "    first_record = False\n",
    "    ids = []\n",
    "    for record in fasta_seqs:\n",
    "        if not first_record:\n",
    "            record_buff = record\n",
    "            first_record = True\n",
    "        ids.append('[' + find_between(record.id,'[',']') + ']')\n",
    "    new_id = te_name + \"_id_\" + str(inc_id) + \"_\" + record_buff.id + ''.join(ids)\n",
    "    seq = SeqRecord(record_buff.seq, id=new_id, description='')\n",
    "    records.append(seq)\n",
    "    inc_id += 1"
   ]
  },
  {
   "cell_type": "code",
   "execution_count": 48,
   "metadata": {},
   "outputs": [
    {
     "data": {
      "text/plain": [
       "'data/results/ltr_clustered.fasta'"
      ]
     },
     "execution_count": 48,
     "metadata": {},
     "output_type": "execute_result"
    }
   ],
   "source": [
    "SeqIO.write(records, path_outfile, \"fasta\")\n",
    "path_outfile"
   ]
  },
  {
   "cell_type": "markdown",
   "metadata": {},
   "source": []
  },
  {
   "cell_type": "code",
   "execution_count": null,
   "metadata": {},
   "outputs": [],
   "source": []
  }
 ],
 "metadata": {
  "kernelspec": {
   "display_name": "Python 3",
   "language": "python",
   "name": "python3"
  },
  "language_info": {
   "codemirror_mode": {
    "name": "ipython",
    "version": 2
   },
   "file_extension": ".py",
   "mimetype": "text/x-python",
   "name": "python",
   "nbconvert_exporter": "python",
   "pygments_lexer": "ipython2",
   "version": "2.7.15"
  }
 },
 "nbformat": 4,
 "nbformat_minor": 2
}
