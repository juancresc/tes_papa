{
 "cells": [
  {
   "cell_type": "code",
   "execution_count": 6,
   "metadata": {},
   "outputs": [],
   "source": [
    "from Bio import SeqIO\n",
    "from Bio.SeqRecord import SeqRecord\n",
    "from os import listdir\n",
    "from os.path import isfile, join"
   ]
  },
  {
   "cell_type": "code",
   "execution_count": 7,
   "metadata": {},
   "outputs": [],
   "source": [
    "def find_between(s, first, last):\n",
    "    try:\n",
    "        start = s.index(first) + len(first)\n",
    "        end = s.index( last, start )\n",
    "        return s[start:end]\n",
    "    except ValueError:\n",
    "        return \"\""
   ]
  },
  {
   "cell_type": "code",
   "execution_count": 3,
   "metadata": {},
   "outputs": [],
   "source": [
    "path_cluster = 'data/results/clusters_mites'\n",
    "path_outfile = 'data/results/mites_clustered.fasta'"
   ]
  },
  {
   "cell_type": "code",
   "execution_count": 4,
   "metadata": {},
   "outputs": [],
   "source": [
    "path_cluster = 'data/results/clusters_tirs'\n",
    "path_outfile = 'data/results/tirs_clustered.fasta'"
   ]
  },
  {
   "cell_type": "code",
   "execution_count": 5,
   "metadata": {},
   "outputs": [],
   "source": [
    "#helitrons\n",
    "path_cluster = 'data/results/clusters_helitrons'\n",
    "path_outfile = 'data/results/helitrons_clustered.fasta'"
   ]
  },
  {
   "cell_type": "code",
   "execution_count": 6,
   "metadata": {},
   "outputs": [],
   "source": [
    "#ltrs\n",
    "path_cluster = 'data/results/clusters_ltr'\n",
    "path_outfile = 'data/results/ltr_clustered.fasta'"
   ]
  },
  {
   "cell_type": "code",
   "execution_count": 3,
   "metadata": {},
   "outputs": [],
   "source": [
    "#sine\n",
    "path_cluster = 'data/results/clusters_sine'\n",
    "path_outfile = 'data/results/sine_clustered.fasta'"
   ]
  },
  {
   "cell_type": "code",
   "execution_count": 8,
   "metadata": {},
   "outputs": [],
   "source": [
    "#line\n",
    "path_cluster = 'data/results/clusters_line'\n",
    "path_outfile = 'data/results/line_clustered.fasta'"
   ]
  },
  {
   "cell_type": "code",
   "execution_count": 9,
   "metadata": {},
   "outputs": [],
   "source": [
    "records = []\n",
    "files = [f for f in listdir(path_cluster) if isfile(join(path_cluster, f))]\n",
    "for file in files:\n",
    "    fasta_seqs = SeqIO.parse(join(path_cluster, file), \"fasta\")\n",
    "    first_record = False\n",
    "    ids = []\n",
    "    for record in fasta_seqs:\n",
    "        if not first_record:\n",
    "            record_buff = record\n",
    "            first_record = True\n",
    "        ids.append('[' + find_between(record.id,'[',']') + ']')\n",
    "    new_id = record_buff.id + ''.join(ids)\n",
    "    seq = SeqRecord(record_buff.seq, id=new_id, description='')\n",
    "    records.append(seq)"
   ]
  },
  {
   "cell_type": "code",
   "execution_count": 10,
   "metadata": {},
   "outputs": [
    {
     "data": {
      "text/plain": [
       "'data/results/line_clustered.fasta'"
      ]
     },
     "execution_count": 10,
     "metadata": {},
     "output_type": "execute_result"
    }
   ],
   "source": [
    "SeqIO.write(records, path_outfile, \"fasta\")\n",
    "path_outfile"
   ]
  },
  {
   "cell_type": "code",
   "execution_count": null,
   "metadata": {},
   "outputs": [],
   "source": []
  }
 ],
 "metadata": {
  "kernelspec": {
   "display_name": "Python 3",
   "language": "python",
   "name": "python3"
  },
  "language_info": {
   "codemirror_mode": {
    "name": "ipython",
    "version": 2
   },
   "file_extension": ".py",
   "mimetype": "text/x-python",
   "name": "python",
   "nbconvert_exporter": "python",
   "pygments_lexer": "ipython2",
   "version": "2.7.15"
  }
 },
 "nbformat": 4,
 "nbformat_minor": 2
}
