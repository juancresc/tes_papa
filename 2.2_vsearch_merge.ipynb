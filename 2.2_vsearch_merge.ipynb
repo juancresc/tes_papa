{
 "cells": [
  {
   "cell_type": "code",
   "execution_count": 33,
   "metadata": {},
   "outputs": [],
   "source": [
    "from Bio import SeqIO\n",
    "from Bio.SeqRecord import SeqRecord\n",
    "from os import listdir\n",
    "from os.path import isfile, join"
   ]
  },
  {
   "cell_type": "code",
   "execution_count": 34,
   "metadata": {},
   "outputs": [
    {
     "name": "stdout",
     "output_type": "stream",
     "text": [
      "('Running for', 'MITE')\n"
     ]
    }
   ],
   "source": [
    "te_type = 'MITE'\n",
    "print('Running for', te_type)"
   ]
  },
  {
   "cell_type": "code",
   "execution_count": 35,
   "metadata": {},
   "outputs": [],
   "source": [
    "def find_between(s, first, last):\n",
    "    try:\n",
    "        start = s.index(first) + len(first)\n",
    "        end = s.index( last, start )\n",
    "        return s[start:end]\n",
    "    except ValueError:\n",
    "        return \"\""
   ]
  },
  {
   "cell_type": "code",
   "execution_count": 36,
   "metadata": {},
   "outputs": [],
   "source": [
    "if te_type == 'MITE':\n",
    "    path_cluster = 'data/results/clusters_mite'\n",
    "    path_outfile = 'data/results/mite_clustered.fasta'\n",
    "if te_type == 'TRIM':\n",
    "    path_cluster = 'data/results/clusters_trim'\n",
    "    path_outfile = 'data/results/trim_clustered.fasta'\n",
    "if te_type == 'LARD':\n",
    "    path_cluster = 'data/results/clusters_lard'\n",
    "    path_outfile = 'data/results/lard_clustered.fasta'\n",
    "if te_type == 'TIR':\n",
    "    path_cluster = 'data/results/clusters_tirs'\n",
    "    path_outfile = 'data/results/tirs_clustered.fasta'\n",
    "if te_type == 'helitron':\n",
    "    path_cluster = 'data/results/clusters_helitrons'\n",
    "    path_outfile = 'data/results/helitrons_clustered.fasta'\n",
    "if te_type == 'LTR':\n",
    "    #ltrs\n",
    "    path_cluster = 'data/results/clusters_ltr'\n",
    "    path_outfile = 'data/results/ltr_clustered.fasta'\n",
    "if te_type == 'LTR':\n",
    "    #ltrs\n",
    "    path_cluster = 'data/results/clusters_ltr'\n",
    "    path_outfile = 'data/results/ltr_clustered.fasta'\n",
    "if te_type == 'LINE':\n",
    "    #line\n",
    "    path_cluster = 'data/results/clusters_line'\n",
    "    path_outfile = 'data/results/line_clustered.fasta'\n",
    "if te_type == 'SINE':\n",
    "    #sine\n",
    "    path_cluster = 'data/results/clusters_sine'\n",
    "    path_outfile = 'data/results/sine_clustered.fasta'"
   ]
  },
  {
   "cell_type": "code",
   "execution_count": 37,
   "metadata": {},
   "outputs": [
    {
     "data": {
      "text/plain": [
       "('data/results/clusters_mite', 'data/results/mite_clustered.fasta', 'MITE')"
      ]
     },
     "execution_count": 37,
     "metadata": {},
     "output_type": "execute_result"
    }
   ],
   "source": [
    "path_cluster, path_outfile, te_type"
   ]
  },
  {
   "cell_type": "code",
   "execution_count": 38,
   "metadata": {},
   "outputs": [],
   "source": [
    "records = []\n",
    "files = [f for f in listdir(path_cluster) if isfile(join(path_cluster, f))]\n",
    "inc_id = 1\n",
    "for file in files:\n",
    "    fasta_seqs = SeqIO.parse(join(path_cluster, file), \"fasta\")\n",
    "    first_record = False\n",
    "    ids = []\n",
    "    for record in fasta_seqs:\n",
    "        if not first_record:\n",
    "            record_buff = record\n",
    "            first_record = True\n",
    "        ids.append('[' + find_between(record.id,'[',']') + ']')\n",
    "    new_id = te_type + \"_id_\" + str(inc_id) + \"_\" + record_buff.id + ''.join(ids)\n",
    "    seq = SeqRecord(record_buff.seq, id=new_id, description='')\n",
    "    records.append(seq)\n",
    "    inc_id += 1"
   ]
  },
  {
   "cell_type": "code",
   "execution_count": 39,
   "metadata": {},
   "outputs": [
    {
     "data": {
      "text/plain": [
       "'data/results/mite_clustered.fasta'"
      ]
     },
     "execution_count": 39,
     "metadata": {},
     "output_type": "execute_result"
    }
   ],
   "source": [
    "SeqIO.write(records, path_outfile, \"fasta\")\n",
    "path_outfile"
   ]
  },
  {
   "cell_type": "code",
   "execution_count": null,
   "metadata": {},
   "outputs": [],
   "source": []
  }
 ],
 "metadata": {
  "kernelspec": {
   "display_name": "Python 3",
   "language": "python",
   "name": "python3"
  },
  "language_info": {
   "codemirror_mode": {
    "name": "ipython",
    "version": 2
   },
   "file_extension": ".py",
   "mimetype": "text/x-python",
   "name": "python",
   "nbconvert_exporter": "python",
   "pygments_lexer": "ipython2",
   "version": "2.7.15"
  }
 },
 "nbformat": 4,
 "nbformat_minor": 2
}
