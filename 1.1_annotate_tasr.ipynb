{
 "cells": [
  {
   "cell_type": "code",
   "execution_count": 58,
   "metadata": {},
   "outputs": [],
   "source": [
    "from Bio import SeqIO\n",
    "from Bio.SeqRecord import SeqRecord\n",
    "from Bio.Seq import Seq\n",
    "import pandas as pd\n",
    "from os import listdir\n",
    "from os.path import isfile, join"
   ]
  },
  {
   "cell_type": "code",
   "execution_count": 59,
   "metadata": {},
   "outputs": [],
   "source": [
    "path_tasr = 'data/fasta/TASR'\n",
    "file_class = 'data/fasta/PASTEC.classif.csv'"
   ]
  },
  {
   "cell_type": "code",
   "execution_count": 60,
   "metadata": {},
   "outputs": [],
   "source": [
    "df_class = pd.read_csv(file_class, sep='\\t', header=None)"
   ]
  },
  {
   "cell_type": "code",
   "execution_count": 61,
   "metadata": {},
   "outputs": [
    {
     "data": {
      "text/html": [
       "<div>\n",
       "<style scoped>\n",
       "    .dataframe tbody tr th:only-of-type {\n",
       "        vertical-align: middle;\n",
       "    }\n",
       "\n",
       "    .dataframe tbody tr th {\n",
       "        vertical-align: top;\n",
       "    }\n",
       "\n",
       "    .dataframe thead th {\n",
       "        text-align: right;\n",
       "    }\n",
       "</style>\n",
       "<table border=\"1\" class=\"dataframe\">\n",
       "  <thead>\n",
       "    <tr style=\"text-align: right;\">\n",
       "      <th></th>\n",
       "      <th>0</th>\n",
       "      <th>1</th>\n",
       "      <th>2</th>\n",
       "      <th>3</th>\n",
       "      <th>4</th>\n",
       "      <th>5</th>\n",
       "      <th>6</th>\n",
       "      <th>7</th>\n",
       "    </tr>\n",
       "  </thead>\n",
       "  <tbody>\n",
       "    <tr>\n",
       "      <th>0</th>\n",
       "      <td>FAM000002</td>\n",
       "      <td>372</td>\n",
       "      <td>.</td>\n",
       "      <td>ok</td>\n",
       "      <td>noCat</td>\n",
       "      <td>noCat</td>\n",
       "      <td>NaN</td>\n",
       "      <td>CI=NA; struct=(TermRepeats: non-termLTR: 155; ...</td>\n",
       "    </tr>\n",
       "    <tr>\n",
       "      <th>1</th>\n",
       "      <td>FAM000003</td>\n",
       "      <td>4291</td>\n",
       "      <td>-</td>\n",
       "      <td>ok</td>\n",
       "      <td>I</td>\n",
       "      <td>LTR</td>\n",
       "      <td>incomplete</td>\n",
       "      <td>CI=35; coding=(TE_BLRtx: Gypsy-23_ST-LTR:Class...</td>\n",
       "    </tr>\n",
       "    <tr>\n",
       "      <th>2</th>\n",
       "      <td>FAM000004</td>\n",
       "      <td>2239</td>\n",
       "      <td>.</td>\n",
       "      <td>ok</td>\n",
       "      <td>noCat</td>\n",
       "      <td>noCat</td>\n",
       "      <td>NaN</td>\n",
       "      <td>CI=NA; struct=(TermRepeats: non-termLTR: 172; ...</td>\n",
       "    </tr>\n",
       "    <tr>\n",
       "      <th>3</th>\n",
       "      <td>FAM000007</td>\n",
       "      <td>371</td>\n",
       "      <td>.</td>\n",
       "      <td>ok</td>\n",
       "      <td>II</td>\n",
       "      <td>MITE</td>\n",
       "      <td>NaN</td>\n",
       "      <td>CI=20; struct=(TElength: &lt;700bps; TermRepeats:...</td>\n",
       "    </tr>\n",
       "    <tr>\n",
       "      <th>4</th>\n",
       "      <td>FAM000015</td>\n",
       "      <td>483</td>\n",
       "      <td>-</td>\n",
       "      <td>ok</td>\n",
       "      <td>II</td>\n",
       "      <td>MITE</td>\n",
       "      <td>NaN</td>\n",
       "      <td>CI=20; struct=(TElength: &lt;700bps; TermRepeats:...</td>\n",
       "    </tr>\n",
       "  </tbody>\n",
       "</table>\n",
       "</div>"
      ],
      "text/plain": [
       "           0     1  2   3      4      5           6  \\\n",
       "0  FAM000002   372  .  ok  noCat  noCat         NaN   \n",
       "1  FAM000003  4291  -  ok      I    LTR  incomplete   \n",
       "2  FAM000004  2239  .  ok  noCat  noCat         NaN   \n",
       "3  FAM000007   371  .  ok     II   MITE         NaN   \n",
       "4  FAM000015   483  -  ok     II   MITE         NaN   \n",
       "\n",
       "                                                   7  \n",
       "0  CI=NA; struct=(TermRepeats: non-termLTR: 155; ...  \n",
       "1  CI=35; coding=(TE_BLRtx: Gypsy-23_ST-LTR:Class...  \n",
       "2  CI=NA; struct=(TermRepeats: non-termLTR: 172; ...  \n",
       "3  CI=20; struct=(TElength: <700bps; TermRepeats:...  \n",
       "4  CI=20; struct=(TElength: <700bps; TermRepeats:...  "
      ]
     },
     "execution_count": 61,
     "metadata": {},
     "output_type": "execute_result"
    }
   ],
   "source": [
    "df_class.head()"
   ]
  },
  {
   "cell_type": "code",
   "execution_count": 62,
   "metadata": {},
   "outputs": [
    {
     "name": "stdout",
     "output_type": "stream",
     "text": [
      "data/fasta/TASR/ann.LTRs_TASR_ClassI_families.fasta\n",
      "data/fasta/TASR/ann.TIRs_TASR_ClassII_families.fasta\n",
      "data/fasta/TASR/ann.TRIMs_TASR_ClassI_families.fasta\n",
      "data/fasta/TASR/ann.MITEs_TASR_ClassII_families.fasta\n",
      "data/fasta/TASR/ann.Helitrons_TASR_ClassII_families.fasta\n",
      "data/fasta/TASR/ann.SINEs_TASR_ClassI_families.fasta\n",
      "data/fasta/TASR/ann.LINEs_TASR_ClassI_families.fasta\n",
      "data/fasta/TASR/ann.LARDs_TASR_ClassI_families.fasta\n"
     ]
    }
   ],
   "source": [
    "files = [f for f in listdir(path_tasr) if isfile(join(path_tasr, f))]\n",
    "for file in files:\n",
    "    if \"ann\" in file:\n",
    "        continue\n",
    "    file_path = join(path_tasr, file)\n",
    "    records = []\n",
    "    fasta_seqs = SeqIO.parse(file_path, \"fasta\")\n",
    "    count = 1\n",
    "    for record in fasta_seqs:\n",
    "        if not \"FAM\" in record.id:\n",
    "            records.append(record)\n",
    "            continue\n",
    "        family = \"FAM\" + record.id.split(\"FAM\",1)[1] \n",
    "        df_res = df_class[df_class[0] == family]\n",
    "        new_id = record.id\n",
    "        new_class = ''\n",
    "        if(len(df_res.index) > 0):\n",
    "            te_type = df_res.iloc[0][5]\n",
    "            classification = df_res.iloc[0][7]\n",
    "            if 'ClassII' in classification:\n",
    "                new_class = classification.split('ClassII')[1].split(':')[2]\n",
    "            elif 'ClassI' in classification:\n",
    "                new_class = classification.split('ClassI')[1].split(':')[2]\n",
    "            new_id = te_type + '_' + new_class + '_' + str(count)\n",
    "            count += 1\n",
    "        seq = SeqRecord(record.seq, id=new_id, description=record.id)\n",
    "        records.append(seq)\n",
    "    new_file_path = join(path_tasr, 'ann.' + file)\n",
    "    SeqIO.write(records, new_file_path, \"fasta\")\n",
    "    print(new_file_path)"
   ]
  },
  {
   "cell_type": "code",
   "execution_count": null,
   "metadata": {},
   "outputs": [],
   "source": []
  },
  {
   "cell_type": "code",
   "execution_count": null,
   "metadata": {},
   "outputs": [],
   "source": []
  }
 ],
 "metadata": {
  "kernelspec": {
   "display_name": "Python 3",
   "language": "python",
   "name": "python3"
  },
  "language_info": {
   "codemirror_mode": {
    "name": "ipython",
    "version": 2
   },
   "file_extension": ".py",
   "mimetype": "text/x-python",
   "name": "python",
   "nbconvert_exporter": "python",
   "pygments_lexer": "ipython2",
   "version": "2.7.15"
  }
 },
 "nbformat": 4,
 "nbformat_minor": 2
}
