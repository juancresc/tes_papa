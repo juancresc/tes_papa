{
 "cells": [
  {
   "cell_type": "code",
   "execution_count": 7,
   "metadata": {},
   "outputs": [],
   "source": [
    "import pandas as pd"
   ]
  },
  {
   "cell_type": "code",
   "execution_count": 8,
   "metadata": {},
   "outputs": [],
   "source": [
    "path_ages = \"data/db/potato_dm_v404_all_pm_un_tephra_ltr-tir_age_summary.tsv\"\n",
    "path_tes = \"data/db/out.gff\""
   ]
  },
  {
   "cell_type": "code",
   "execution_count": 9,
   "metadata": {},
   "outputs": [
    {
     "name": "stdout",
     "output_type": "stream",
     "text": [
      "1614\n"
     ]
    },
    {
     "data": {
      "text/html": [
       "<div>\n",
       "<style scoped>\n",
       "    .dataframe tbody tr th:only-of-type {\n",
       "        vertical-align: middle;\n",
       "    }\n",
       "\n",
       "    .dataframe tbody tr th {\n",
       "        vertical-align: top;\n",
       "    }\n",
       "\n",
       "    .dataframe thead th {\n",
       "        text-align: right;\n",
       "    }\n",
       "</style>\n",
       "<table border=\"1\" class=\"dataframe\">\n",
       "  <thead>\n",
       "    <tr style=\"text-align: right;\">\n",
       "      <th></th>\n",
       "      <th>Superfamily</th>\n",
       "      <th>Family</th>\n",
       "      <th>Family_size</th>\n",
       "      <th>ElementID</th>\n",
       "      <th>Divergence</th>\n",
       "      <th>Age</th>\n",
       "      <th>Ts:Tv</th>\n",
       "    </tr>\n",
       "  </thead>\n",
       "  <tbody>\n",
       "    <tr>\n",
       "      <th>0</th>\n",
       "      <td>Copia</td>\n",
       "      <td>RLC_family0</td>\n",
       "      <td>43</td>\n",
       "      <td>RLC_family0_exemplar</td>\n",
       "      <td>0.0471</td>\n",
       "      <td>2355000</td>\n",
       "      <td>3.2242</td>\n",
       "    </tr>\n",
       "    <tr>\n",
       "      <th>1</th>\n",
       "      <td>Copia</td>\n",
       "      <td>RLC_family1</td>\n",
       "      <td>33</td>\n",
       "      <td>RLC_family1_exemplar</td>\n",
       "      <td>0.0212</td>\n",
       "      <td>1060000</td>\n",
       "      <td>4.1588</td>\n",
       "    </tr>\n",
       "  </tbody>\n",
       "</table>\n",
       "</div>"
      ],
      "text/plain": [
       "  Superfamily       Family  Family_size             ElementID  Divergence  \\\n",
       "0       Copia  RLC_family0           43  RLC_family0_exemplar      0.0471   \n",
       "1       Copia  RLC_family1           33  RLC_family1_exemplar      0.0212   \n",
       "\n",
       "       Age   Ts:Tv  \n",
       "0  2355000  3.2242  \n",
       "1  1060000  4.1588  "
      ]
     },
     "execution_count": 9,
     "metadata": {},
     "output_type": "execute_result"
    }
   ],
   "source": [
    "df_ages = pd.read_csv(path_ages, sep='\\t')\n",
    "print(len(df_ages.index))\n",
    "df_ages.head(2)"
   ]
  },
  {
   "cell_type": "code",
   "execution_count": 51,
   "metadata": {},
   "outputs": [
    {
     "name": "stdout",
     "output_type": "stream",
     "text": [
      "955859\n"
     ]
    },
    {
     "data": {
      "text/html": [
       "<div>\n",
       "<style scoped>\n",
       "    .dataframe tbody tr th:only-of-type {\n",
       "        vertical-align: middle;\n",
       "    }\n",
       "\n",
       "    .dataframe tbody tr th {\n",
       "        vertical-align: top;\n",
       "    }\n",
       "\n",
       "    .dataframe thead th {\n",
       "        text-align: right;\n",
       "    }\n",
       "</style>\n",
       "<table border=\"1\" class=\"dataframe\">\n",
       "  <thead>\n",
       "    <tr style=\"text-align: right;\">\n",
       "      <th></th>\n",
       "      <th>seqname</th>\n",
       "      <th>source</th>\n",
       "      <th>feature</th>\n",
       "      <th>start</th>\n",
       "      <th>end</th>\n",
       "      <th>score</th>\n",
       "      <th>strand</th>\n",
       "      <th>frame</th>\n",
       "      <th>attribute</th>\n",
       "    </tr>\n",
       "  </thead>\n",
       "  <tbody>\n",
       "    <tr>\n",
       "      <th>0</th>\n",
       "      <td>ChrUn</td>\n",
       "      <td>BLASTN</td>\n",
       "      <td>similarity</td>\n",
       "      <td>1</td>\n",
       "      <td>725</td>\n",
       "      <td>0</td>\n",
       "      <td>+</td>\n",
       "      <td>.</td>\n",
       "      <td>ID=DTX_singleton_family2245_terminal_inverted_...</td>\n",
       "    </tr>\n",
       "    <tr>\n",
       "      <th>1</th>\n",
       "      <td>ChrUn</td>\n",
       "      <td>BLASTN</td>\n",
       "      <td>similarity</td>\n",
       "      <td>823</td>\n",
       "      <td>1144</td>\n",
       "      <td>0</td>\n",
       "      <td>+</td>\n",
       "      <td>.</td>\n",
       "      <td>ID=DTX_singleton_family3808_terminal_inverted_...</td>\n",
       "    </tr>\n",
       "  </tbody>\n",
       "</table>\n",
       "</div>"
      ],
      "text/plain": [
       "  seqname  source     feature  start   end score strand frame  \\\n",
       "0   ChrUn  BLASTN  similarity      1   725     0      +     .   \n",
       "1   ChrUn  BLASTN  similarity    823  1144     0      +     .   \n",
       "\n",
       "                                           attribute  \n",
       "0  ID=DTX_singleton_family2245_terminal_inverted_...  \n",
       "1  ID=DTX_singleton_family3808_terminal_inverted_...  "
      ]
     },
     "execution_count": 51,
     "metadata": {},
     "output_type": "execute_result"
    }
   ],
   "source": [
    "df_tes = pd.read_csv(path_tes, sep='\\t', comment='#', header=None)\n",
    "df_tes.columns = ['seqname' , 'source' , 'feature' , 'start' , 'end' , 'score' , 'strand' , 'frame' , 'attribute']\n",
    "print(len(df_tes.index))\n",
    "df_tes.head(2)"
   ]
  },
  {
   "cell_type": "code",
   "execution_count": null,
   "metadata": {},
   "outputs": [],
   "source": [
    "dfs = []\n",
    "for k,v in df_ages.iterrows():\n",
    "    te_type, family = v.Family.split('_')\n",
    "    family = '_' + family + '_'\n",
    "    res = df_tes[(df_tes.attribute.str.contains(te_type)) & (df_tes.attribute.str.contains(family))]\n",
    "    dfs.append(res)\n",
    "    print(k)"
   ]
  },
  {
   "cell_type": "code",
   "execution_count": null,
   "metadata": {},
   "outputs": [],
   "source": [
    "df_res = pd.concat(dfs)\n",
    "print(len(df_res.index))\n",
    "df_res.head(5)"
   ]
  },
  {
   "cell_type": "code",
   "execution_count": null,
   "metadata": {},
   "outputs": [],
   "source": [
    "df_res = df_res[['seqname','start','end','attribute']]\n",
    "df_res = df_res[(df_res.seqname != 'chr00') & (df_res.seqname != 'ChrUn')]\n",
    "print(len(df_res.index))\n",
    "df_res.head(5)"
   ]
  },
  {
   "cell_type": "code",
   "execution_count": null,
   "metadata": {},
   "outputs": [],
   "source": [
    "df_res.to_csv('data/ltrs.csv', index=None, sep='\\t')"
   ]
  },
  {
   "cell_type": "code",
   "execution_count": null,
   "metadata": {},
   "outputs": [],
   "source": [
    "df_res['family_number'] = df_res['attribute'].str.split('_family').str[1]\n",
    "df_res['family'] = df_res['attribute'].str.split('_family').str[0]"
   ]
  },
  {
   "cell_type": "code",
   "execution_count": null,
   "metadata": {},
   "outputs": [],
   "source": [
    "df_res.head(4)"
   ]
  },
  {
   "cell_type": "code",
   "execution_count": null,
   "metadata": {},
   "outputs": [],
   "source": [
    "df_res['family_full'] = df_res['family'].str.split('=').str[-1] + \"_family\" + df_res['family_number'].str.split('_').str[0]"
   ]
  },
  {
   "cell_type": "code",
   "execution_count": 57,
   "metadata": {},
   "outputs": [
    {
     "name": "stdout",
     "output_type": "stream",
     "text": [
      "182884\n"
     ]
    },
    {
     "data": {
      "text/html": [
       "<div>\n",
       "<style scoped>\n",
       "    .dataframe tbody tr th:only-of-type {\n",
       "        vertical-align: middle;\n",
       "    }\n",
       "\n",
       "    .dataframe tbody tr th {\n",
       "        vertical-align: top;\n",
       "    }\n",
       "\n",
       "    .dataframe thead th {\n",
       "        text-align: right;\n",
       "    }\n",
       "</style>\n",
       "<table border=\"1\" class=\"dataframe\">\n",
       "  <thead>\n",
       "    <tr style=\"text-align: right;\">\n",
       "      <th></th>\n",
       "      <th>seqname</th>\n",
       "      <th>start</th>\n",
       "      <th>end</th>\n",
       "      <th>family_full</th>\n",
       "    </tr>\n",
       "  </thead>\n",
       "  <tbody>\n",
       "    <tr>\n",
       "      <th>195822</th>\n",
       "      <td>chr01</td>\n",
       "      <td>1601238</td>\n",
       "      <td>1601347</td>\n",
       "      <td>RLC_family0</td>\n",
       "    </tr>\n",
       "    <tr>\n",
       "      <th>196503</th>\n",
       "      <td>chr01</td>\n",
       "      <td>2283977</td>\n",
       "      <td>2284134</td>\n",
       "      <td>RLC_family0</td>\n",
       "    </tr>\n",
       "    <tr>\n",
       "      <th>196504</th>\n",
       "      <td>chr01</td>\n",
       "      <td>2285047</td>\n",
       "      <td>2285997</td>\n",
       "      <td>RLC_family0</td>\n",
       "    </tr>\n",
       "    <tr>\n",
       "      <th>196815</th>\n",
       "      <td>chr01</td>\n",
       "      <td>2707450</td>\n",
       "      <td>2707537</td>\n",
       "      <td>RLC_family0</td>\n",
       "    </tr>\n",
       "  </tbody>\n",
       "</table>\n",
       "</div>"
      ],
      "text/plain": [
       "       seqname    start      end  family_full\n",
       "195822   chr01  1601238  1601347  RLC_family0\n",
       "196503   chr01  2283977  2284134  RLC_family0\n",
       "196504   chr01  2285047  2285997  RLC_family0\n",
       "196815   chr01  2707450  2707537  RLC_family0"
      ]
     },
     "execution_count": 57,
     "metadata": {},
     "output_type": "execute_result"
    }
   ],
   "source": [
    "print(len(df_res.index))\n",
    "df_res = df_res[['seqname','start','end','family_full']]\n",
    "df_res.head(4)"
   ]
  },
  {
   "cell_type": "code",
   "execution_count": 58,
   "metadata": {},
   "outputs": [],
   "source": [
    "df_res.to_csv('data/ltrs.csv', index=None, sep='\\t')"
   ]
  },
  {
   "cell_type": "code",
   "execution_count": 4,
   "metadata": {},
   "outputs": [],
   "source": [
    "df_res = pd.read_csv('data/ltrs.csv', sep='\\t')\n",
    "df_res_2 = df_res"
   ]
  },
  {
   "cell_type": "code",
   "execution_count": 5,
   "metadata": {},
   "outputs": [
    {
     "name": "stdout",
     "output_type": "stream",
     "text": [
      "182884\n"
     ]
    }
   ],
   "source": [
    "#df_res_2 = df_res[df_res.family_full.str.contains('RLC')]\n",
    "print(len(df_res_2.index))"
   ]
  },
  {
   "cell_type": "code",
   "execution_count": 10,
   "metadata": {},
   "outputs": [],
   "source": [
    "df_ages_merge = pd.merge(df_res_2,df_ages[['Family','Age']],left_on='family_full',right_on='Family',how='left')"
   ]
  },
  {
   "cell_type": "code",
   "execution_count": 11,
   "metadata": {},
   "outputs": [
    {
     "data": {
      "text/html": [
       "<div>\n",
       "<style scoped>\n",
       "    .dataframe tbody tr th:only-of-type {\n",
       "        vertical-align: middle;\n",
       "    }\n",
       "\n",
       "    .dataframe tbody tr th {\n",
       "        vertical-align: top;\n",
       "    }\n",
       "\n",
       "    .dataframe thead th {\n",
       "        text-align: right;\n",
       "    }\n",
       "</style>\n",
       "<table border=\"1\" class=\"dataframe\">\n",
       "  <thead>\n",
       "    <tr style=\"text-align: right;\">\n",
       "      <th></th>\n",
       "      <th>seqname</th>\n",
       "      <th>start</th>\n",
       "      <th>end</th>\n",
       "      <th>family_full</th>\n",
       "      <th>Family</th>\n",
       "      <th>Age</th>\n",
       "    </tr>\n",
       "  </thead>\n",
       "  <tbody>\n",
       "    <tr>\n",
       "      <th>0</th>\n",
       "      <td>chr01</td>\n",
       "      <td>1601238</td>\n",
       "      <td>1601347</td>\n",
       "      <td>RLC_family0</td>\n",
       "      <td>RLC_family0</td>\n",
       "      <td>2355000.0</td>\n",
       "    </tr>\n",
       "    <tr>\n",
       "      <th>1</th>\n",
       "      <td>chr01</td>\n",
       "      <td>2283977</td>\n",
       "      <td>2284134</td>\n",
       "      <td>RLC_family0</td>\n",
       "      <td>RLC_family0</td>\n",
       "      <td>2355000.0</td>\n",
       "    </tr>\n",
       "  </tbody>\n",
       "</table>\n",
       "</div>"
      ],
      "text/plain": [
       "  seqname    start      end  family_full       Family        Age\n",
       "0   chr01  1601238  1601347  RLC_family0  RLC_family0  2355000.0\n",
       "1   chr01  2283977  2284134  RLC_family0  RLC_family0  2355000.0"
      ]
     },
     "execution_count": 11,
     "metadata": {},
     "output_type": "execute_result"
    }
   ],
   "source": [
    "df_ages_merge.head(2)"
   ]
  },
  {
   "cell_type": "code",
   "execution_count": 12,
   "metadata": {},
   "outputs": [],
   "source": [
    "df_ages_merge = df_ages_merge[['seqname','start','end','Age']]"
   ]
  },
  {
   "cell_type": "code",
   "execution_count": 13,
   "metadata": {},
   "outputs": [],
   "source": [
    "df_ages_merge = df_ages_merge.rename(columns={'seqname':'Chr','start':'Start','end':'End','Age':'Value'})"
   ]
  },
  {
   "cell_type": "code",
   "execution_count": 14,
   "metadata": {},
   "outputs": [],
   "source": [
    "df_ages_merge.to_csv('data/ltrs_ages.csv', index=None, sep='\\t')"
   ]
  },
  {
   "cell_type": "code",
   "execution_count": null,
   "metadata": {},
   "outputs": [],
   "source": []
  }
 ],
 "metadata": {
  "kernelspec": {
   "display_name": "Python 3",
   "language": "python",
   "name": "python3"
  },
  "language_info": {
   "codemirror_mode": {
    "name": "ipython",
    "version": 3
   },
   "file_extension": ".py",
   "mimetype": "text/x-python",
   "name": "python",
   "nbconvert_exporter": "python",
   "pygments_lexer": "ipython3",
   "version": "3.6.5"
  }
 },
 "nbformat": 4,
 "nbformat_minor": 2
}
