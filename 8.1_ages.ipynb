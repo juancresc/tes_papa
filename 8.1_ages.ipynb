{
 "cells": [
  {
   "cell_type": "code",
   "execution_count": 25,
   "metadata": {},
   "outputs": [],
   "source": [
    "import pandas as pd\n",
    "from Bio.Blast.Applications import NcbiblastnCommandline\n",
    "from Bio import SeqIO\n",
    "from Bio.SeqRecord import SeqRecord\n",
    "from Bio.Seq import Seq"
   ]
  },
  {
   "cell_type": "code",
   "execution_count": 26,
   "metadata": {},
   "outputs": [],
   "source": [
    "min_len = 900\n",
    "max_len = 16000\n",
    "min_ltr_len = 85\n",
    "max_ltr_len = 5000"
   ]
  },
  {
   "cell_type": "code",
   "execution_count": 27,
   "metadata": {},
   "outputs": [
    {
     "name": "stdout",
     "output_type": "stream",
     "text": [
      "250784\n"
     ]
    }
   ],
   "source": [
    "df = pd.read_csv(\"data/results/all.gff\", sep=\"\\t\", header=None, comment=\"#\")\n",
    "df.columns = ['seqname' , 'source' , 'feature' , 'start' , 'end' , 'score' , 'strand' , 'frame' , 'attribute']\n",
    "print(len(df.index))"
   ]
  },
  {
   "cell_type": "code",
   "execution_count": 28,
   "metadata": {},
   "outputs": [],
   "source": [
    "df.sort_values(['start', 'end'], inplace=True)"
   ]
  },
  {
   "cell_type": "code",
   "execution_count": 29,
   "metadata": {},
   "outputs": [
    {
     "name": "stdout",
     "output_type": "stream",
     "text": [
      "188553\n"
     ]
    }
   ],
   "source": [
    "df = df[df.attribute.str.contains('LTR_id')]\n",
    "print(len(df.index))"
   ]
  },
  {
   "cell_type": "code",
   "execution_count": 30,
   "metadata": {},
   "outputs": [
    {
     "name": "stdout",
     "output_type": "stream",
     "text": [
      "188314\n"
     ]
    }
   ],
   "source": [
    "df = df[(df.end - df.start) <= max_len]\n",
    "print(len(df.index))"
   ]
  },
  {
   "cell_type": "code",
   "execution_count": 31,
   "metadata": {},
   "outputs": [
    {
     "name": "stdout",
     "output_type": "stream",
     "text": [
      "129378\n"
     ]
    }
   ],
   "source": [
    "df = df[(df.end - df.start) >= min_len]\n",
    "print(len(df.index))"
   ]
  },
  {
   "cell_type": "code",
   "execution_count": 32,
   "metadata": {},
   "outputs": [
    {
     "data": {
      "text/html": [
       "<div>\n",
       "<table border=\"1\" class=\"dataframe\">\n",
       "  <thead>\n",
       "    <tr style=\"text-align: right;\">\n",
       "      <th></th>\n",
       "      <th>seqname</th>\n",
       "      <th>source</th>\n",
       "      <th>feature</th>\n",
       "      <th>start</th>\n",
       "      <th>end</th>\n",
       "      <th>score</th>\n",
       "      <th>strand</th>\n",
       "      <th>frame</th>\n",
       "      <th>attribute</th>\n",
       "    </tr>\n",
       "  </thead>\n",
       "  <tbody>\n",
       "    <tr>\n",
       "      <th>7774</th>\n",
       "      <td>chr00</td>\n",
       "      <td>ST_annotation</td>\n",
       "      <td>TE</td>\n",
       "      <td>429</td>\n",
       "      <td>2347</td>\n",
       "      <td>.</td>\n",
       "      <td>+</td>\n",
       "      <td>.</td>\n",
       "      <td>LTR_id:4994;source_name:RLC_family136_LTR_7650...</td>\n",
       "    </tr>\n",
       "    <tr>\n",
       "      <th>0</th>\n",
       "      <td>ChrUn</td>\n",
       "      <td>ST_annotation</td>\n",
       "      <td>TE</td>\n",
       "      <td>18405</td>\n",
       "      <td>21310</td>\n",
       "      <td>.</td>\n",
       "      <td>+</td>\n",
       "      <td>.</td>\n",
       "      <td>LTR_id:4487;source_name:RLG_singleton_family95...</td>\n",
       "    </tr>\n",
       "    <tr>\n",
       "      <th>7775</th>\n",
       "      <td>chr00</td>\n",
       "      <td>ST_annotation</td>\n",
       "      <td>TE</td>\n",
       "      <td>20847</td>\n",
       "      <td>25597</td>\n",
       "      <td>.</td>\n",
       "      <td>+</td>\n",
       "      <td>.</td>\n",
       "      <td>LTR_id:3831;source_name:RLG_LTR_63_FAM000516;t...</td>\n",
       "    </tr>\n",
       "    <tr>\n",
       "      <th>52097</th>\n",
       "      <td>chr02</td>\n",
       "      <td>ST_annotation</td>\n",
       "      <td>TE</td>\n",
       "      <td>25059</td>\n",
       "      <td>27683</td>\n",
       "      <td>.</td>\n",
       "      <td>+</td>\n",
       "      <td>.</td>\n",
       "      <td>LTR_id:5770;source_name:RLG_LTR_259_FAM002147;...</td>\n",
       "    </tr>\n",
       "    <tr>\n",
       "      <th>121659</th>\n",
       "      <td>chr06</td>\n",
       "      <td>ST_annotation</td>\n",
       "      <td>TE</td>\n",
       "      <td>30914</td>\n",
       "      <td>31867</td>\n",
       "      <td>.</td>\n",
       "      <td>+</td>\n",
       "      <td>.</td>\n",
       "      <td>LTR_id:6092;source_name:RLG_LTR_428_FAM004707;...</td>\n",
       "    </tr>\n",
       "  </tbody>\n",
       "</table>\n",
       "</div>"
      ],
      "text/plain": [
       "       seqname         source feature  start    end score strand frame  \\\n",
       "7774     chr00  ST_annotation      TE    429   2347     .      +     .   \n",
       "0        ChrUn  ST_annotation      TE  18405  21310     .      +     .   \n",
       "7775     chr00  ST_annotation      TE  20847  25597     .      +     .   \n",
       "52097    chr02  ST_annotation      TE  25059  27683     .      +     .   \n",
       "121659   chr06  ST_annotation      TE  30914  31867     .      +     .   \n",
       "\n",
       "                                                attribute  \n",
       "7774    LTR_id:4994;source_name:RLC_family136_LTR_7650...  \n",
       "0       LTR_id:4487;source_name:RLG_singleton_family95...  \n",
       "7775    LTR_id:3831;source_name:RLG_LTR_63_FAM000516;t...  \n",
       "52097   LTR_id:5770;source_name:RLG_LTR_259_FAM002147;...  \n",
       "121659  LTR_id:6092;source_name:RLG_LTR_428_FAM004707;...  "
      ]
     },
     "execution_count": 32,
     "metadata": {},
     "output_type": "execute_result"
    }
   ],
   "source": [
    "df.head()"
   ]
  },
  {
   "cell_type": "code",
   "execution_count": 35,
   "metadata": {},
   "outputs": [],
   "source": [
    "records = {}\n",
    "fasta_seq = SeqIO.parse('data/fasta/potato_dm_v404_all_pm_un.fasta', 'fasta')\n",
    "for record in fasta_seq:\n",
    "    records[record.id] = ''.join(str(record.seq).splitlines())\n"
   ]
  },
  {
   "cell_type": "code",
   "execution_count": null,
   "metadata": {},
   "outputs": [],
   "source": [
    "for k,v in df.iterrows():\n",
    "    #cut the genome in order to extract the LTR sequence\n",
    "    record_seq_clipped = records[v.seqname][v.start:v.end]\n",
    "    half_seq_len = (v.end - v.start) / 2\n",
    "    record_seq_clipped_1 = record_seq_clipped[: half_seq_len - 1]\n",
    "    record_seq_clipped_2 = record_seq_clipped[half_seq_len:]\n",
    "    seq_1 = SeqRecord(Seq(record_seq_clipped_1), id=\"1\", description=\"yeah!\")\n",
    "    seq_2 = SeqRecord(Seq(record_seq_clipped_2), id=\"2\", description=\"yeah!\")\n",
    "    SeqIO.write(seq_1, \"q.fasta\", \"fasta\")\n",
    "    SeqIO.write(seq_2, \"s.fasta\", \"fasta\")\n",
    "    cols = ['qseqid','sseqid','qstart','qend','sstart','send','score','length','mismatch','gaps','gapopen','nident','pident','evalue','qlen','slen','qcovs']\n",
    "    outfmt = \"'6 %s'\" % (' '.join(cols), )\n",
    "    cline = NcbiblastnCommandline(query=\"q.fasta\", subject=\"s.fasta\", task=\"blastn\", strand=\"plus\",outfmt=outfmt)\n",
    "    stdout, stderr = cline()\n",
    "    stdout = stdout.strip()\n",
    "    if stdout != \"\":\n",
    "        vals = stdout.split('\\t')\n",
    "        result = dict(zip(cols, vals))\n",
    "        length, gaps, mismatch = int(result['length']), int(result['gaps']), int(result['mismatch'])\n",
    "        if length >= min_len and length <= max_len:\n",
    "            print(v.attribute, length)\n",
    "            \n",
    "        else:\n",
    "            continue\n",
    "#            print('no bitch', result['length'])\n",
    "\n"
   ]
  },
  {
   "cell_type": "code",
   "execution_count": null,
   "metadata": {},
   "outputs": [],
   "source": []
  },
  {
   "cell_type": "code",
   "execution_count": null,
   "metadata": {},
   "outputs": [],
   "source": []
  },
  {
   "cell_type": "code",
   "execution_count": null,
   "metadata": {},
   "outputs": [],
   "source": []
  },
  {
   "cell_type": "code",
   "execution_count": null,
   "metadata": {},
   "outputs": [],
   "source": []
  },
  {
   "cell_type": "code",
   "execution_count": null,
   "metadata": {},
   "outputs": [],
   "source": []
  },
  {
   "cell_type": "code",
   "execution_count": null,
   "metadata": {},
   "outputs": [],
   "source": []
  },
  {
   "cell_type": "code",
   "execution_count": null,
   "metadata": {},
   "outputs": [],
   "source": []
  },
  {
   "cell_type": "code",
   "execution_count": null,
   "metadata": {},
   "outputs": [],
   "source": []
  }
 ],
 "metadata": {
  "kernelspec": {
   "display_name": "Python 3",
   "language": "python",
   "name": "python3"
  },
  "language_info": {
   "codemirror_mode": {
    "name": "ipython",
    "version": 2
   },
   "file_extension": ".py",
   "mimetype": "text/x-python",
   "name": "python",
   "nbconvert_exporter": "python",
   "pygments_lexer": "ipython2",
   "version": "2.7.15"
  }
 },
 "nbformat": 4,
 "nbformat_minor": 2
}
