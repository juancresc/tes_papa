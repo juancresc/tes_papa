{
 "cells": [
  {
   "cell_type": "code",
   "execution_count": 10,
   "metadata": {},
   "outputs": [],
   "source": [
    "import pandas as pd\n",
    "from utils import *\n",
    "path_blast = 'data/results/'"
   ]
  },
  {
   "cell_type": "code",
   "execution_count": 11,
   "metadata": {},
   "outputs": [
    {
     "data": {
      "text/plain": [
       "'LTR'"
      ]
     },
     "execution_count": 11,
     "metadata": {},
     "output_type": "execute_result"
    }
   ],
   "source": [
    "#TEs\n",
    "params = {}\n",
    "params['LTR'] = {'min_len':650,'max_len':False,'min_distance':5,'max_q':1.5,'min_q':0.5,'min_pident':80,'min_qcov':40,'file':'ltr_clustered.blast.csv'}\n",
    "params['LINE'] = {'min_len':1500,'max_len':False,'min_distance':5,'max_q':1.2,'min_q':0.8,'min_pident':80,'min_qcov':80,'file':'line_clustered.blast.csv'}\n",
    "params['SINE'] = {'min_len':150,'max_len':800,'min_distance':5,'max_q':1.1,'min_q':0.9,'min_pident':90,'min_qcov':90,'file':'sine_clustered.blast.csv'}\n",
    "params['TIR'] = {'min_len':500,'max_len':False,'min_distance':5,'max_q':1.1,'min_q':0.9,'min_pident':90,'min_qcov':90,'file':'tirs_clustered.blast.csv'}\n",
    "params['MITE'] = {'min_len':50,'max_len':800,'min_distance':5,'max_q':1.15,'min_q':0.85,'min_pident':90,'min_qcov':90,'file':'mites_clustered.blast.csv'}\n",
    "params['helitrons'] = {'min_len':2000,'max_len':False,'min_distance':5,'max_q':1.2,'min_q':0.8,'min_pident':80,'min_qcov':80,'file':'helitrons_clustered.blast.csv'}\n",
    "#select which TE type you want to run\n",
    "te_type = 'LTR'\n",
    "te_type"
   ]
  },
  {
   "cell_type": "code",
   "execution_count": 12,
   "metadata": {},
   "outputs": [
    {
     "name": "stdout",
     "output_type": "stream",
     "text": [
      "('initial:', 1267452)\n"
     ]
    }
   ],
   "source": [
    "#read blast output\n",
    "df = pd.read_csv(path_blast + params[te_type]['file'], sep='\\t', header=None)\n",
    "df.columns = ['qseqid','sseqid','qstart','qend','sstart','send','score','length','mismatch','gaps','gapopen','nident','pident','qlen','slen','qcovs']\n",
    "print('initial:',len(df.index))"
   ]
  },
  {
   "cell_type": "code",
   "execution_count": 13,
   "metadata": {},
   "outputs": [
    {
     "name": "stdout",
     "output_type": "stream",
     "text": [
      "Min and max len: 951011\n"
     ]
    }
   ],
   "source": [
    "#filter by length\n",
    "if(params[te_type]['min_len']):\n",
    "    df = df[(df.qlen > params[te_type]['min_len'])]\n",
    "    \n",
    "if(params[te_type]['max_len']):\n",
    "    df = df[(df.qlen < params[te_type]['max_len'])]\n",
    "\n",
    "print('Min and max len: ' + str(len(df.index)))"
   ]
  },
  {
   "cell_type": "code",
   "execution_count": 14,
   "metadata": {},
   "outputs": [
    {
     "name": "stdout",
     "output_type": "stream",
     "text": [
      "('treshold:', 511165)\n"
     ]
    }
   ],
   "source": [
    "#filter by query / subject length treshold\n",
    "df = df[((df.length / df.qlen) >= params[te_type]['min_q']) &\n",
    "   ((df.length / df.qlen) <= params[te_type]['max_q'])]\n",
    "print('treshold:',len(df.index))"
   ]
  },
  {
   "cell_type": "code",
   "execution_count": 15,
   "metadata": {},
   "outputs": [
    {
     "name": "stdout",
     "output_type": "stream",
     "text": [
      "Min_pident: 511165\n"
     ]
    }
   ],
   "source": [
    "#filter by pident\n",
    "df = df[(df.pident >= params[te_type]['min_pident'])]\n",
    "print('Min_pident: ' + str(len(df.index)))"
   ]
  },
  {
   "cell_type": "code",
   "execution_count": 16,
   "metadata": {},
   "outputs": [
    {
     "name": "stdout",
     "output_type": "stream",
     "text": [
      "Min qcov: 511165\n"
     ]
    }
   ],
   "source": [
    "#filter by qcov\n",
    "df = df[(df.qcovs >= params[te_type]['min_qcov'])]\n",
    "print('Min qcov: ' + str(len(df.index)))"
   ]
  },
  {
   "cell_type": "code",
   "execution_count": 17,
   "metadata": {},
   "outputs": [],
   "source": [
    "#order sstart and send\n",
    "df['new_sstart'] = df[['sstart','send']].min(axis=1)\n",
    "df['new_ssend'] = df[['sstart','send']].max(axis=1)\n",
    "df['sstart'] = df['new_sstart']\n",
    "df['send'] = df['new_ssend']\n",
    "df = df.drop('new_sstart',axis=1).drop('new_ssend',axis=1)\n",
    "\n",
    "# sep by chr\n",
    "dfs = {}\n",
    "for seq in df.sseqid.unique():\n",
    "    dfs[seq] = df[df.sseqid == seq]\n"
   ]
  },
  {
   "cell_type": "code",
   "execution_count": null,
   "metadata": {},
   "outputs": [
    {
     "name": "stdout",
     "output_type": "stream",
     "text": [
      "0.0\n"
     ]
    }
   ],
   "source": [
    "# filter overlapped \n",
    "rows = []\n",
    "discard = []\n",
    "total = len(df.index)\n",
    "for index, row in df.iterrows():\n",
    "    curr = index * 100 / (total * 1.0)\n",
    "    if curr % 1 == 0:\n",
    "        print(curr)\n",
    "    if index in discard:\n",
    "        continue\n",
    "    df_2 = dfs[row.sseqid]\n",
    "    res = df_2[(abs(df_2.sstart - row.sstart) <= params[te_type]['min_distance']) | (abs(df_2.send - row.send) <= params[te_type]['min_distance'])]\n",
    "    if len(res.index) > 1:\n",
    "        discard.extend(res.index.values)\n",
    "    rows.append(row)"
   ]
  },
  {
   "cell_type": "code",
   "execution_count": null,
   "metadata": {},
   "outputs": [],
   "source": [
    "df = pd.DataFrame(rows)\n",
    "df.sort_values(['sseqid', 'sstart'], inplace=True)\n",
    "print('Non overlapped: ' + str(len(df.index)))\n"
   ]
  },
  {
   "cell_type": "code",
   "execution_count": null,
   "metadata": {},
   "outputs": [],
   "source": [
    "filename = path_blast + params[te_type]['file'] + '.filtered'\n",
    "df.to_csv(filename, index=None, sep='\\t')\n",
    "filename"
   ]
  },
  {
   "cell_type": "code",
   "execution_count": null,
   "metadata": {},
   "outputs": [],
   "source": []
  },
  {
   "cell_type": "code",
   "execution_count": 74,
   "metadata": {},
   "outputs": [],
   "source": []
  },
  {
   "cell_type": "code",
   "execution_count": null,
   "metadata": {},
   "outputs": [],
   "source": []
  },
  {
   "cell_type": "code",
   "execution_count": null,
   "metadata": {},
   "outputs": [],
   "source": []
  }
 ],
 "metadata": {
  "kernelspec": {
   "display_name": "Python 3",
   "language": "python",
   "name": "python3"
  },
  "language_info": {
   "codemirror_mode": {
    "name": "ipython",
    "version": 2
   },
   "file_extension": ".py",
   "mimetype": "text/x-python",
   "name": "python",
   "nbconvert_exporter": "python",
   "pygments_lexer": "ipython2",
   "version": "2.7.15"
  }
 },
 "nbformat": 4,
 "nbformat_minor": 2
}
