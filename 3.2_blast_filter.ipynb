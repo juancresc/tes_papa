{
 "cells": [
  {
   "cell_type": "code",
   "execution_count": 1,
   "metadata": {},
   "outputs": [],
   "source": [
    "import pandas as pd\n",
    "from itertools import cycle\n",
    "path_blast = 'data/results/'\n",
    "tes_type = ['MITE', 'TRIM', 'LARD', 'TIR','helitron','LTR','SINE', 'LINE']\n",
    "pool = cycle(tes_type)"
   ]
  },
  {
   "cell_type": "code",
   "execution_count": 9,
   "metadata": {},
   "outputs": [
    {
     "name": "stdout",
     "output_type": "stream",
     "text": [
      "('Running for', 'LINE')\n"
     ]
    }
   ],
   "source": [
    "te_type = next(pool)\n",
    "print('Running for', te_type)"
   ]
  },
  {
   "cell_type": "code",
   "execution_count": 31,
   "metadata": {},
   "outputs": [],
   "source": [
    "#TEs\n",
    "params = {}\n",
    "params['LTR'] = {'min_len':650,'max_len':False,'min_distance':5,'max_q':1.5,'min_q':0.5,'min_pident':80,'min_qcov':40,'file':'blast_clustered_ltr.csv'}\n",
    "params['LINE'] = {'min_len':1500,'max_len':False,'min_distance':5,'max_q':1.2,'min_q':0.8,'min_pident':80,'min_qcov':80,'file':'blast_clustered_line.csv'}\n",
    "params['SINE'] = {'min_len':150,'max_len':800,'min_distance':5,'max_q':1.1,'min_q':0.9,'min_pident':90,'min_qcov':90,'file':'blast_clustered_sine.csv'}\n",
    "params['TIR'] = {'min_len':500,'max_len':False,'min_distance':5,'max_q':1.1,'min_q':0.9,'min_pident':90,'min_qcov':90,'file':'blast_clustered_tir.csv'}\n",
    "params['MITE'] = {'min_len':50,'max_len':800,'min_distance':5,'max_q':1.15,'min_q':0.85,'min_pident':90,'min_qcov':90,'file':'blast_clustered_mite.csv'}\n",
    "params['LARD'] = {'min_len':50,'max_len':800,'min_distance':5,'max_q':1.15,'min_q':0.85,'min_pident':90,'min_qcov':90,'file':'blast_clustered_lard.csv'}\n",
    "params['TRIM'] = {'min_len':2000,'max_len':False,'min_distance':5,'max_q':1.2,'min_q':0.8,'min_pident':80,'min_qcov':80,'file':'blast_clustered_trim.csv'}\n",
    "params['helitron'] = {'min_len':2000,'max_len':False,'min_distance':5,'max_q':1.2,'min_q':0.8,'min_pident':80,'min_qcov':80,'file':'blast_clustered_helitron.csv'}\n",
    "#select which TE type you want to run"
   ]
  },
  {
   "cell_type": "code",
   "execution_count": 32,
   "metadata": {},
   "outputs": [
    {
     "name": "stdout",
     "output_type": "stream",
     "text": [
      "('initial:', 1002)\n"
     ]
    }
   ],
   "source": [
    "#read blast output\n",
    "df = pd.read_csv(path_blast + params[te_type]['file'], sep='\\t', header=None)\n",
    "df.columns = ['qseqid','sseqid','qstart','qend','sstart','send','score','length','mismatch','gaps','gapopen','nident','pident','qlen','slen','qcovs']\n",
    "print('initial:',len(df.index))"
   ]
  },
  {
   "cell_type": "code",
   "execution_count": 33,
   "metadata": {},
   "outputs": [
    {
     "name": "stdout",
     "output_type": "stream",
     "text": [
      "Min and max len: 697\n"
     ]
    }
   ],
   "source": [
    "#filter by length\n",
    "if(params[te_type]['min_len']):\n",
    "    df = df[(df.qlen > params[te_type]['min_len'])]\n",
    "    \n",
    "if(params[te_type]['max_len']):\n",
    "    df = df[(df.qlen < params[te_type]['max_len'])]\n",
    "\n",
    "print('Min and max len: ' + str(len(df.index)))"
   ]
  },
  {
   "cell_type": "code",
   "execution_count": 35,
   "metadata": {},
   "outputs": [
    {
     "data": {
      "text/html": [
       "<div>\n",
       "<style scoped>\n",
       "    .dataframe tbody tr th:only-of-type {\n",
       "        vertical-align: middle;\n",
       "    }\n",
       "\n",
       "    .dataframe tbody tr th {\n",
       "        vertical-align: top;\n",
       "    }\n",
       "\n",
       "    .dataframe thead th {\n",
       "        text-align: right;\n",
       "    }\n",
       "</style>\n",
       "<table border=\"1\" class=\"dataframe\">\n",
       "  <thead>\n",
       "    <tr style=\"text-align: right;\">\n",
       "      <th></th>\n",
       "      <th>qseqid</th>\n",
       "      <th>sseqid</th>\n",
       "      <th>qstart</th>\n",
       "      <th>qend</th>\n",
       "      <th>sstart</th>\n",
       "      <th>send</th>\n",
       "      <th>score</th>\n",
       "      <th>length</th>\n",
       "      <th>mismatch</th>\n",
       "      <th>gaps</th>\n",
       "      <th>gapopen</th>\n",
       "      <th>nident</th>\n",
       "      <th>pident</th>\n",
       "      <th>qlen</th>\n",
       "      <th>slen</th>\n",
       "      <th>qcovs</th>\n",
       "    </tr>\n",
       "  </thead>\n",
       "  <tbody>\n",
       "    <tr>\n",
       "      <th>31</th>\n",
       "      <td>LINE_id_2_RIL_LINE32_FAM003189[type:LINE_sourc...</td>\n",
       "      <td>chr02</td>\n",
       "      <td>1</td>\n",
       "      <td>1780</td>\n",
       "      <td>19149564</td>\n",
       "      <td>19147794</td>\n",
       "      <td>3314</td>\n",
       "      <td>1785</td>\n",
       "      <td>26</td>\n",
       "      <td>19</td>\n",
       "      <td>10</td>\n",
       "      <td>1740</td>\n",
       "      <td>97.48</td>\n",
       "      <td>1780</td>\n",
       "      <td>48614681</td>\n",
       "      <td>100</td>\n",
       "    </tr>\n",
       "    <tr>\n",
       "      <th>32</th>\n",
       "      <td>LINE_id_2_RIL_LINE32_FAM003189[type:LINE_sourc...</td>\n",
       "      <td>chr02</td>\n",
       "      <td>1</td>\n",
       "      <td>1780</td>\n",
       "      <td>45325795</td>\n",
       "      <td>45327574</td>\n",
       "      <td>3302</td>\n",
       "      <td>1787</td>\n",
       "      <td>33</td>\n",
       "      <td>14</td>\n",
       "      <td>10</td>\n",
       "      <td>1740</td>\n",
       "      <td>97.37</td>\n",
       "      <td>1780</td>\n",
       "      <td>48614681</td>\n",
       "      <td>100</td>\n",
       "    </tr>\n",
       "    <tr>\n",
       "      <th>33</th>\n",
       "      <td>LINE_id_2_RIL_LINE32_FAM003189[type:LINE_sourc...</td>\n",
       "      <td>chr02</td>\n",
       "      <td>2</td>\n",
       "      <td>1090</td>\n",
       "      <td>4184680</td>\n",
       "      <td>4183624</td>\n",
       "      <td>1726</td>\n",
       "      <td>1092</td>\n",
       "      <td>54</td>\n",
       "      <td>38</td>\n",
       "      <td>7</td>\n",
       "      <td>1000</td>\n",
       "      <td>91.58</td>\n",
       "      <td>1780</td>\n",
       "      <td>48614681</td>\n",
       "      <td>100</td>\n",
       "    </tr>\n",
       "    <tr>\n",
       "      <th>34</th>\n",
       "      <td>LINE_id_2_RIL_LINE32_FAM003189[type:LINE_sourc...</td>\n",
       "      <td>chr03</td>\n",
       "      <td>1</td>\n",
       "      <td>1780</td>\n",
       "      <td>42680126</td>\n",
       "      <td>42678340</td>\n",
       "      <td>3254</td>\n",
       "      <td>1788</td>\n",
       "      <td>49</td>\n",
       "      <td>9</td>\n",
       "      <td>8</td>\n",
       "      <td>1730</td>\n",
       "      <td>96.76</td>\n",
       "      <td>1780</td>\n",
       "      <td>62290286</td>\n",
       "      <td>100</td>\n",
       "    </tr>\n",
       "    <tr>\n",
       "      <th>35</th>\n",
       "      <td>LINE_id_2_RIL_LINE32_FAM003189[type:LINE_sourc...</td>\n",
       "      <td>chr03</td>\n",
       "      <td>1</td>\n",
       "      <td>1780</td>\n",
       "      <td>23235851</td>\n",
       "      <td>23237633</td>\n",
       "      <td>2306</td>\n",
       "      <td>1786</td>\n",
       "      <td>238</td>\n",
       "      <td>9</td>\n",
       "      <td>8</td>\n",
       "      <td>1539</td>\n",
       "      <td>86.17</td>\n",
       "      <td>1780</td>\n",
       "      <td>62290286</td>\n",
       "      <td>100</td>\n",
       "    </tr>\n",
       "  </tbody>\n",
       "</table>\n",
       "</div>"
      ],
      "text/plain": [
       "                                               qseqid sseqid  qstart  qend  \\\n",
       "31  LINE_id_2_RIL_LINE32_FAM003189[type:LINE_sourc...  chr02       1  1780   \n",
       "32  LINE_id_2_RIL_LINE32_FAM003189[type:LINE_sourc...  chr02       1  1780   \n",
       "33  LINE_id_2_RIL_LINE32_FAM003189[type:LINE_sourc...  chr02       2  1090   \n",
       "34  LINE_id_2_RIL_LINE32_FAM003189[type:LINE_sourc...  chr03       1  1780   \n",
       "35  LINE_id_2_RIL_LINE32_FAM003189[type:LINE_sourc...  chr03       1  1780   \n",
       "\n",
       "      sstart      send  score  length  mismatch  gaps  gapopen  nident  \\\n",
       "31  19149564  19147794   3314    1785        26    19       10    1740   \n",
       "32  45325795  45327574   3302    1787        33    14       10    1740   \n",
       "33   4184680   4183624   1726    1092        54    38        7    1000   \n",
       "34  42680126  42678340   3254    1788        49     9        8    1730   \n",
       "35  23235851  23237633   2306    1786       238     9        8    1539   \n",
       "\n",
       "    pident  qlen      slen  qcovs  \n",
       "31   97.48  1780  48614681    100  \n",
       "32   97.37  1780  48614681    100  \n",
       "33   91.58  1780  48614681    100  \n",
       "34   96.76  1780  62290286    100  \n",
       "35   86.17  1780  62290286    100  "
      ]
     },
     "execution_count": 35,
     "metadata": {},
     "output_type": "execute_result"
    }
   ],
   "source": [
    "df.head()"
   ]
  },
  {
   "cell_type": "code",
   "execution_count": 36,
   "metadata": {},
   "outputs": [
    {
     "name": "stdout",
     "output_type": "stream",
     "text": [
      "('min treshold:', 262)\n"
     ]
    }
   ],
   "source": [
    "#filter by query / subject length treshold\n",
    "df = df[((df.length / df.qlen) >= params[te_type]['min_q'])]\n",
    "print('min treshold:',len(df.index))"
   ]
  },
  {
   "cell_type": "code",
   "execution_count": 37,
   "metadata": {},
   "outputs": [
    {
     "data": {
      "text/html": [
       "<div>\n",
       "<style scoped>\n",
       "    .dataframe tbody tr th:only-of-type {\n",
       "        vertical-align: middle;\n",
       "    }\n",
       "\n",
       "    .dataframe tbody tr th {\n",
       "        vertical-align: top;\n",
       "    }\n",
       "\n",
       "    .dataframe thead th {\n",
       "        text-align: right;\n",
       "    }\n",
       "</style>\n",
       "<table border=\"1\" class=\"dataframe\">\n",
       "  <thead>\n",
       "    <tr style=\"text-align: right;\">\n",
       "      <th></th>\n",
       "      <th>qseqid</th>\n",
       "      <th>sseqid</th>\n",
       "      <th>qstart</th>\n",
       "      <th>qend</th>\n",
       "      <th>sstart</th>\n",
       "      <th>send</th>\n",
       "      <th>score</th>\n",
       "      <th>length</th>\n",
       "      <th>mismatch</th>\n",
       "      <th>gaps</th>\n",
       "      <th>gapopen</th>\n",
       "      <th>nident</th>\n",
       "      <th>pident</th>\n",
       "      <th>qlen</th>\n",
       "      <th>slen</th>\n",
       "      <th>qcovs</th>\n",
       "    </tr>\n",
       "  </thead>\n",
       "  <tbody>\n",
       "    <tr>\n",
       "      <th>31</th>\n",
       "      <td>LINE_id_2_RIL_LINE32_FAM003189[type:LINE_sourc...</td>\n",
       "      <td>chr02</td>\n",
       "      <td>1</td>\n",
       "      <td>1780</td>\n",
       "      <td>19149564</td>\n",
       "      <td>19147794</td>\n",
       "      <td>3314</td>\n",
       "      <td>1785</td>\n",
       "      <td>26</td>\n",
       "      <td>19</td>\n",
       "      <td>10</td>\n",
       "      <td>1740</td>\n",
       "      <td>97.48</td>\n",
       "      <td>1780</td>\n",
       "      <td>48614681</td>\n",
       "      <td>100</td>\n",
       "    </tr>\n",
       "    <tr>\n",
       "      <th>32</th>\n",
       "      <td>LINE_id_2_RIL_LINE32_FAM003189[type:LINE_sourc...</td>\n",
       "      <td>chr02</td>\n",
       "      <td>1</td>\n",
       "      <td>1780</td>\n",
       "      <td>45325795</td>\n",
       "      <td>45327574</td>\n",
       "      <td>3302</td>\n",
       "      <td>1787</td>\n",
       "      <td>33</td>\n",
       "      <td>14</td>\n",
       "      <td>10</td>\n",
       "      <td>1740</td>\n",
       "      <td>97.37</td>\n",
       "      <td>1780</td>\n",
       "      <td>48614681</td>\n",
       "      <td>100</td>\n",
       "    </tr>\n",
       "    <tr>\n",
       "      <th>34</th>\n",
       "      <td>LINE_id_2_RIL_LINE32_FAM003189[type:LINE_sourc...</td>\n",
       "      <td>chr03</td>\n",
       "      <td>1</td>\n",
       "      <td>1780</td>\n",
       "      <td>42680126</td>\n",
       "      <td>42678340</td>\n",
       "      <td>3254</td>\n",
       "      <td>1788</td>\n",
       "      <td>49</td>\n",
       "      <td>9</td>\n",
       "      <td>8</td>\n",
       "      <td>1730</td>\n",
       "      <td>96.76</td>\n",
       "      <td>1780</td>\n",
       "      <td>62290286</td>\n",
       "      <td>100</td>\n",
       "    </tr>\n",
       "    <tr>\n",
       "      <th>35</th>\n",
       "      <td>LINE_id_2_RIL_LINE32_FAM003189[type:LINE_sourc...</td>\n",
       "      <td>chr03</td>\n",
       "      <td>1</td>\n",
       "      <td>1780</td>\n",
       "      <td>23235851</td>\n",
       "      <td>23237633</td>\n",
       "      <td>2306</td>\n",
       "      <td>1786</td>\n",
       "      <td>238</td>\n",
       "      <td>9</td>\n",
       "      <td>8</td>\n",
       "      <td>1539</td>\n",
       "      <td>86.17</td>\n",
       "      <td>1780</td>\n",
       "      <td>62290286</td>\n",
       "      <td>100</td>\n",
       "    </tr>\n",
       "    <tr>\n",
       "      <th>36</th>\n",
       "      <td>LINE_id_2_RIL_LINE32_FAM003189[type:LINE_sourc...</td>\n",
       "      <td>chr03</td>\n",
       "      <td>3</td>\n",
       "      <td>1780</td>\n",
       "      <td>36395558</td>\n",
       "      <td>36397321</td>\n",
       "      <td>2122</td>\n",
       "      <td>1791</td>\n",
       "      <td>242</td>\n",
       "      <td>40</td>\n",
       "      <td>18</td>\n",
       "      <td>1509</td>\n",
       "      <td>84.25</td>\n",
       "      <td>1780</td>\n",
       "      <td>62290286</td>\n",
       "      <td>100</td>\n",
       "    </tr>\n",
       "  </tbody>\n",
       "</table>\n",
       "</div>"
      ],
      "text/plain": [
       "                                               qseqid sseqid  qstart  qend  \\\n",
       "31  LINE_id_2_RIL_LINE32_FAM003189[type:LINE_sourc...  chr02       1  1780   \n",
       "32  LINE_id_2_RIL_LINE32_FAM003189[type:LINE_sourc...  chr02       1  1780   \n",
       "34  LINE_id_2_RIL_LINE32_FAM003189[type:LINE_sourc...  chr03       1  1780   \n",
       "35  LINE_id_2_RIL_LINE32_FAM003189[type:LINE_sourc...  chr03       1  1780   \n",
       "36  LINE_id_2_RIL_LINE32_FAM003189[type:LINE_sourc...  chr03       3  1780   \n",
       "\n",
       "      sstart      send  score  length  mismatch  gaps  gapopen  nident  \\\n",
       "31  19149564  19147794   3314    1785        26    19       10    1740   \n",
       "32  45325795  45327574   3302    1787        33    14       10    1740   \n",
       "34  42680126  42678340   3254    1788        49     9        8    1730   \n",
       "35  23235851  23237633   2306    1786       238     9        8    1539   \n",
       "36  36395558  36397321   2122    1791       242    40       18    1509   \n",
       "\n",
       "    pident  qlen      slen  qcovs  \n",
       "31   97.48  1780  48614681    100  \n",
       "32   97.37  1780  48614681    100  \n",
       "34   96.76  1780  62290286    100  \n",
       "35   86.17  1780  62290286    100  \n",
       "36   84.25  1780  62290286    100  "
      ]
     },
     "execution_count": 37,
     "metadata": {},
     "output_type": "execute_result"
    }
   ],
   "source": [
    "df.head()"
   ]
  },
  {
   "cell_type": "code",
   "execution_count": 30,
   "metadata": {},
   "outputs": [
    {
     "name": "stdout",
     "output_type": "stream",
     "text": [
      "('max treshold:', 262)\n"
     ]
    }
   ],
   "source": [
    "df = ((df.length / df.qlen) <= params[te_type]['max_q'])\n",
    "print('max treshold:',len(df.index))"
   ]
  },
  {
   "cell_type": "code",
   "execution_count": 14,
   "metadata": {},
   "outputs": [
    {
     "name": "stdout",
     "output_type": "stream",
     "text": [
      "Min_pident: 262\n"
     ]
    }
   ],
   "source": [
    "#filter by pident\n",
    "df = df[(df.pident >= params[te_type]['min_pident'])]\n",
    "print('Min_pident: ' + str(len(df.index)))"
   ]
  },
  {
   "cell_type": "code",
   "execution_count": 15,
   "metadata": {},
   "outputs": [
    {
     "name": "stdout",
     "output_type": "stream",
     "text": [
      "Min qcov: 261\n"
     ]
    }
   ],
   "source": [
    "#filter by qcov\n",
    "df = df[(df.qcovs >= params[te_type]['min_qcov'])]\n",
    "print('Min qcov: ' + str(len(df.index)))"
   ]
  },
  {
   "cell_type": "code",
   "execution_count": 16,
   "metadata": {},
   "outputs": [],
   "source": [
    "#order sstart and send\n",
    "df['new_sstart'] = df[['sstart','send']].min(axis=1)\n",
    "df['new_ssend'] = df[['sstart','send']].max(axis=1)\n",
    "df['sstart'] = df['new_sstart']\n",
    "df['send'] = df['new_ssend']\n",
    "df = df.drop('new_sstart',axis=1).drop('new_ssend',axis=1)\n",
    "\n",
    "# sep by chr\n",
    "dfs = {}\n",
    "for seq in df.sseqid.unique():\n",
    "    dfs[seq] = df[df.sseqid == seq]\n"
   ]
  },
  {
   "cell_type": "code",
   "execution_count": 17,
   "metadata": {},
   "outputs": [
    {
     "name": "stdout",
     "output_type": "stream",
     "text": [
      "10\n",
      "20\n",
      "30\n",
      "40\n",
      "50\n",
      "60\n",
      "70\n",
      "80\n",
      "90\n",
      "100\n"
     ]
    }
   ],
   "source": [
    "# filter overlapped \n",
    "rows = []\n",
    "discard = []\n",
    "total = len(df.index)\n",
    "count = 0\n",
    "curr = 0\n",
    "for index, row in df.iterrows():\n",
    "    count += 1\n",
    "    curr_new = int(count * 100 * 1.0 / (total * 1.0))\n",
    "    if curr_new != curr:\n",
    "        curr = curr_new\n",
    "        if curr_new % 10 == 0:\n",
    "            print(curr_new)\n",
    "    if index in discard:\n",
    "        continue\n",
    "    df_2 = dfs[row.sseqid]\n",
    "    res = df_2[(abs(df_2.sstart - row.sstart) <= params[te_type]['min_distance']) | (abs(df_2.send - row.send) <= params[te_type]['min_distance'])]\n",
    "    if len(res.index) > 1:\n",
    "        discard.extend(res.index.values)\n",
    "    rows.append(row)"
   ]
  },
  {
   "cell_type": "code",
   "execution_count": 18,
   "metadata": {},
   "outputs": [
    {
     "name": "stdout",
     "output_type": "stream",
     "text": [
      "Non overlapped: 248\n"
     ]
    }
   ],
   "source": [
    "df = pd.DataFrame(rows)\n",
    "df.sort_values(['sseqid', 'sstart'], inplace=True)\n",
    "print('Non overlapped: ' + str(len(df.index)))\n"
   ]
  },
  {
   "cell_type": "code",
   "execution_count": 19,
   "metadata": {},
   "outputs": [
    {
     "data": {
      "text/plain": [
       "'data/results/blast_clustered_line.csv.filtered'"
      ]
     },
     "execution_count": 19,
     "metadata": {},
     "output_type": "execute_result"
    }
   ],
   "source": [
    "filename = path_blast + params[te_type]['file'] + '.filtered'\n",
    "df.to_csv(filename, index=None, sep='\\t')\n",
    "filename"
   ]
  },
  {
   "cell_type": "code",
   "execution_count": null,
   "metadata": {},
   "outputs": [],
   "source": []
  },
  {
   "cell_type": "code",
   "execution_count": 74,
   "metadata": {},
   "outputs": [],
   "source": []
  },
  {
   "cell_type": "code",
   "execution_count": null,
   "metadata": {},
   "outputs": [],
   "source": []
  },
  {
   "cell_type": "code",
   "execution_count": null,
   "metadata": {},
   "outputs": [],
   "source": []
  }
 ],
 "metadata": {
  "kernelspec": {
   "display_name": "Python 3",
   "language": "python",
   "name": "python3"
  },
  "language_info": {
   "codemirror_mode": {
    "name": "ipython",
    "version": 2
   },
   "file_extension": ".py",
   "mimetype": "text/x-python",
   "name": "python",
   "nbconvert_exporter": "python",
   "pygments_lexer": "ipython2",
   "version": "2.7.15"
  }
 },
 "nbformat": 4,
 "nbformat_minor": 2
}
