{
 "cells": [
  {
   "cell_type": "code",
   "execution_count": 134,
   "metadata": {},
   "outputs": [],
   "source": [
    "import pandas as pd\n",
    "import matplotlib.pyplot as plt\n"
   ]
  },
  {
   "cell_type": "code",
   "execution_count": 113,
   "metadata": {},
   "outputs": [],
   "source": [
    "path_ages = \"data/plots/tehpra_ltrs_classified_ages.tsv\"\n",
    "path_parts = \"data/plots/Stuberosum_genome_parts.gff3\""
   ]
  },
  {
   "cell_type": "code",
   "execution_count": 114,
   "metadata": {},
   "outputs": [
    {
     "name": "stdout",
     "output_type": "stream",
     "text": [
      "35\n"
     ]
    },
    {
     "data": {
      "text/html": [
       "<div>\n",
       "<style scoped>\n",
       "    .dataframe tbody tr th:only-of-type {\n",
       "        vertical-align: middle;\n",
       "    }\n",
       "\n",
       "    .dataframe tbody tr th {\n",
       "        vertical-align: top;\n",
       "    }\n",
       "\n",
       "    .dataframe thead th {\n",
       "        text-align: right;\n",
       "    }\n",
       "</style>\n",
       "<table border=\"1\" class=\"dataframe\">\n",
       "  <thead>\n",
       "    <tr style=\"text-align: right;\">\n",
       "      <th></th>\n",
       "      <th>seqname</th>\n",
       "      <th>source</th>\n",
       "      <th>feature</th>\n",
       "      <th>start</th>\n",
       "      <th>end</th>\n",
       "      <th>score</th>\n",
       "      <th>strand</th>\n",
       "      <th>frame</th>\n",
       "      <th>attribute</th>\n",
       "    </tr>\n",
       "  </thead>\n",
       "  <tbody>\n",
       "    <tr>\n",
       "      <th>0</th>\n",
       "      <td>chr01</td>\n",
       "      <td>.</td>\n",
       "      <td>heterochromatin</td>\n",
       "      <td>4500001.0</td>\n",
       "      <td>34000000.0</td>\n",
       "      <td>.</td>\n",
       "      <td>0.0</td>\n",
       "      <td>.</td>\n",
       "      <td>.</td>\n",
       "    </tr>\n",
       "    <tr>\n",
       "      <th>1</th>\n",
       "      <td>chr01</td>\n",
       "      <td>.</td>\n",
       "      <td>euchromatin</td>\n",
       "      <td>34000001.0</td>\n",
       "      <td>88663952.0</td>\n",
       "      <td>.</td>\n",
       "      <td>0.0</td>\n",
       "      <td>.</td>\n",
       "      <td>.</td>\n",
       "    </tr>\n",
       "  </tbody>\n",
       "</table>\n",
       "</div>"
      ],
      "text/plain": [
       "  seqname source          feature       start         end score  strand frame  \\\n",
       "0   chr01      .  heterochromatin   4500001.0  34000000.0     .     0.0     .   \n",
       "1   chr01      .      euchromatin  34000001.0  88663952.0     .     0.0     .   \n",
       "\n",
       "  attribute  \n",
       "0         .  \n",
       "1         .  "
      ]
     },
     "execution_count": 114,
     "metadata": {},
     "output_type": "execute_result"
    }
   ],
   "source": [
    "df_genome_parts = pd.read_csv(path_parts, sep='\\t')\n",
    "df_genome_parts.columns = ['seqname' , 'source' , 'feature' , 'start' , 'end' , 'score' , 'strand' , 'frame' , 'attribute']\n",
    "print(len(df_genome_parts.index))\n",
    "df_genome_parts.head(2)"
   ]
  },
  {
   "cell_type": "code",
   "execution_count": 115,
   "metadata": {},
   "outputs": [
    {
     "name": "stdout",
     "output_type": "stream",
     "text": [
      "27591\n"
     ]
    },
    {
     "data": {
      "text/html": [
       "<div>\n",
       "<style scoped>\n",
       "    .dataframe tbody tr th:only-of-type {\n",
       "        vertical-align: middle;\n",
       "    }\n",
       "\n",
       "    .dataframe tbody tr th {\n",
       "        vertical-align: top;\n",
       "    }\n",
       "\n",
       "    .dataframe thead th {\n",
       "        text-align: right;\n",
       "    }\n",
       "</style>\n",
       "<table border=\"1\" class=\"dataframe\">\n",
       "  <thead>\n",
       "    <tr style=\"text-align: right;\">\n",
       "      <th></th>\n",
       "      <th>ID</th>\n",
       "      <th>Divergence</th>\n",
       "      <th>Age</th>\n",
       "      <th>Ts:Tv</th>\n",
       "    </tr>\n",
       "  </thead>\n",
       "  <tbody>\n",
       "    <tr>\n",
       "      <th>0</th>\n",
       "      <td>RLC_family0_LTR_retrotransposon248_chr00_43732...</td>\n",
       "      <td>0.0775</td>\n",
       "      <td>38750000</td>\n",
       "      <td>11.0785</td>\n",
       "    </tr>\n",
       "    <tr>\n",
       "      <th>1</th>\n",
       "      <td>RLC_family0_LTR_retrotransposon829_chr00_19719...</td>\n",
       "      <td>0.0611</td>\n",
       "      <td>30550000</td>\n",
       "      <td>9.7319</td>\n",
       "    </tr>\n",
       "  </tbody>\n",
       "</table>\n",
       "</div>"
      ],
      "text/plain": [
       "                                                  ID  Divergence       Age  \\\n",
       "0  RLC_family0_LTR_retrotransposon248_chr00_43732...      0.0775  38750000   \n",
       "1  RLC_family0_LTR_retrotransposon829_chr00_19719...      0.0611  30550000   \n",
       "\n",
       "     Ts:Tv  \n",
       "0  11.0785  \n",
       "1   9.7319  "
      ]
     },
     "execution_count": 115,
     "metadata": {},
     "output_type": "execute_result"
    }
   ],
   "source": [
    "df_ages = pd.read_csv(path_ages, sep='\\t')\n",
    "print(len(df_ages.index))\n",
    "df_ages.head(2)"
   ]
  },
  {
   "cell_type": "code",
   "execution_count": 116,
   "metadata": {},
   "outputs": [],
   "source": [
    "df_ages['seqname'] = df_ages['ID'].str.split('_').str[-3:-2].str[0]\n",
    "df_ages['start'] = df_ages['ID'].str.split('_').str[-2:-1].str[0]\n",
    "df_ages['end'] = df_ages['ID'].str.split('_').str[-1:].str[0]\n",
    "df_ages['start'] = pd.to_numeric(df_ages['start'])\n",
    "df_ages['end'] = pd.to_numeric(df_ages['end'])"
   ]
  },
  {
   "cell_type": "code",
   "execution_count": 117,
   "metadata": {},
   "outputs": [
    {
     "data": {
      "text/html": [
       "<div>\n",
       "<style scoped>\n",
       "    .dataframe tbody tr th:only-of-type {\n",
       "        vertical-align: middle;\n",
       "    }\n",
       "\n",
       "    .dataframe tbody tr th {\n",
       "        vertical-align: top;\n",
       "    }\n",
       "\n",
       "    .dataframe thead th {\n",
       "        text-align: right;\n",
       "    }\n",
       "</style>\n",
       "<table border=\"1\" class=\"dataframe\">\n",
       "  <thead>\n",
       "    <tr style=\"text-align: right;\">\n",
       "      <th></th>\n",
       "      <th>ID</th>\n",
       "      <th>Divergence</th>\n",
       "      <th>Age</th>\n",
       "      <th>Ts:Tv</th>\n",
       "      <th>seqname</th>\n",
       "      <th>start</th>\n",
       "      <th>end</th>\n",
       "    </tr>\n",
       "  </thead>\n",
       "  <tbody>\n",
       "    <tr>\n",
       "      <th>13522</th>\n",
       "      <td>RLX_singleton_family160_LARD_retrotransposon25...</td>\n",
       "      <td>0.1209</td>\n",
       "      <td>60450000</td>\n",
       "      <td>3.5699</td>\n",
       "      <td>chr00</td>\n",
       "      <td>9101356</td>\n",
       "      <td>9109559</td>\n",
       "    </tr>\n",
       "    <tr>\n",
       "      <th>10317</th>\n",
       "      <td>RLX_family54_TRIM_retrotransposon3510_chr05_98...</td>\n",
       "      <td>0.0542</td>\n",
       "      <td>27100000</td>\n",
       "      <td>2.1205</td>\n",
       "      <td>chr05</td>\n",
       "      <td>9884236</td>\n",
       "      <td>9884642</td>\n",
       "    </tr>\n",
       "    <tr>\n",
       "      <th>15666</th>\n",
       "      <td>RLX_singleton_family2304_LARD_retrotransposon3...</td>\n",
       "      <td>0.0692</td>\n",
       "      <td>34600000</td>\n",
       "      <td>1.7656</td>\n",
       "      <td>chr03</td>\n",
       "      <td>59854802</td>\n",
       "      <td>59858630</td>\n",
       "    </tr>\n",
       "  </tbody>\n",
       "</table>\n",
       "</div>"
      ],
      "text/plain": [
       "                                                      ID  Divergence  \\\n",
       "13522  RLX_singleton_family160_LARD_retrotransposon25...      0.1209   \n",
       "10317  RLX_family54_TRIM_retrotransposon3510_chr05_98...      0.0542   \n",
       "15666  RLX_singleton_family2304_LARD_retrotransposon3...      0.0692   \n",
       "\n",
       "            Age   Ts:Tv seqname     start       end  \n",
       "13522  60450000  3.5699   chr00   9101356   9109559  \n",
       "10317  27100000  2.1205   chr05   9884236   9884642  \n",
       "15666  34600000  1.7656   chr03  59854802  59858630  "
      ]
     },
     "execution_count": 117,
     "metadata": {},
     "output_type": "execute_result"
    }
   ],
   "source": [
    "df_ages.sample(3)"
   ]
  },
  {
   "cell_type": "code",
   "execution_count": 118,
   "metadata": {},
   "outputs": [],
   "source": [
    "#ADJUST VALUES HERE"
   ]
  },
  {
   "cell_type": "code",
   "execution_count": 153,
   "metadata": {},
   "outputs": [],
   "source": [
    "what = 'RLG'\n",
    "where = 'heterochromatin'\n",
    "#where = 'euchromatin'\n",
    "#what = 'RLC'"
   ]
  },
  {
   "cell_type": "code",
   "execution_count": 154,
   "metadata": {},
   "outputs": [
    {
     "name": "stdout",
     "output_type": "stream",
     "text": [
      "22\n"
     ]
    },
    {
     "data": {
      "text/html": [
       "<div>\n",
       "<style scoped>\n",
       "    .dataframe tbody tr th:only-of-type {\n",
       "        vertical-align: middle;\n",
       "    }\n",
       "\n",
       "    .dataframe tbody tr th {\n",
       "        vertical-align: top;\n",
       "    }\n",
       "\n",
       "    .dataframe thead th {\n",
       "        text-align: right;\n",
       "    }\n",
       "</style>\n",
       "<table border=\"1\" class=\"dataframe\">\n",
       "  <thead>\n",
       "    <tr style=\"text-align: right;\">\n",
       "      <th></th>\n",
       "      <th>seqname</th>\n",
       "      <th>source</th>\n",
       "      <th>feature</th>\n",
       "      <th>start</th>\n",
       "      <th>end</th>\n",
       "      <th>score</th>\n",
       "      <th>strand</th>\n",
       "      <th>frame</th>\n",
       "      <th>attribute</th>\n",
       "    </tr>\n",
       "  </thead>\n",
       "  <tbody>\n",
       "    <tr>\n",
       "      <th>1</th>\n",
       "      <td>chr01</td>\n",
       "      <td>.</td>\n",
       "      <td>euchromatin</td>\n",
       "      <td>34000001.0</td>\n",
       "      <td>88663952.0</td>\n",
       "      <td>.</td>\n",
       "      <td>0.0</td>\n",
       "      <td>.</td>\n",
       "      <td>.</td>\n",
       "    </tr>\n",
       "    <tr>\n",
       "      <th>3</th>\n",
       "      <td>chr02</td>\n",
       "      <td>.</td>\n",
       "      <td>euchromatin</td>\n",
       "      <td>14000001.0</td>\n",
       "      <td>48614681.0</td>\n",
       "      <td>.</td>\n",
       "      <td>0.0</td>\n",
       "      <td>.</td>\n",
       "      <td>.</td>\n",
       "    </tr>\n",
       "    <tr>\n",
       "      <th>4</th>\n",
       "      <td>chr03</td>\n",
       "      <td>.</td>\n",
       "      <td>euchromatin</td>\n",
       "      <td>0.0</td>\n",
       "      <td>4500000.0</td>\n",
       "      <td>.</td>\n",
       "      <td>0.0</td>\n",
       "      <td>.</td>\n",
       "      <td>.</td>\n",
       "    </tr>\n",
       "  </tbody>\n",
       "</table>\n",
       "</div>"
      ],
      "text/plain": [
       "  seqname source      feature       start         end score  strand frame  \\\n",
       "1   chr01      .  euchromatin  34000001.0  88663952.0     .     0.0     .   \n",
       "3   chr02      .  euchromatin  14000001.0  48614681.0     .     0.0     .   \n",
       "4   chr03      .  euchromatin         0.0   4500000.0     .     0.0     .   \n",
       "\n",
       "  attribute  \n",
       "1         .  \n",
       "3         .  \n",
       "4         .  "
      ]
     },
     "execution_count": 154,
     "metadata": {},
     "output_type": "execute_result"
    }
   ],
   "source": [
    "df_genome_parts_now = df_genome_parts[df_genome_parts.feature == where]\n",
    "print(len(df_genome_parts_now.index))\n",
    "df_genome_parts_now.head(3)"
   ]
  },
  {
   "cell_type": "code",
   "execution_count": 155,
   "metadata": {},
   "outputs": [
    {
     "name": "stdout",
     "output_type": "stream",
     "text": [
      "4821\n"
     ]
    },
    {
     "data": {
      "text/html": [
       "<div>\n",
       "<style scoped>\n",
       "    .dataframe tbody tr th:only-of-type {\n",
       "        vertical-align: middle;\n",
       "    }\n",
       "\n",
       "    .dataframe tbody tr th {\n",
       "        vertical-align: top;\n",
       "    }\n",
       "\n",
       "    .dataframe thead th {\n",
       "        text-align: right;\n",
       "    }\n",
       "</style>\n",
       "<table border=\"1\" class=\"dataframe\">\n",
       "  <thead>\n",
       "    <tr style=\"text-align: right;\">\n",
       "      <th></th>\n",
       "      <th>ID</th>\n",
       "      <th>Divergence</th>\n",
       "      <th>Age</th>\n",
       "      <th>Ts:Tv</th>\n",
       "      <th>seqname</th>\n",
       "      <th>start</th>\n",
       "      <th>end</th>\n",
       "    </tr>\n",
       "  </thead>\n",
       "  <tbody>\n",
       "    <tr>\n",
       "      <th>2717</th>\n",
       "      <td>RLG_family0_LTR_retrotransposon161_chr00_18907...</td>\n",
       "      <td>0.1331</td>\n",
       "      <td>66550000</td>\n",
       "      <td>1.1990</td>\n",
       "      <td>chr00</td>\n",
       "      <td>1890782</td>\n",
       "      <td>1893853</td>\n",
       "    </tr>\n",
       "    <tr>\n",
       "      <th>2718</th>\n",
       "      <td>RLG_family0_LTR_retrotransposon171_chr00_21055...</td>\n",
       "      <td>0.1145</td>\n",
       "      <td>57250000</td>\n",
       "      <td>2.5073</td>\n",
       "      <td>chr00</td>\n",
       "      <td>2105503</td>\n",
       "      <td>2116332</td>\n",
       "    </tr>\n",
       "    <tr>\n",
       "      <th>2719</th>\n",
       "      <td>RLG_family0_LTR_retrotransposon290_chr00_53432...</td>\n",
       "      <td>0.0640</td>\n",
       "      <td>32000000</td>\n",
       "      <td>2.6054</td>\n",
       "      <td>chr00</td>\n",
       "      <td>5343297</td>\n",
       "      <td>5353685</td>\n",
       "    </tr>\n",
       "  </tbody>\n",
       "</table>\n",
       "</div>"
      ],
      "text/plain": [
       "                                                     ID  Divergence       Age  \\\n",
       "2717  RLG_family0_LTR_retrotransposon161_chr00_18907...      0.1331  66550000   \n",
       "2718  RLG_family0_LTR_retrotransposon171_chr00_21055...      0.1145  57250000   \n",
       "2719  RLG_family0_LTR_retrotransposon290_chr00_53432...      0.0640  32000000   \n",
       "\n",
       "       Ts:Tv seqname    start      end  \n",
       "2717  1.1990   chr00  1890782  1893853  \n",
       "2718  2.5073   chr00  2105503  2116332  \n",
       "2719  2.6054   chr00  5343297  5353685  "
      ]
     },
     "execution_count": 155,
     "metadata": {},
     "output_type": "execute_result"
    }
   ],
   "source": [
    "df_ages_now = df_ages[df_ages.ID.str.contains(what)]\n",
    "print(len(df_ages_now.index))\n",
    "df_ages_now.head(3)"
   ]
  },
  {
   "cell_type": "code",
   "execution_count": 156,
   "metadata": {},
   "outputs": [],
   "source": [
    "saved = []\n",
    "for k,v in df_genome_parts_now.iterrows():\n",
    "    df_filter = df_ages_now[(df_ages_now.seqname == v.seqname) &\n",
    "                            (df_ages_now.start <= v.end) &\n",
    "                            (df_ages_now.end >= v.start) ]\n",
    "    saved.append(df_filter)\n",
    "df_res = pd.concat(saved)"
   ]
  },
  {
   "cell_type": "code",
   "execution_count": 157,
   "metadata": {},
   "outputs": [
    {
     "name": "stdout",
     "output_type": "stream",
     "text": [
      "1779\n"
     ]
    }
   ],
   "source": [
    "print(len(df_res.index))"
   ]
  },
  {
   "cell_type": "code",
   "execution_count": 158,
   "metadata": {},
   "outputs": [
    {
     "name": "stdout",
     "output_type": "stream",
     "text": [
      "1779\n"
     ]
    }
   ],
   "source": [
    "print(len(df_res.ID.unique()))"
   ]
  },
  {
   "cell_type": "code",
   "execution_count": 159,
   "metadata": {},
   "outputs": [],
   "source": [
    "path_save = 'data/plots/%s_%s' % (what, where)\n",
    "df_res.to_csv(path_save + '.csv', index=None)"
   ]
  },
  {
   "cell_type": "code",
   "execution_count": 160,
   "metadata": {},
   "outputs": [],
   "source": [
    "x = (df_res.Age / 1000000).tolist()"
   ]
  },
  {
   "cell_type": "code",
   "execution_count": 161,
   "metadata": {},
   "outputs": [
    {
     "data": {
      "text/plain": [
       "'data/plots/RLG_euchromatin'"
      ]
     },
     "execution_count": 161,
     "metadata": {},
     "output_type": "execute_result"
    },
    {
     "data": {
      "image/png": "[encoded data removed]",
      "text/plain": [
       "<Figure size 432x288 with 1 Axes>"
      ]
     },
     "metadata": {
      "needs_background": "light"
     },
     "output_type": "display_data"
    }
   ],
   "source": [
    "# An \"interface\" to matplotlib.axes.Axes.hist() method\n",
    "fig = plt.figure()\n",
    "n, bins, patches = plt.hist(x=x, bins='auto', color='#0504aa',\n",
    "                            alpha=0.7, rwidth=0.85)\n",
    "plt.grid(axis='y', alpha=0.75)\n",
    "plt.xlabel('Age (my)')\n",
    "plt.ylabel('Frequency')\n",
    "plt.title('%s LTR in %s' % (what, where))\n",
    "maxfreq = n.max()\n",
    "# Set a clean upper y-axis limit.\n",
    "fig.savefig(path_save + '.svg', dpi=fig.dpi)\n",
    "path_save"
   ]
  },
  {
   "cell_type": "code",
   "execution_count": null,
   "metadata": {},
   "outputs": [],
   "source": []
  },
  {
   "cell_type": "code",
   "execution_count": null,
   "metadata": {},
   "outputs": [],
   "source": []
  },
  {
   "cell_type": "code",
   "execution_count": null,
   "metadata": {},
   "outputs": [],
   "source": []
  }
 ],
 "metadata": {
  "kernelspec": {
   "display_name": "Python 3",
   "language": "python",
   "name": "python3"
  },
  "language_info": {
   "codemirror_mode": {
    "name": "ipython",
    "version": 3
   },
   "file_extension": ".py",
   "mimetype": "text/x-python",
   "name": "python",
   "nbconvert_exporter": "python",
   "pygments_lexer": "ipython3",
   "version": "3.6.5"
  }
 },
 "nbformat": 4,
 "nbformat_minor": 2
}
