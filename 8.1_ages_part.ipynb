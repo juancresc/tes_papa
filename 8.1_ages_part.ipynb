{
 "cells": [
  {
   "cell_type": "code",
   "execution_count": 1,
   "metadata": {},
   "outputs": [],
   "source": [
    "import pandas as pd\n",
    "import matplotlib.pyplot as plt\n",
    "import matplotlib.patches as mpatches\n",
    "import matplotlib as mpl\n",
    "import seaborn as sns\n",
    "import numpy as np\n",
    "mpl.rcParams['figure.dpi'] = 200"
   ]
  },
  {
   "cell_type": "code",
   "execution_count": 2,
   "metadata": {},
   "outputs": [],
   "source": [
    "path_ages = \"data/plots/tehpra_ltrs_classified_ages_new_09_04_19.tsv\"\n",
    "path_parts = \"data/plots/Stuberosum_genome_parts.gff3\""
   ]
  },
  {
   "cell_type": "code",
   "execution_count": 3,
   "metadata": {},
   "outputs": [
    {
     "name": "stdout",
     "output_type": "stream",
     "text": [
      "36\n"
     ]
    },
    {
     "data": {
      "text/html": [
       "<div>\n",
       "<style scoped>\n",
       "    .dataframe tbody tr th:only-of-type {\n",
       "        vertical-align: middle;\n",
       "    }\n",
       "\n",
       "    .dataframe tbody tr th {\n",
       "        vertical-align: top;\n",
       "    }\n",
       "\n",
       "    .dataframe thead th {\n",
       "        text-align: right;\n",
       "    }\n",
       "</style>\n",
       "<table border=\"1\" class=\"dataframe\">\n",
       "  <thead>\n",
       "    <tr style=\"text-align: right;\">\n",
       "      <th></th>\n",
       "      <th>seqname</th>\n",
       "      <th>source</th>\n",
       "      <th>feature</th>\n",
       "      <th>start</th>\n",
       "      <th>end</th>\n",
       "      <th>score</th>\n",
       "      <th>strand</th>\n",
       "      <th>frame</th>\n",
       "      <th>attribute</th>\n",
       "    </tr>\n",
       "  </thead>\n",
       "  <tbody>\n",
       "    <tr>\n",
       "      <th>0</th>\n",
       "      <td>chr01</td>\n",
       "      <td>.</td>\n",
       "      <td>euchromatin</td>\n",
       "      <td>0.0</td>\n",
       "      <td>4500000.0</td>\n",
       "      <td>.</td>\n",
       "      <td>0.0</td>\n",
       "      <td>.</td>\n",
       "      <td>.</td>\n",
       "    </tr>\n",
       "    <tr>\n",
       "      <th>1</th>\n",
       "      <td>chr01</td>\n",
       "      <td>.</td>\n",
       "      <td>heterochromatin</td>\n",
       "      <td>4500001.0</td>\n",
       "      <td>34000000.0</td>\n",
       "      <td>.</td>\n",
       "      <td>0.0</td>\n",
       "      <td>.</td>\n",
       "      <td>.</td>\n",
       "    </tr>\n",
       "    <tr>\n",
       "      <th>2</th>\n",
       "      <td>chr01</td>\n",
       "      <td>.</td>\n",
       "      <td>euchromatin</td>\n",
       "      <td>34000001.0</td>\n",
       "      <td>88663952.0</td>\n",
       "      <td>.</td>\n",
       "      <td>0.0</td>\n",
       "      <td>.</td>\n",
       "      <td>.</td>\n",
       "    </tr>\n",
       "    <tr>\n",
       "      <th>3</th>\n",
       "      <td>chr02</td>\n",
       "      <td>.</td>\n",
       "      <td>heterochromatin</td>\n",
       "      <td>0.0</td>\n",
       "      <td>14000000.0</td>\n",
       "      <td>.</td>\n",
       "      <td>0.0</td>\n",
       "      <td>.</td>\n",
       "      <td>.</td>\n",
       "    </tr>\n",
       "    <tr>\n",
       "      <th>4</th>\n",
       "      <td>chr02</td>\n",
       "      <td>.</td>\n",
       "      <td>euchromatin</td>\n",
       "      <td>14000001.0</td>\n",
       "      <td>48614681.0</td>\n",
       "      <td>.</td>\n",
       "      <td>0.0</td>\n",
       "      <td>.</td>\n",
       "      <td>.</td>\n",
       "    </tr>\n",
       "    <tr>\n",
       "      <th>5</th>\n",
       "      <td>chr03</td>\n",
       "      <td>.</td>\n",
       "      <td>euchromatin</td>\n",
       "      <td>0.0</td>\n",
       "      <td>4500000.0</td>\n",
       "      <td>.</td>\n",
       "      <td>0.0</td>\n",
       "      <td>.</td>\n",
       "      <td>.</td>\n",
       "    </tr>\n",
       "    <tr>\n",
       "      <th>6</th>\n",
       "      <td>chr03</td>\n",
       "      <td>.</td>\n",
       "      <td>heterochromatin</td>\n",
       "      <td>4500001.0</td>\n",
       "      <td>23000000.0</td>\n",
       "      <td>.</td>\n",
       "      <td>0.0</td>\n",
       "      <td>.</td>\n",
       "      <td>.</td>\n",
       "    </tr>\n",
       "    <tr>\n",
       "      <th>7</th>\n",
       "      <td>chr03</td>\n",
       "      <td>.</td>\n",
       "      <td>euchromatin</td>\n",
       "      <td>23000001.0</td>\n",
       "      <td>62290286.0</td>\n",
       "      <td>.</td>\n",
       "      <td>0.0</td>\n",
       "      <td>.</td>\n",
       "      <td>.</td>\n",
       "    </tr>\n",
       "    <tr>\n",
       "      <th>8</th>\n",
       "      <td>chr04</td>\n",
       "      <td>.</td>\n",
       "      <td>euchromatin</td>\n",
       "      <td>0.0</td>\n",
       "      <td>11000000.0</td>\n",
       "      <td>.</td>\n",
       "      <td>0.0</td>\n",
       "      <td>.</td>\n",
       "      <td>.</td>\n",
       "    </tr>\n",
       "    <tr>\n",
       "      <th>9</th>\n",
       "      <td>chr04</td>\n",
       "      <td>.</td>\n",
       "      <td>heterochromatin</td>\n",
       "      <td>11000001.0</td>\n",
       "      <td>32500000.0</td>\n",
       "      <td>.</td>\n",
       "      <td>0.0</td>\n",
       "      <td>.</td>\n",
       "      <td>.</td>\n",
       "    </tr>\n",
       "    <tr>\n",
       "      <th>10</th>\n",
       "      <td>chr04</td>\n",
       "      <td>.</td>\n",
       "      <td>euchromatin</td>\n",
       "      <td>32500001.0</td>\n",
       "      <td>72208621.0</td>\n",
       "      <td>.</td>\n",
       "      <td>0.0</td>\n",
       "      <td>.</td>\n",
       "      <td>.</td>\n",
       "    </tr>\n",
       "    <tr>\n",
       "      <th>11</th>\n",
       "      <td>chr05</td>\n",
       "      <td>.</td>\n",
       "      <td>euchromatin</td>\n",
       "      <td>0.0</td>\n",
       "      <td>15500000.0</td>\n",
       "      <td>.</td>\n",
       "      <td>0.0</td>\n",
       "      <td>.</td>\n",
       "      <td>.</td>\n",
       "    </tr>\n",
       "    <tr>\n",
       "      <th>12</th>\n",
       "      <td>chr05</td>\n",
       "      <td>.</td>\n",
       "      <td>heterochromatin</td>\n",
       "      <td>15500001.0</td>\n",
       "      <td>40000000.0</td>\n",
       "      <td>.</td>\n",
       "      <td>0.0</td>\n",
       "      <td>.</td>\n",
       "      <td>.</td>\n",
       "    </tr>\n",
       "    <tr>\n",
       "      <th>13</th>\n",
       "      <td>chr05</td>\n",
       "      <td>.</td>\n",
       "      <td>euchromatin</td>\n",
       "      <td>40000001.0</td>\n",
       "      <td>52070158.0</td>\n",
       "      <td>.</td>\n",
       "      <td>0.0</td>\n",
       "      <td>.</td>\n",
       "      <td>.</td>\n",
       "    </tr>\n",
       "    <tr>\n",
       "      <th>14</th>\n",
       "      <td>chr06</td>\n",
       "      <td>.</td>\n",
       "      <td>euchromatin</td>\n",
       "      <td>0.0</td>\n",
       "      <td>5000000.0</td>\n",
       "      <td>.</td>\n",
       "      <td>0.0</td>\n",
       "      <td>.</td>\n",
       "      <td>.</td>\n",
       "    </tr>\n",
       "    <tr>\n",
       "      <th>15</th>\n",
       "      <td>chr06</td>\n",
       "      <td>.</td>\n",
       "      <td>heterochromatin</td>\n",
       "      <td>5000001.0</td>\n",
       "      <td>31500000.0</td>\n",
       "      <td>.</td>\n",
       "      <td>0.0</td>\n",
       "      <td>.</td>\n",
       "      <td>.</td>\n",
       "    </tr>\n",
       "    <tr>\n",
       "      <th>16</th>\n",
       "      <td>chr06</td>\n",
       "      <td>.</td>\n",
       "      <td>euchromatin</td>\n",
       "      <td>31500001.0</td>\n",
       "      <td>59532096.0</td>\n",
       "      <td>.</td>\n",
       "      <td>0.0</td>\n",
       "      <td>.</td>\n",
       "      <td>.</td>\n",
       "    </tr>\n",
       "    <tr>\n",
       "      <th>17</th>\n",
       "      <td>chr07</td>\n",
       "      <td>.</td>\n",
       "      <td>euchromatin</td>\n",
       "      <td>0.0</td>\n",
       "      <td>9000000.0</td>\n",
       "      <td>.</td>\n",
       "      <td>0.0</td>\n",
       "      <td>.</td>\n",
       "      <td>.</td>\n",
       "    </tr>\n",
       "    <tr>\n",
       "      <th>18</th>\n",
       "      <td>chr07</td>\n",
       "      <td>.</td>\n",
       "      <td>heterochromatin</td>\n",
       "      <td>9000001.0</td>\n",
       "      <td>29000000.0</td>\n",
       "      <td>.</td>\n",
       "      <td>0.0</td>\n",
       "      <td>.</td>\n",
       "      <td>.</td>\n",
       "    </tr>\n",
       "    <tr>\n",
       "      <th>19</th>\n",
       "      <td>chr07</td>\n",
       "      <td>.</td>\n",
       "      <td>euchromatin</td>\n",
       "      <td>29000001.0</td>\n",
       "      <td>56760843.0</td>\n",
       "      <td>.</td>\n",
       "      <td>0.0</td>\n",
       "      <td>.</td>\n",
       "      <td>.</td>\n",
       "    </tr>\n",
       "    <tr>\n",
       "      <th>20</th>\n",
       "      <td>chr08</td>\n",
       "      <td>.</td>\n",
       "      <td>euchromatin</td>\n",
       "      <td>0.0</td>\n",
       "      <td>4500000.0</td>\n",
       "      <td>.</td>\n",
       "      <td>0.0</td>\n",
       "      <td>.</td>\n",
       "      <td>.</td>\n",
       "    </tr>\n",
       "    <tr>\n",
       "      <th>21</th>\n",
       "      <td>chr08</td>\n",
       "      <td>.</td>\n",
       "      <td>heterochromatin</td>\n",
       "      <td>4500001.0</td>\n",
       "      <td>23000000.0</td>\n",
       "      <td>.</td>\n",
       "      <td>0.0</td>\n",
       "      <td>.</td>\n",
       "      <td>.</td>\n",
       "    </tr>\n",
       "    <tr>\n",
       "      <th>22</th>\n",
       "      <td>chr08</td>\n",
       "      <td>.</td>\n",
       "      <td>euchromatin</td>\n",
       "      <td>23000001.0</td>\n",
       "      <td>56938457.0</td>\n",
       "      <td>.</td>\n",
       "      <td>0.0</td>\n",
       "      <td>.</td>\n",
       "      <td>.</td>\n",
       "    </tr>\n",
       "    <tr>\n",
       "      <th>23</th>\n",
       "      <td>chr09</td>\n",
       "      <td>.</td>\n",
       "      <td>euchromatin</td>\n",
       "      <td>0.0</td>\n",
       "      <td>8000000.0</td>\n",
       "      <td>.</td>\n",
       "      <td>0.0</td>\n",
       "      <td>.</td>\n",
       "      <td>.</td>\n",
       "    </tr>\n",
       "    <tr>\n",
       "      <th>24</th>\n",
       "      <td>chr09</td>\n",
       "      <td>.</td>\n",
       "      <td>heterochromatin</td>\n",
       "      <td>8000001.0</td>\n",
       "      <td>37000000.0</td>\n",
       "      <td>.</td>\n",
       "      <td>0.0</td>\n",
       "      <td>.</td>\n",
       "      <td>.</td>\n",
       "    </tr>\n",
       "    <tr>\n",
       "      <th>25</th>\n",
       "      <td>chr09</td>\n",
       "      <td>.</td>\n",
       "      <td>euchromatin</td>\n",
       "      <td>37000001.0</td>\n",
       "      <td>61540751.0</td>\n",
       "      <td>.</td>\n",
       "      <td>0.0</td>\n",
       "      <td>.</td>\n",
       "      <td>.</td>\n",
       "    </tr>\n",
       "    <tr>\n",
       "      <th>26</th>\n",
       "      <td>chr10</td>\n",
       "      <td>.</td>\n",
       "      <td>euchromatin</td>\n",
       "      <td>0.0</td>\n",
       "      <td>6000000.0</td>\n",
       "      <td>.</td>\n",
       "      <td>0.0</td>\n",
       "      <td>.</td>\n",
       "      <td>.</td>\n",
       "    </tr>\n",
       "    <tr>\n",
       "      <th>27</th>\n",
       "      <td>chr10</td>\n",
       "      <td>.</td>\n",
       "      <td>heterochromatin</td>\n",
       "      <td>6000001.0</td>\n",
       "      <td>36000000.0</td>\n",
       "      <td>.</td>\n",
       "      <td>0.0</td>\n",
       "      <td>.</td>\n",
       "      <td>.</td>\n",
       "    </tr>\n",
       "    <tr>\n",
       "      <th>28</th>\n",
       "      <td>chr10</td>\n",
       "      <td>.</td>\n",
       "      <td>euchromatin</td>\n",
       "      <td>36000001.0</td>\n",
       "      <td>59756223.0</td>\n",
       "      <td>.</td>\n",
       "      <td>0.0</td>\n",
       "      <td>.</td>\n",
       "      <td>.</td>\n",
       "    </tr>\n",
       "    <tr>\n",
       "      <th>29</th>\n",
       "      <td>chr11</td>\n",
       "      <td>.</td>\n",
       "      <td>euchromatin</td>\n",
       "      <td>0.0</td>\n",
       "      <td>10000000.0</td>\n",
       "      <td>.</td>\n",
       "      <td>0.0</td>\n",
       "      <td>.</td>\n",
       "      <td>.</td>\n",
       "    </tr>\n",
       "    <tr>\n",
       "      <th>30</th>\n",
       "      <td>chr11</td>\n",
       "      <td>.</td>\n",
       "      <td>heterochromatin</td>\n",
       "      <td>10000001.0</td>\n",
       "      <td>28000000.0</td>\n",
       "      <td>.</td>\n",
       "      <td>0.0</td>\n",
       "      <td>.</td>\n",
       "      <td>.</td>\n",
       "    </tr>\n",
       "    <tr>\n",
       "      <th>31</th>\n",
       "      <td>chr11</td>\n",
       "      <td>.</td>\n",
       "      <td>euchromatin</td>\n",
       "      <td>28000001.0</td>\n",
       "      <td>45475667.0</td>\n",
       "      <td>.</td>\n",
       "      <td>0.0</td>\n",
       "      <td>.</td>\n",
       "      <td>.</td>\n",
       "    </tr>\n",
       "    <tr>\n",
       "      <th>32</th>\n",
       "      <td>NaN</td>\n",
       "      <td>NaN</td>\n",
       "      <td>NaN</td>\n",
       "      <td>NaN</td>\n",
       "      <td>NaN</td>\n",
       "      <td>NaN</td>\n",
       "      <td>NaN</td>\n",
       "      <td>NaN</td>\n",
       "      <td>NaN</td>\n",
       "    </tr>\n",
       "    <tr>\n",
       "      <th>33</th>\n",
       "      <td>chr12</td>\n",
       "      <td>.</td>\n",
       "      <td>euchromatin</td>\n",
       "      <td>0.0</td>\n",
       "      <td>16500000.0</td>\n",
       "      <td>.</td>\n",
       "      <td>0.0</td>\n",
       "      <td>.</td>\n",
       "      <td>.</td>\n",
       "    </tr>\n",
       "    <tr>\n",
       "      <th>34</th>\n",
       "      <td>chr12</td>\n",
       "      <td>.</td>\n",
       "      <td>heterochromatin</td>\n",
       "      <td>16500001.0</td>\n",
       "      <td>41000000.0</td>\n",
       "      <td>.</td>\n",
       "      <td>0.0</td>\n",
       "      <td>.</td>\n",
       "      <td>.</td>\n",
       "    </tr>\n",
       "    <tr>\n",
       "      <th>35</th>\n",
       "      <td>chr12</td>\n",
       "      <td>.</td>\n",
       "      <td>euchromatin</td>\n",
       "      <td>41000001.0</td>\n",
       "      <td>61165649.0</td>\n",
       "      <td>.</td>\n",
       "      <td>0.0</td>\n",
       "      <td>.</td>\n",
       "      <td>.</td>\n",
       "    </tr>\n",
       "  </tbody>\n",
       "</table>\n",
       "</div>"
      ],
      "text/plain": [
       "   seqname source          feature       start         end score  strand  \\\n",
       "0    chr01      .      euchromatin         0.0   4500000.0     .     0.0   \n",
       "1    chr01      .  heterochromatin   4500001.0  34000000.0     .     0.0   \n",
       "2    chr01      .      euchromatin  34000001.0  88663952.0     .     0.0   \n",
       "3    chr02      .  heterochromatin         0.0  14000000.0     .     0.0   \n",
       "4    chr02      .      euchromatin  14000001.0  48614681.0     .     0.0   \n",
       "5    chr03      .      euchromatin         0.0   4500000.0     .     0.0   \n",
       "6    chr03      .  heterochromatin   4500001.0  23000000.0     .     0.0   \n",
       "7    chr03      .      euchromatin  23000001.0  62290286.0     .     0.0   \n",
       "8    chr04      .      euchromatin         0.0  11000000.0     .     0.0   \n",
       "9    chr04      .  heterochromatin  11000001.0  32500000.0     .     0.0   \n",
       "10   chr04      .      euchromatin  32500001.0  72208621.0     .     0.0   \n",
       "11   chr05      .      euchromatin         0.0  15500000.0     .     0.0   \n",
       "12   chr05      .  heterochromatin  15500001.0  40000000.0     .     0.0   \n",
       "13   chr05      .      euchromatin  40000001.0  52070158.0     .     0.0   \n",
       "14   chr06      .      euchromatin         0.0   5000000.0     .     0.0   \n",
       "15   chr06      .  heterochromatin   5000001.0  31500000.0     .     0.0   \n",
       "16   chr06      .      euchromatin  31500001.0  59532096.0     .     0.0   \n",
       "17   chr07      .      euchromatin         0.0   9000000.0     .     0.0   \n",
       "18   chr07      .  heterochromatin   9000001.0  29000000.0     .     0.0   \n",
       "19   chr07      .      euchromatin  29000001.0  56760843.0     .     0.0   \n",
       "20   chr08      .      euchromatin         0.0   4500000.0     .     0.0   \n",
       "21   chr08      .  heterochromatin   4500001.0  23000000.0     .     0.0   \n",
       "22   chr08      .      euchromatin  23000001.0  56938457.0     .     0.0   \n",
       "23   chr09      .      euchromatin         0.0   8000000.0     .     0.0   \n",
       "24   chr09      .  heterochromatin   8000001.0  37000000.0     .     0.0   \n",
       "25   chr09      .      euchromatin  37000001.0  61540751.0     .     0.0   \n",
       "26   chr10      .      euchromatin         0.0   6000000.0     .     0.0   \n",
       "27   chr10      .  heterochromatin   6000001.0  36000000.0     .     0.0   \n",
       "28   chr10      .      euchromatin  36000001.0  59756223.0     .     0.0   \n",
       "29   chr11      .      euchromatin         0.0  10000000.0     .     0.0   \n",
       "30   chr11      .  heterochromatin  10000001.0  28000000.0     .     0.0   \n",
       "31   chr11      .      euchromatin  28000001.0  45475667.0     .     0.0   \n",
       "32     NaN    NaN              NaN         NaN         NaN   NaN     NaN   \n",
       "33   chr12      .      euchromatin         0.0  16500000.0     .     0.0   \n",
       "34   chr12      .  heterochromatin  16500001.0  41000000.0     .     0.0   \n",
       "35   chr12      .      euchromatin  41000001.0  61165649.0     .     0.0   \n",
       "\n",
       "   frame attribute  \n",
       "0      .         .  \n",
       "1      .         .  \n",
       "2      .         .  \n",
       "3      .         .  \n",
       "4      .         .  \n",
       "5      .         .  \n",
       "6      .         .  \n",
       "7      .         .  \n",
       "8      .         .  \n",
       "9      .         .  \n",
       "10     .         .  \n",
       "11     .         .  \n",
       "12     .         .  \n",
       "13     .         .  \n",
       "14     .         .  \n",
       "15     .         .  \n",
       "16     .         .  \n",
       "17     .         .  \n",
       "18     .         .  \n",
       "19     .         .  \n",
       "20     .         .  \n",
       "21     .         .  \n",
       "22     .         .  \n",
       "23     .         .  \n",
       "24     .         .  \n",
       "25     .         .  \n",
       "26     .         .  \n",
       "27     .         .  \n",
       "28     .         .  \n",
       "29     .         .  \n",
       "30     .         .  \n",
       "31     .         .  \n",
       "32   NaN       NaN  \n",
       "33     .         .  \n",
       "34     .         .  \n",
       "35     .         .  "
      ]
     },
     "execution_count": 3,
     "metadata": {},
     "output_type": "execute_result"
    }
   ],
   "source": [
    "df_genome_parts = pd.read_csv(path_parts, sep='\\t', header=None)\n",
    "df_genome_parts.columns = ['seqname' , 'source' , 'feature' , 'start' , 'end' , 'score' , 'strand' , 'frame' , 'attribute']\n",
    "print(len(df_genome_parts.index))\n",
    "df_genome_parts"
   ]
  },
  {
   "cell_type": "code",
   "execution_count": 4,
   "metadata": {},
   "outputs": [
    {
     "name": "stdout",
     "output_type": "stream",
     "text": [
      "27591\n"
     ]
    },
    {
     "data": {
      "text/html": [
       "<div>\n",
       "<style scoped>\n",
       "    .dataframe tbody tr th:only-of-type {\n",
       "        vertical-align: middle;\n",
       "    }\n",
       "\n",
       "    .dataframe tbody tr th {\n",
       "        vertical-align: top;\n",
       "    }\n",
       "\n",
       "    .dataframe thead th {\n",
       "        text-align: right;\n",
       "    }\n",
       "</style>\n",
       "<table border=\"1\" class=\"dataframe\">\n",
       "  <thead>\n",
       "    <tr style=\"text-align: right;\">\n",
       "      <th></th>\n",
       "      <th>ID</th>\n",
       "      <th>Divergence</th>\n",
       "      <th>Age</th>\n",
       "      <th>Ts:Tv</th>\n",
       "    </tr>\n",
       "  </thead>\n",
       "  <tbody>\n",
       "    <tr>\n",
       "      <th>0</th>\n",
       "      <td>RLC_family0_LTR_retrotransposon248_chr00_43732...</td>\n",
       "      <td>0.0775</td>\n",
       "      <td>3875000</td>\n",
       "      <td>11.0785</td>\n",
       "    </tr>\n",
       "    <tr>\n",
       "      <th>1</th>\n",
       "      <td>RLC_family0_LTR_retrotransposon829_chr00_19719...</td>\n",
       "      <td>0.0611</td>\n",
       "      <td>3055000</td>\n",
       "      <td>9.7319</td>\n",
       "    </tr>\n",
       "  </tbody>\n",
       "</table>\n",
       "</div>"
      ],
      "text/plain": [
       "                                                  ID  Divergence      Age  \\\n",
       "0  RLC_family0_LTR_retrotransposon248_chr00_43732...      0.0775  3875000   \n",
       "1  RLC_family0_LTR_retrotransposon829_chr00_19719...      0.0611  3055000   \n",
       "\n",
       "     Ts:Tv  \n",
       "0  11.0785  \n",
       "1   9.7319  "
      ]
     },
     "execution_count": 4,
     "metadata": {},
     "output_type": "execute_result"
    }
   ],
   "source": [
    "df_ages = pd.read_csv(path_ages, sep='\\t')\n",
    "print(len(df_ages.index))\n",
    "df_ages.head(2)"
   ]
  },
  {
   "cell_type": "code",
   "execution_count": 5,
   "metadata": {},
   "outputs": [],
   "source": [
    "df_ages['seqname'] = df_ages['ID'].str.split('_').str[-3:-2].str[0]\n",
    "df_ages['start'] = df_ages['ID'].str.split('_').str[-2:-1].str[0]\n",
    "df_ages['end'] = df_ages['ID'].str.split('_').str[-1:].str[0]\n",
    "df_ages['start'] = pd.to_numeric(df_ages['start'])\n",
    "df_ages['end'] = pd.to_numeric(df_ages['end'])"
   ]
  },
  {
   "cell_type": "code",
   "execution_count": 6,
   "metadata": {},
   "outputs": [
    {
     "data": {
      "text/html": [
       "<div>\n",
       "<style scoped>\n",
       "    .dataframe tbody tr th:only-of-type {\n",
       "        vertical-align: middle;\n",
       "    }\n",
       "\n",
       "    .dataframe tbody tr th {\n",
       "        vertical-align: top;\n",
       "    }\n",
       "\n",
       "    .dataframe thead th {\n",
       "        text-align: right;\n",
       "    }\n",
       "</style>\n",
       "<table border=\"1\" class=\"dataframe\">\n",
       "  <thead>\n",
       "    <tr style=\"text-align: right;\">\n",
       "      <th></th>\n",
       "      <th>ID</th>\n",
       "      <th>Divergence</th>\n",
       "      <th>Age</th>\n",
       "      <th>Ts:Tv</th>\n",
       "      <th>seqname</th>\n",
       "      <th>start</th>\n",
       "      <th>end</th>\n",
       "    </tr>\n",
       "  </thead>\n",
       "  <tbody>\n",
       "    <tr>\n",
       "      <th>14912</th>\n",
       "      <td>RLX_singleton_family1550_LARD_retrotransposon2...</td>\n",
       "      <td>0.0752</td>\n",
       "      <td>3760000</td>\n",
       "      <td>3.5963</td>\n",
       "      <td>chr02</td>\n",
       "      <td>18106021</td>\n",
       "      <td>18110404</td>\n",
       "    </tr>\n",
       "    <tr>\n",
       "      <th>2506</th>\n",
       "      <td>RLC_singleton_family1151_LTR_retrotransposon17...</td>\n",
       "      <td>0.0701</td>\n",
       "      <td>3505000</td>\n",
       "      <td>2.3895</td>\n",
       "      <td>chr10</td>\n",
       "      <td>44876140</td>\n",
       "      <td>44882450</td>\n",
       "    </tr>\n",
       "    <tr>\n",
       "      <th>9401</th>\n",
       "      <td>RLX_family13_LARD_retrotransposon4211_chr04_66...</td>\n",
       "      <td>0.0761</td>\n",
       "      <td>3805000</td>\n",
       "      <td>4.1631</td>\n",
       "      <td>chr04</td>\n",
       "      <td>66224748</td>\n",
       "      <td>66231644</td>\n",
       "    </tr>\n",
       "  </tbody>\n",
       "</table>\n",
       "</div>"
      ],
      "text/plain": [
       "                                                      ID  Divergence      Age  \\\n",
       "14912  RLX_singleton_family1550_LARD_retrotransposon2...      0.0752  3760000   \n",
       "2506   RLC_singleton_family1151_LTR_retrotransposon17...      0.0701  3505000   \n",
       "9401   RLX_family13_LARD_retrotransposon4211_chr04_66...      0.0761  3805000   \n",
       "\n",
       "        Ts:Tv seqname     start       end  \n",
       "14912  3.5963   chr02  18106021  18110404  \n",
       "2506   2.3895   chr10  44876140  44882450  \n",
       "9401   4.1631   chr04  66224748  66231644  "
      ]
     },
     "execution_count": 6,
     "metadata": {},
     "output_type": "execute_result"
    }
   ],
   "source": [
    "df_ages.sample(3)"
   ]
  },
  {
   "cell_type": "code",
   "execution_count": 7,
   "metadata": {},
   "outputs": [
    {
     "name": "stdout",
     "output_type": "stream",
     "text": [
      "24763\n"
     ]
    }
   ],
   "source": [
    "df_ages = df_ages[df_ages.seqname != 'chr00']\n",
    "df_ages = df_ages[df_ages.seqname != 'ChrUn']\n",
    "print(len(df_ages.index))"
   ]
  },
  {
   "cell_type": "code",
   "execution_count": 8,
   "metadata": {},
   "outputs": [],
   "source": [
    "#ADJUST VALUES HERE"
   ]
  },
  {
   "cell_type": "code",
   "execution_count": 9,
   "metadata": {},
   "outputs": [],
   "source": [
    "#what = 'RLX'\n",
    "what = 'RLG'\n",
    "ylim = 250\n",
    "where = 'heterochromatin'\n",
    "#where = 'euchromatin'\n",
    "#what = 'RLC'"
   ]
  },
  {
   "cell_type": "code",
   "execution_count": 10,
   "metadata": {},
   "outputs": [
    {
     "name": "stdout",
     "output_type": "stream",
     "text": [
      "Total RLG 4501\n",
      "RLG in heterochromatin 2737\n",
      "saved to data/plots/RLG_heterochromatin\n",
      "Total RLG 4501\n",
      "RLG in euchromatin 1767\n",
      "saved to data/plots/RLG_euchromatin\n",
      "Total RLC 2605\n",
      "RLC in heterochromatin 934\n",
      "saved to data/plots/RLC_heterochromatin\n",
      "Total RLC 2605\n",
      "RLC in euchromatin 1672\n",
      "saved to data/plots/RLC_euchromatin\n",
      "Total RLX 2692\n",
      "RLX in heterochromatin 1529\n",
      "saved to data/plots/RLX_heterochromatin\n",
      "Total RLX 2692\n",
      "RLX in euchromatin 1163\n",
      "saved to data/plots/RLX_euchromatin\n"
     ]
    },
    {
     "data": {
      "image/png": "[encoded data removed]",
      "text/plain": [
       "<Figure size 432x288 with 1 Axes>"
      ]
     },
     "metadata": {
      "needs_background": "light"
     },
     "output_type": "display_data"
    },
    {
     "data": {
      "image/png": "[encoded data removed]",
      "text/plain": [
       "<Figure size 432x288 with 1 Axes>"
      ]
     },
     "metadata": {
      "needs_background": "light"
     },
     "output_type": "display_data"
    },
    {
     "data": {
      "image/png": "[encoded data removed]",
      "text/plain": [
       "<Figure size 432x288 with 1 Axes>"
      ]
     },
     "metadata": {
      "needs_background": "light"
     },
     "output_type": "display_data"
    },
    {
     "data": {
      "image/png": "[encoded data removed]",
      "text/plain": [
       "<Figure size 432x288 with 1 Axes>"
      ]
     },
     "metadata": {
      "needs_background": "light"
     },
     "output_type": "display_data"
    },
    {
     "data": {
      "image/png": "[encoded data removed]",
      "text/plain": [
       "<Figure size 432x288 with 1 Axes>"
      ]
     },
     "metadata": {
      "needs_background": "light"
     },
     "output_type": "display_data"
    },
    {
     "data": {
      "image/png": "[encoded data removed]",
      "text/plain": [
       "<Figure size 432x288 with 1 Axes>"
      ]
     },
     "metadata": {
      "needs_background": "light"
     },
     "output_type": "display_data"
    }
   ],
   "source": [
    "#histogram\n",
    "terms = []\n",
    "terms.append( ('RLG','heterochromatin') )\n",
    "terms.append( ('RLG','euchromatin') )\n",
    "terms.append( ('RLC','heterochromatin') )\n",
    "terms.append( ('RLC','euchromatin') )\n",
    "terms.append( ('RLX','heterochromatin') )\n",
    "terms.append( ('RLX','euchromatin') )\n",
    "elems = {}\n",
    "elems_t = {}\n",
    "for (what, where) in terms:\n",
    "    df_genome_parts_now = df_genome_parts[df_genome_parts.feature == where]\n",
    "       \n",
    "    df_ages_now = df_ages[(df_ages.ID.str.contains(what)) & (df_ages.ID.str.contains(\"LTR\"))]\n",
    "    \n",
    "    print('Total', what, len(df_ages_now.index))\n",
    "    elems_t[what] = df_ages_now.ID.tolist()\n",
    "    df_ages_now.sample(3)\n",
    "    \n",
    "    saved = []\n",
    "    for k,v in df_genome_parts_now.iterrows():\n",
    "        df_filter = df_ages_now[(df_ages_now.seqname == v.seqname) &\n",
    "                                (df_ages_now.start <= v.end) &\n",
    "                                (df_ages_now.end >= v.start) ]\n",
    "        \n",
    "        saved.append(df_filter)\n",
    "    \n",
    "    df_res = pd.concat(saved)\n",
    "    \n",
    "    print(what,'in',where, len(df_res.index))\n",
    "    if not what in elems:\n",
    "        elems[what] = []\n",
    "    elems[what].extend(df_res.ID.tolist())\n",
    "\n",
    "    path_save = 'data/plots/%s_%s' % (what, where)\n",
    "    df_res.to_csv(path_save + '.csv', index=None)\n",
    "\n",
    "    x = (df_res.Age / 1000000).tolist()\n",
    "\n",
    "    # An \"interface\" to matplotlib.axes.Axes.hist() method\n",
    "    fig = plt.figure()\n",
    "    n, bins, patches = plt.hist(x=x, bins='auto', color='#0504aa',\n",
    "                                alpha=0.7, rwidth=0.85)\n",
    "    plt.grid(axis='y', alpha=0.75)\n",
    "    plt.xlabel('Age (my)')\n",
    "    plt.ylabel('Frequency')\n",
    "    plt.title('%s LTR in %s' % (what, where))\n",
    "    maxfreq = n.max()\n",
    "    # Set a clean upper y-axis limit.\n",
    "    plt.ylim([0,ylim])\n",
    "    fig.savefig(path_save + '.svg', dpi=fig.dpi)\n",
    "    print('saved to',path_save)"
   ]
  },
  {
   "cell_type": "code",
   "execution_count": 11,
   "metadata": {},
   "outputs": [
    {
     "data": {
      "text/plain": [
       "2605"
      ]
     },
     "execution_count": 11,
     "metadata": {},
     "output_type": "execute_result"
    }
   ],
   "source": [
    "len(elems_t['RLC'])"
   ]
  },
  {
   "cell_type": "code",
   "execution_count": 12,
   "metadata": {},
   "outputs": [
    {
     "data": {
      "text/plain": [
       "2606"
      ]
     },
     "execution_count": 12,
     "metadata": {},
     "output_type": "execute_result"
    }
   ],
   "source": [
    "len(elems['RLC'])"
   ]
  },
  {
   "cell_type": "code",
   "execution_count": 13,
   "metadata": {},
   "outputs": [
    {
     "data": {
      "text/plain": [
       "[]"
      ]
     },
     "execution_count": 13,
     "metadata": {},
     "output_type": "execute_result"
    }
   ],
   "source": [
    "[x for x in elems_t['RLC'] if x not in elems['RLC']]\n"
   ]
  },
  {
   "cell_type": "code",
   "execution_count": null,
   "metadata": {},
   "outputs": [],
   "source": []
  },
  {
   "cell_type": "code",
   "execution_count": null,
   "metadata": {},
   "outputs": [],
   "source": []
  },
  {
   "cell_type": "code",
   "execution_count": null,
   "metadata": {},
   "outputs": [],
   "source": []
  },
  {
   "cell_type": "code",
   "execution_count": null,
   "metadata": {},
   "outputs": [],
   "source": []
  },
  {
   "cell_type": "code",
   "execution_count": null,
   "metadata": {},
   "outputs": [],
   "source": []
  },
  {
   "cell_type": "code",
   "execution_count": null,
   "metadata": {},
   "outputs": [],
   "source": []
  },
  {
   "cell_type": "code",
   "execution_count": null,
   "metadata": {},
   "outputs": [],
   "source": []
  },
  {
   "cell_type": "code",
   "execution_count": 20,
   "metadata": {},
   "outputs": [
    {
     "data": {
      "image/png": "[encoded data removed]",
      "text/plain": [
       "<Figure size 432x288 with 1 Axes>"
      ]
     },
     "metadata": {
      "needs_background": "light"
     },
     "output_type": "display_data"
    },
    {
     "data": {
      "image/png": "[encoded data removed]",
      "text/plain": [
       "<Figure size 432x288 with 1 Axes>"
      ]
     },
     "metadata": {
      "needs_background": "light"
     },
     "output_type": "display_data"
    },
    {
     "data": {
      "image/png": "[encoded data removed]",
      "text/plain": [
       "<Figure size 432x288 with 1 Axes>"
      ]
     },
     "metadata": {
      "needs_background": "light"
     },
     "output_type": "display_data"
    }
   ],
   "source": [
    "## scatterplot\n",
    "for te_type in ['RLC', 'RLX', 'RLG']:\n",
    "    terms = []\n",
    "    for i in range(30,35):    \n",
    "        terms.append( (te_type + '_family' + str(i),'heterochromatin') )\n",
    "        terms.append( (te_type + '_family' + str(i),'euchromatin') )\n",
    "    fig = plt.figure()\n",
    "    plt.ylabel('Age (my)')\n",
    "    plt.xlabel('Family')\n",
    "    plt.title(te_type + ' LTRs')\n",
    "    red_patch = mpatches.Patch(color='red', label='euchromatin')\n",
    "    blue_patch = mpatches.Patch(color='blue', label='heterochromatin')\n",
    "    plt.legend(bbox_to_anchor=(1.05, 1), loc=2, borderaxespad=0.,handles=[red_patch,blue_patch ])\n",
    "    xt = []\n",
    "    xt.append(\"\")\n",
    "    pos = 0\n",
    "    for (what, where) in terms:\n",
    "        xt.append(what)\n",
    "        pos += 1\n",
    "        df_genome_parts_now = df_genome_parts[df_genome_parts.feature == where]\n",
    "        df_genome_parts_now.head(3)\n",
    "\n",
    "        df_ages_now = df_ages[(df_ages.ID.str.contains(what)) & \n",
    "                              (df_ages.ID.str.contains(\"LTR\")) \n",
    "                              #(df_ages.ID.str.contains(\"family\" + str(i) + \"_LTR\"))\n",
    "                             ]\n",
    "        \n",
    "        if(len(df_ages_now.index)==0):\n",
    "            continue\n",
    "        df_ages_now.sample(3)\n",
    "        \n",
    "        saved = []\n",
    "        for k,v in df_genome_parts_now.iterrows():\n",
    "            df_filter = df_ages_now[(df_ages_now.seqname == v.seqname) &\n",
    "                                    (df_ages_now.start <= v.end) &\n",
    "                                    (df_ages_now.end >= v.start) ]\n",
    "            saved.append(df_filter)\n",
    "        df_res = pd.concat(saved)\n",
    "        df_res.to_csv('data/plots/scatter_' + what + '_' + te_type + '_' + str(i) + '.csv',sep='\\t', index=None)\n",
    "        y = (df_res.Age / 1000000).tolist()\n",
    "        x = np.empty(len(y))\n",
    "        x.fill(pos)\n",
    "        if where == 'heterochromatin':\n",
    "            color = 'blue'\n",
    "        else:\n",
    "            color = 'red'\n",
    "        plt.plot(x, y, 'o', color=color, markersize=2)\n",
    "    plt.xticks(np.arange(len(terms)+1), xt,rotation='vertical', )\n",
    "    plt.tight_layout(pad=0.5, w_pad=0.5, h_pad=1.0)\n",
    "    fig.savefig('data/plots/scatter_' + te_type + '.svg', dpi=fig.dpi)\n"
   ]
  },
  {
   "cell_type": "code",
   "execution_count": null,
   "metadata": {},
   "outputs": [],
   "source": [
    "df_ages['where'] = ''"
   ]
  },
  {
   "cell_type": "code",
   "execution_count": null,
   "metadata": {},
   "outputs": [],
   "source": []
  },
  {
   "cell_type": "code",
   "execution_count": null,
   "metadata": {},
   "outputs": [],
   "source": [
    "for k,v in df_genome_parts.iterrows():\n",
    "    df_ages.loc[(df_ages.seqname == v.seqname) &\n",
    "                (df_ages.start <= v.end) &\n",
    "                (df_ages.end >= v.start) ,\n",
    "                'where'] = v.feature"
   ]
  },
  {
   "cell_type": "code",
   "execution_count": null,
   "metadata": {},
   "outputs": [],
   "source": [
    "df_ages.head(3)"
   ]
  },
  {
   "cell_type": "code",
   "execution_count": null,
   "metadata": {},
   "outputs": [],
   "source": [
    "df_ages.to_csv('data/plots/ages_location.csv', index=None, header=None, sep='\\t')"
   ]
  },
  {
   "cell_type": "code",
   "execution_count": null,
   "metadata": {},
   "outputs": [],
   "source": []
  },
  {
   "cell_type": "code",
   "execution_count": null,
   "metadata": {},
   "outputs": [],
   "source": [
    "#boxplot"
   ]
  },
  {
   "cell_type": "code",
   "execution_count": null,
   "metadata": {},
   "outputs": [],
   "source": [
    "print(len(df_ages.index))"
   ]
  },
  {
   "cell_type": "code",
   "execution_count": null,
   "metadata": {},
   "outputs": [],
   "source": [
    "df_ages = df_ages[df_ages['where'] != '']"
   ]
  },
  {
   "cell_type": "code",
   "execution_count": null,
   "metadata": {},
   "outputs": [],
   "source": [
    "print(len(df_ages.index))"
   ]
  },
  {
   "cell_type": "code",
   "execution_count": null,
   "metadata": {},
   "outputs": [],
   "source": [
    "df_ages.sample(4)"
   ]
  },
  {
   "cell_type": "code",
   "execution_count": null,
   "metadata": {},
   "outputs": [],
   "source": []
  },
  {
   "cell_type": "code",
   "execution_count": null,
   "metadata": {},
   "outputs": [],
   "source": [
    "for te_type in ['RLC', 'RLG', 'RLX']:\n",
    "    for family_n in range(30):\n",
    "        data = df_ages[(df_ages.ID.str.contains(te_type)) & \n",
    "                       (df_ages.ID.str.contains('LTR')) &\n",
    "                       (df_ages.ID.str.contains(\"family\" + str(family_n) + \"_LTR\"))]\n",
    "        if len(data.index) == 0:\n",
    "            continue\n",
    "        fig = plt.figure()\n",
    "        sns_plot = sns.boxplot(y='Age', x='where', \n",
    "                     data=data,\n",
    "                     width=0.5,\n",
    "                     palette=\"colorblind\")\n",
    "        sns_plot.figure.savefig(\"data/plots/family/\" + te_type + \"_\" + str(family_n) + \".svg\")\n",
    "        plt.close()"
   ]
  },
  {
   "cell_type": "code",
   "execution_count": null,
   "metadata": {},
   "outputs": [],
   "source": []
  },
  {
   "cell_type": "code",
   "execution_count": null,
   "metadata": {},
   "outputs": [],
   "source": [
    "for te_type in ['RLC', 'RLG', 'RLX']:\n",
    "    data = df_ages[(df_ages.ID.str.contains(te_type)) & \n",
    "                   (df_ages.ID.str.contains('LTR'))]\n",
    "    if len(data.index) == 0:\n",
    "        continue\n",
    "    fig = plt.figure()\n",
    "    sns_plot = sns.boxplot(y='Age', x='where', \n",
    "                 data=data,\n",
    "                 width=0.5,\n",
    "                 palette=\"colorblind\")\n",
    "    sns_plot.figure.savefig(\"data/plots/box_\" + te_type + \".svg\")\n",
    "    plt.close()"
   ]
  },
  {
   "cell_type": "code",
   "execution_count": null,
   "metadata": {},
   "outputs": [],
   "source": []
  }
 ],
 "metadata": {
  "kernelspec": {
   "display_name": "Python 3",
   "language": "python",
   "name": "python3"
  },
  "language_info": {
   "codemirror_mode": {
    "name": "ipython",
    "version": 3
   },
   "file_extension": ".py",
   "mimetype": "text/x-python",
   "name": "python",
   "nbconvert_exporter": "python",
   "pygments_lexer": "ipython3",
   "version": "3.6.5"
  }
 },
 "nbformat": 4,
 "nbformat_minor": 2
}
