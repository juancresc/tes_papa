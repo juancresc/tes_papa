{
 "cells": [
  {
   "cell_type": "code",
   "execution_count": 1,
   "metadata": {},
   "outputs": [],
   "source": [
    "import pandas as pd\n",
    "import matplotlib.pyplot as plt\n"
   ]
  },
  {
   "cell_type": "code",
   "execution_count": 2,
   "metadata": {},
   "outputs": [],
   "source": [
    "path_ages = \"data/plots/tehpra_ltrs_classified_ages_new_09_04_19.tsv\"\n",
    "path_parts = \"data/plots/Stuberosum_genome_parts.gff3\""
   ]
  },
  {
   "cell_type": "code",
   "execution_count": 3,
   "metadata": {},
   "outputs": [
    {
     "name": "stdout",
     "output_type": "stream",
     "text": [
      "35\n"
     ]
    },
    {
     "data": {
      "text/html": [
       "<div>\n",
       "<table border=\"1\" class=\"dataframe\">\n",
       "  <thead>\n",
       "    <tr style=\"text-align: right;\">\n",
       "      <th></th>\n",
       "      <th>seqname</th>\n",
       "      <th>source</th>\n",
       "      <th>feature</th>\n",
       "      <th>start</th>\n",
       "      <th>end</th>\n",
       "      <th>score</th>\n",
       "      <th>strand</th>\n",
       "      <th>frame</th>\n",
       "      <th>attribute</th>\n",
       "    </tr>\n",
       "  </thead>\n",
       "  <tbody>\n",
       "    <tr>\n",
       "      <th>0</th>\n",
       "      <td>chr01</td>\n",
       "      <td>.</td>\n",
       "      <td>heterochromatin</td>\n",
       "      <td>4500001.0</td>\n",
       "      <td>34000000.0</td>\n",
       "      <td>.</td>\n",
       "      <td>0.0</td>\n",
       "      <td>.</td>\n",
       "      <td>.</td>\n",
       "    </tr>\n",
       "    <tr>\n",
       "      <th>1</th>\n",
       "      <td>chr01</td>\n",
       "      <td>.</td>\n",
       "      <td>euchromatin</td>\n",
       "      <td>34000001.0</td>\n",
       "      <td>88663952.0</td>\n",
       "      <td>.</td>\n",
       "      <td>0.0</td>\n",
       "      <td>.</td>\n",
       "      <td>.</td>\n",
       "    </tr>\n",
       "  </tbody>\n",
       "</table>\n",
       "</div>"
      ],
      "text/plain": [
       "  seqname source          feature       start         end score  strand frame  \\\n",
       "0   chr01      .  heterochromatin   4500001.0  34000000.0     .     0.0     .   \n",
       "1   chr01      .      euchromatin  34000001.0  88663952.0     .     0.0     .   \n",
       "\n",
       "  attribute  \n",
       "0         .  \n",
       "1         .  "
      ]
     },
     "execution_count": 3,
     "metadata": {},
     "output_type": "execute_result"
    }
   ],
   "source": [
    "df_genome_parts = pd.read_csv(path_parts, sep='\\t')\n",
    "df_genome_parts.columns = ['seqname' , 'source' , 'feature' , 'start' , 'end' , 'score' , 'strand' , 'frame' , 'attribute']\n",
    "print(len(df_genome_parts.index))\n",
    "df_genome_parts.head(2)"
   ]
  },
  {
   "cell_type": "code",
   "execution_count": 4,
   "metadata": {},
   "outputs": [
    {
     "name": "stdout",
     "output_type": "stream",
     "text": [
      "27591\n"
     ]
    },
    {
     "data": {
      "text/html": [
       "<div>\n",
       "<table border=\"1\" class=\"dataframe\">\n",
       "  <thead>\n",
       "    <tr style=\"text-align: right;\">\n",
       "      <th></th>\n",
       "      <th>ID</th>\n",
       "      <th>Divergence</th>\n",
       "      <th>Age</th>\n",
       "      <th>Ts:Tv</th>\n",
       "    </tr>\n",
       "  </thead>\n",
       "  <tbody>\n",
       "    <tr>\n",
       "      <th>0</th>\n",
       "      <td>RLC_family0_LTR_retrotransposon248_chr00_43732...</td>\n",
       "      <td>0.0775</td>\n",
       "      <td>3875000</td>\n",
       "      <td>11.0785</td>\n",
       "    </tr>\n",
       "    <tr>\n",
       "      <th>1</th>\n",
       "      <td>RLC_family0_LTR_retrotransposon829_chr00_19719...</td>\n",
       "      <td>0.0611</td>\n",
       "      <td>3055000</td>\n",
       "      <td>9.7319</td>\n",
       "    </tr>\n",
       "  </tbody>\n",
       "</table>\n",
       "</div>"
      ],
      "text/plain": [
       "                                                  ID  Divergence      Age  \\\n",
       "0  RLC_family0_LTR_retrotransposon248_chr00_43732...      0.0775  3875000   \n",
       "1  RLC_family0_LTR_retrotransposon829_chr00_19719...      0.0611  3055000   \n",
       "\n",
       "     Ts:Tv  \n",
       "0  11.0785  \n",
       "1   9.7319  "
      ]
     },
     "execution_count": 4,
     "metadata": {},
     "output_type": "execute_result"
    }
   ],
   "source": [
    "df_ages = pd.read_csv(path_ages, sep='\\t')\n",
    "print(len(df_ages.index))\n",
    "df_ages.head(2)"
   ]
  },
  {
   "cell_type": "code",
   "execution_count": 5,
   "metadata": {},
   "outputs": [],
   "source": [
    "df_ages['seqname'] = df_ages['ID'].str.split('_').str[-3:-2].str[0]\n",
    "df_ages['start'] = df_ages['ID'].str.split('_').str[-2:-1].str[0]\n",
    "df_ages['end'] = df_ages['ID'].str.split('_').str[-1:].str[0]\n",
    "df_ages['start'] = pd.to_numeric(df_ages['start'])\n",
    "df_ages['end'] = pd.to_numeric(df_ages['end'])"
   ]
  },
  {
   "cell_type": "code",
   "execution_count": 6,
   "metadata": {},
   "outputs": [
    {
     "data": {
      "text/html": [
       "<div>\n",
       "<table border=\"1\" class=\"dataframe\">\n",
       "  <thead>\n",
       "    <tr style=\"text-align: right;\">\n",
       "      <th></th>\n",
       "      <th>ID</th>\n",
       "      <th>Divergence</th>\n",
       "      <th>Age</th>\n",
       "      <th>Ts:Tv</th>\n",
       "      <th>seqname</th>\n",
       "      <th>start</th>\n",
       "      <th>end</th>\n",
       "    </tr>\n",
       "  </thead>\n",
       "  <tbody>\n",
       "    <tr>\n",
       "      <th>15482</th>\n",
       "      <td>RLX_singleton_family2120_LARD_retrotransposon3...</td>\n",
       "      <td>0.0339</td>\n",
       "      <td>1695000</td>\n",
       "      <td>3.6291</td>\n",
       "      <td>chr03</td>\n",
       "      <td>41629375</td>\n",
       "      <td>41634407</td>\n",
       "    </tr>\n",
       "    <tr>\n",
       "      <th>15046</th>\n",
       "      <td>RLX_singleton_family1684_LARD_retrotransposon2...</td>\n",
       "      <td>0.0124</td>\n",
       "      <td>620000</td>\n",
       "      <td>1.0000</td>\n",
       "      <td>chr02</td>\n",
       "      <td>35859041</td>\n",
       "      <td>35865398</td>\n",
       "    </tr>\n",
       "    <tr>\n",
       "      <th>25082</th>\n",
       "      <td>RLX_singleton_family11720_TRIM_retrotransposon...</td>\n",
       "      <td>0.1285</td>\n",
       "      <td>6425000</td>\n",
       "      <td>4.9476</td>\n",
       "      <td>chr06</td>\n",
       "      <td>48778238</td>\n",
       "      <td>48778743</td>\n",
       "    </tr>\n",
       "  </tbody>\n",
       "</table>\n",
       "</div>"
      ],
      "text/plain": [
       "                                                      ID  Divergence      Age  \\\n",
       "15482  RLX_singleton_family2120_LARD_retrotransposon3...      0.0339  1695000   \n",
       "15046  RLX_singleton_family1684_LARD_retrotransposon2...      0.0124   620000   \n",
       "25082  RLX_singleton_family11720_TRIM_retrotransposon...      0.1285  6425000   \n",
       "\n",
       "        Ts:Tv seqname     start       end  \n",
       "15482  3.6291   chr03  41629375  41634407  \n",
       "15046  1.0000   chr02  35859041  35865398  \n",
       "25082  4.9476   chr06  48778238  48778743  "
      ]
     },
     "execution_count": 6,
     "metadata": {},
     "output_type": "execute_result"
    }
   ],
   "source": [
    "df_ages.sample(3)"
   ]
  },
  {
   "cell_type": "code",
   "execution_count": 7,
   "metadata": {},
   "outputs": [],
   "source": [
    "#ADJUST VALUES HERE"
   ]
  },
  {
   "cell_type": "code",
   "execution_count": 43,
   "metadata": {},
   "outputs": [],
   "source": [
    "#what = 'RLX'\n",
    "what = 'RLG'\n",
    "ylim = 250\n",
    "where = 'heterochromatin'\n",
    "#where = 'euchromatin'\n",
    "#what = 'RLC'"
   ]
  },
  {
   "cell_type": "code",
   "execution_count": 44,
   "metadata": {},
   "outputs": [
    {
     "name": "stdout",
     "output_type": "stream",
     "text": [
      "12\n",
      "4789\n",
      "2737\n",
      "2737\n",
      "data/plots/RLG_heterochromatin\n",
      "22\n",
      "4789\n",
      "1764\n",
      "1764\n",
      "data/plots/RLG_euchromatin\n",
      "12\n",
      "2699\n",
      "934\n",
      "934\n",
      "data/plots/RLC_heterochromatin\n",
      "22\n",
      "2699\n",
      "1668\n",
      "1668\n",
      "data/plots/RLC_euchromatin\n",
      "12\n",
      "2896\n",
      "1529\n",
      "1529\n",
      "data/plots/RLX_heterochromatin\n",
      "22\n",
      "2896\n",
      "1156\n",
      "1156\n",
      "data/plots/RLX_euchromatin\n"
     ]
    },
    {
     "data": {
      "image/png": "[encoded data removed]",
      "text/plain": [
       "<Figure size 432x288 with 1 Axes>"
      ]
     },
     "metadata": {
      "needs_background": "light"
     },
     "output_type": "display_data"
    },
    {
     "data": {
      "image/png": "[encoded data removed]",
      "text/plain": [
       "<Figure size 432x288 with 1 Axes>"
      ]
     },
     "metadata": {
      "needs_background": "light"
     },
     "output_type": "display_data"
    },
    {
     "data": {
      "image/png": "[encoded data removed]",
      "text/plain": [
       "<Figure size 432x288 with 1 Axes>"
      ]
     },
     "metadata": {
      "needs_background": "light"
     },
     "output_type": "display_data"
    },
    {
     "data": {
      "image/png": "[encoded data removed]",
      "text/plain": [
       "<Figure size 432x288 with 1 Axes>"
      ]
     },
     "metadata": {
      "needs_background": "light"
     },
     "output_type": "display_data"
    },
    {
     "data": {
      "image/png": "[encoded data removed]",
      "text/plain": [
       "<Figure size 432x288 with 1 Axes>"
      ]
     },
     "metadata": {
      "needs_background": "light"
     },
     "output_type": "display_data"
    },
    {
     "data": {
      "image/png": "[encoded data removed]",
      "text/plain": [
       "<Figure size 432x288 with 1 Axes>"
      ]
     },
     "metadata": {
      "needs_background": "light"
     },
     "output_type": "display_data"
    }
   ],
   "source": [
    "terms = []\n",
    "terms.append( ('RLG','heterochromatin') )\n",
    "terms.append( ('RLG','euchromatin') )\n",
    "terms.append( ('RLC','heterochromatin') )\n",
    "terms.append( ('RLC','euchromatin') )\n",
    "terms.append( ('RLX','heterochromatin') )\n",
    "terms.append( ('RLX','euchromatin') )\n",
    "for (what, where) in terms:\n",
    "    df_genome_parts_now = df_genome_parts[df_genome_parts.feature == where]\n",
    "    print(len(df_genome_parts_now.index))\n",
    "    df_genome_parts_now.head(3)\n",
    "\n",
    "    df_ages_now = df_ages[(df_ages.ID.str.contains(what)) & (df_ages.ID.str.contains(\"LTR\"))]\n",
    "    print(len(df_ages_now.index))\n",
    "    df_ages_now.sample(3)\n",
    "\n",
    "    saved = []\n",
    "    for k,v in df_genome_parts_now.iterrows():\n",
    "        df_filter = df_ages_now[(df_ages_now.seqname == v.seqname) &\n",
    "                                (df_ages_now.start <= v.end) &\n",
    "                                (df_ages_now.end >= v.start) ]\n",
    "        saved.append(df_filter)\n",
    "    df_res = pd.concat(saved)\n",
    "\n",
    "    print(len(df_res.index))\n",
    "\n",
    "    print(len(df_res.ID.unique()))\n",
    "\n",
    "    path_save = 'data/plots/%s_%s' % (what, where)\n",
    "    df_res.to_csv(path_save + '.csv', index=None)\n",
    "\n",
    "    x = (df_res.Age / 1000000).tolist()\n",
    "\n",
    "    # An \"interface\" to matplotlib.axes.Axes.hist() method\n",
    "    fig = plt.figure()\n",
    "    n, bins, patches = plt.hist(x=x, bins='auto', color='#0504aa',\n",
    "                                alpha=0.7, rwidth=0.85)\n",
    "    plt.grid(axis='y', alpha=0.75)\n",
    "    plt.xlabel('Age (my)')\n",
    "    plt.ylabel('Frequency')\n",
    "    plt.title('%s LTR in %s' % (what, where))\n",
    "    maxfreq = n.max()\n",
    "    # Set a clean upper y-axis limit.\n",
    "    plt.ylim([0,ylim])\n",
    "    fig.savefig(path_save + '.svg', dpi=fig.dpi)\n",
    "    print(path_save)"
   ]
  },
  {
   "cell_type": "code",
   "execution_count": null,
   "metadata": {},
   "outputs": [],
   "source": []
  },
  {
   "cell_type": "code",
   "execution_count": null,
   "metadata": {},
   "outputs": [],
   "source": []
  },
  {
   "cell_type": "code",
   "execution_count": null,
   "metadata": {},
   "outputs": [],
   "source": []
  },
  {
   "cell_type": "code",
   "execution_count": null,
   "metadata": {},
   "outputs": [],
   "source": []
  }
 ],
 "metadata": {
  "kernelspec": {
   "display_name": "Python 3",
   "language": "python",
   "name": "python3"
  },
  "language_info": {
   "codemirror_mode": {
    "name": "ipython",
    "version": 2
   },
   "file_extension": ".py",
   "mimetype": "text/x-python",
   "name": "python",
   "nbconvert_exporter": "python",
   "pygments_lexer": "ipython2",
   "version": "2.7.15"
  }
 },
 "nbformat": 4,
 "nbformat_minor": 2
}
