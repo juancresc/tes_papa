{
 "cells": [
  {
   "cell_type": "code",
   "execution_count": 1,
   "metadata": {},
   "outputs": [],
   "source": [
    "import pandas as pd\n",
    "import matplotlib.pyplot as plt\n"
   ]
  },
  {
   "cell_type": "code",
   "execution_count": 2,
   "metadata": {},
   "outputs": [],
   "source": [
    "path_ages = \"data/plots/tehpra_ltrs_classified_ages_new_09_04_19.tsv\"\n",
    "path_parts = \"data/plots/Stuberosum_genome_parts.gff3\""
   ]
  },
  {
   "cell_type": "code",
   "execution_count": 3,
   "metadata": {},
   "outputs": [
    {
     "name": "stdout",
     "output_type": "stream",
     "text": [
      "35\n"
     ]
    },
    {
     "data": {
      "text/html": [
       "<div>\n",
       "<style scoped>\n",
       "    .dataframe tbody tr th:only-of-type {\n",
       "        vertical-align: middle;\n",
       "    }\n",
       "\n",
       "    .dataframe tbody tr th {\n",
       "        vertical-align: top;\n",
       "    }\n",
       "\n",
       "    .dataframe thead th {\n",
       "        text-align: right;\n",
       "    }\n",
       "</style>\n",
       "<table border=\"1\" class=\"dataframe\">\n",
       "  <thead>\n",
       "    <tr style=\"text-align: right;\">\n",
       "      <th></th>\n",
       "      <th>seqname</th>\n",
       "      <th>source</th>\n",
       "      <th>feature</th>\n",
       "      <th>start</th>\n",
       "      <th>end</th>\n",
       "      <th>score</th>\n",
       "      <th>strand</th>\n",
       "      <th>frame</th>\n",
       "      <th>attribute</th>\n",
       "    </tr>\n",
       "  </thead>\n",
       "  <tbody>\n",
       "    <tr>\n",
       "      <th>0</th>\n",
       "      <td>chr01</td>\n",
       "      <td>.</td>\n",
       "      <td>heterochromatin</td>\n",
       "      <td>4500001.0</td>\n",
       "      <td>34000000.0</td>\n",
       "      <td>.</td>\n",
       "      <td>0.0</td>\n",
       "      <td>.</td>\n",
       "      <td>.</td>\n",
       "    </tr>\n",
       "    <tr>\n",
       "      <th>1</th>\n",
       "      <td>chr01</td>\n",
       "      <td>.</td>\n",
       "      <td>euchromatin</td>\n",
       "      <td>34000001.0</td>\n",
       "      <td>88663952.0</td>\n",
       "      <td>.</td>\n",
       "      <td>0.0</td>\n",
       "      <td>.</td>\n",
       "      <td>.</td>\n",
       "    </tr>\n",
       "  </tbody>\n",
       "</table>\n",
       "</div>"
      ],
      "text/plain": [
       "  seqname source          feature       start         end score  strand frame  \\\n",
       "0   chr01      .  heterochromatin   4500001.0  34000000.0     .     0.0     .   \n",
       "1   chr01      .      euchromatin  34000001.0  88663952.0     .     0.0     .   \n",
       "\n",
       "  attribute  \n",
       "0         .  \n",
       "1         .  "
      ]
     },
     "execution_count": 3,
     "metadata": {},
     "output_type": "execute_result"
    }
   ],
   "source": [
    "df_genome_parts = pd.read_csv(path_parts, sep='\\t')\n",
    "df_genome_parts.columns = ['seqname' , 'source' , 'feature' , 'start' , 'end' , 'score' , 'strand' , 'frame' , 'attribute']\n",
    "print(len(df_genome_parts.index))\n",
    "df_genome_parts.head(2)"
   ]
  },
  {
   "cell_type": "code",
   "execution_count": 4,
   "metadata": {},
   "outputs": [
    {
     "name": "stdout",
     "output_type": "stream",
     "text": [
      "27591\n"
     ]
    },
    {
     "data": {
      "text/html": [
       "<div>\n",
       "<style scoped>\n",
       "    .dataframe tbody tr th:only-of-type {\n",
       "        vertical-align: middle;\n",
       "    }\n",
       "\n",
       "    .dataframe tbody tr th {\n",
       "        vertical-align: top;\n",
       "    }\n",
       "\n",
       "    .dataframe thead th {\n",
       "        text-align: right;\n",
       "    }\n",
       "</style>\n",
       "<table border=\"1\" class=\"dataframe\">\n",
       "  <thead>\n",
       "    <tr style=\"text-align: right;\">\n",
       "      <th></th>\n",
       "      <th>ID</th>\n",
       "      <th>Divergence</th>\n",
       "      <th>Age</th>\n",
       "      <th>Ts:Tv</th>\n",
       "    </tr>\n",
       "  </thead>\n",
       "  <tbody>\n",
       "    <tr>\n",
       "      <th>0</th>\n",
       "      <td>RLC_family0_LTR_retrotransposon248_chr00_43732...</td>\n",
       "      <td>0.0775</td>\n",
       "      <td>3875000</td>\n",
       "      <td>11.0785</td>\n",
       "    </tr>\n",
       "    <tr>\n",
       "      <th>1</th>\n",
       "      <td>RLC_family0_LTR_retrotransposon829_chr00_19719...</td>\n",
       "      <td>0.0611</td>\n",
       "      <td>3055000</td>\n",
       "      <td>9.7319</td>\n",
       "    </tr>\n",
       "  </tbody>\n",
       "</table>\n",
       "</div>"
      ],
      "text/plain": [
       "                                                  ID  Divergence      Age  \\\n",
       "0  RLC_family0_LTR_retrotransposon248_chr00_43732...      0.0775  3875000   \n",
       "1  RLC_family0_LTR_retrotransposon829_chr00_19719...      0.0611  3055000   \n",
       "\n",
       "     Ts:Tv  \n",
       "0  11.0785  \n",
       "1   9.7319  "
      ]
     },
     "execution_count": 4,
     "metadata": {},
     "output_type": "execute_result"
    }
   ],
   "source": [
    "df_ages = pd.read_csv(path_ages, sep='\\t')\n",
    "print(len(df_ages.index))\n",
    "df_ages.head(2)"
   ]
  },
  {
   "cell_type": "code",
   "execution_count": 5,
   "metadata": {},
   "outputs": [],
   "source": [
    "df_ages['seqname'] = df_ages['ID'].str.split('_').str[-3:-2].str[0]\n",
    "df_ages['start'] = df_ages['ID'].str.split('_').str[-2:-1].str[0]\n",
    "df_ages['end'] = df_ages['ID'].str.split('_').str[-1:].str[0]\n",
    "df_ages['start'] = pd.to_numeric(df_ages['start'])\n",
    "df_ages['end'] = pd.to_numeric(df_ages['end'])"
   ]
  },
  {
   "cell_type": "code",
   "execution_count": 6,
   "metadata": {},
   "outputs": [
    {
     "data": {
      "text/html": [
       "<div>\n",
       "<style scoped>\n",
       "    .dataframe tbody tr th:only-of-type {\n",
       "        vertical-align: middle;\n",
       "    }\n",
       "\n",
       "    .dataframe tbody tr th {\n",
       "        vertical-align: top;\n",
       "    }\n",
       "\n",
       "    .dataframe thead th {\n",
       "        text-align: right;\n",
       "    }\n",
       "</style>\n",
       "<table border=\"1\" class=\"dataframe\">\n",
       "  <thead>\n",
       "    <tr style=\"text-align: right;\">\n",
       "      <th></th>\n",
       "      <th>ID</th>\n",
       "      <th>Divergence</th>\n",
       "      <th>Age</th>\n",
       "      <th>Ts:Tv</th>\n",
       "      <th>seqname</th>\n",
       "      <th>start</th>\n",
       "      <th>end</th>\n",
       "    </tr>\n",
       "  </thead>\n",
       "  <tbody>\n",
       "    <tr>\n",
       "      <th>2517</th>\n",
       "      <td>RLC_singleton_family1162_LTR_retrotransposon17...</td>\n",
       "      <td>0.0297</td>\n",
       "      <td>1485000</td>\n",
       "      <td>2.4242</td>\n",
       "      <td>chr10</td>\n",
       "      <td>48582613</td>\n",
       "      <td>48585493</td>\n",
       "    </tr>\n",
       "    <tr>\n",
       "      <th>5063</th>\n",
       "      <td>RLG_family349_LTR_retrotransposon16746_chr10_2...</td>\n",
       "      <td>0.0702</td>\n",
       "      <td>3510000</td>\n",
       "      <td>2.5635</td>\n",
       "      <td>chr10</td>\n",
       "      <td>26677591</td>\n",
       "      <td>26692901</td>\n",
       "    </tr>\n",
       "    <tr>\n",
       "      <th>4707</th>\n",
       "      <td>RLG_family240_LTR_retrotransposon1933_chr01_17...</td>\n",
       "      <td>0.0811</td>\n",
       "      <td>4055000</td>\n",
       "      <td>2.7012</td>\n",
       "      <td>chr01</td>\n",
       "      <td>17415441</td>\n",
       "      <td>17430435</td>\n",
       "    </tr>\n",
       "  </tbody>\n",
       "</table>\n",
       "</div>"
      ],
      "text/plain": [
       "                                                     ID  Divergence      Age  \\\n",
       "2517  RLC_singleton_family1162_LTR_retrotransposon17...      0.0297  1485000   \n",
       "5063  RLG_family349_LTR_retrotransposon16746_chr10_2...      0.0702  3510000   \n",
       "4707  RLG_family240_LTR_retrotransposon1933_chr01_17...      0.0811  4055000   \n",
       "\n",
       "       Ts:Tv seqname     start       end  \n",
       "2517  2.4242   chr10  48582613  48585493  \n",
       "5063  2.5635   chr10  26677591  26692901  \n",
       "4707  2.7012   chr01  17415441  17430435  "
      ]
     },
     "execution_count": 6,
     "metadata": {},
     "output_type": "execute_result"
    }
   ],
   "source": [
    "df_ages.sample(3)"
   ]
  },
  {
   "cell_type": "code",
   "execution_count": 7,
   "metadata": {},
   "outputs": [],
   "source": [
    "#ADJUST VALUES HERE"
   ]
  },
  {
   "cell_type": "code",
   "execution_count": 243,
   "metadata": {},
   "outputs": [],
   "source": [
    "### what = 'RLG'\n",
    "what = 'RLX'\n",
    "ylim = 650\n",
    "where = 'heterochromatin'\n",
    "#where = 'euchromatin'\n",
    "#what = 'RLC'"
   ]
  },
  {
   "cell_type": "code",
   "execution_count": 244,
   "metadata": {},
   "outputs": [
    {
     "name": "stdout",
     "output_type": "stream",
     "text": [
      "12\n"
     ]
    },
    {
     "data": {
      "text/html": [
       "<div>\n",
       "<style scoped>\n",
       "    .dataframe tbody tr th:only-of-type {\n",
       "        vertical-align: middle;\n",
       "    }\n",
       "\n",
       "    .dataframe tbody tr th {\n",
       "        vertical-align: top;\n",
       "    }\n",
       "\n",
       "    .dataframe thead th {\n",
       "        text-align: right;\n",
       "    }\n",
       "</style>\n",
       "<table border=\"1\" class=\"dataframe\">\n",
       "  <thead>\n",
       "    <tr style=\"text-align: right;\">\n",
       "      <th></th>\n",
       "      <th>seqname</th>\n",
       "      <th>source</th>\n",
       "      <th>feature</th>\n",
       "      <th>start</th>\n",
       "      <th>end</th>\n",
       "      <th>score</th>\n",
       "      <th>strand</th>\n",
       "      <th>frame</th>\n",
       "      <th>attribute</th>\n",
       "    </tr>\n",
       "  </thead>\n",
       "  <tbody>\n",
       "    <tr>\n",
       "      <th>0</th>\n",
       "      <td>chr01</td>\n",
       "      <td>.</td>\n",
       "      <td>heterochromatin</td>\n",
       "      <td>4500001.0</td>\n",
       "      <td>34000000.0</td>\n",
       "      <td>.</td>\n",
       "      <td>0.0</td>\n",
       "      <td>.</td>\n",
       "      <td>.</td>\n",
       "    </tr>\n",
       "    <tr>\n",
       "      <th>2</th>\n",
       "      <td>chr02</td>\n",
       "      <td>.</td>\n",
       "      <td>heterochromatin</td>\n",
       "      <td>0.0</td>\n",
       "      <td>14000000.0</td>\n",
       "      <td>.</td>\n",
       "      <td>0.0</td>\n",
       "      <td>.</td>\n",
       "      <td>.</td>\n",
       "    </tr>\n",
       "    <tr>\n",
       "      <th>5</th>\n",
       "      <td>chr03</td>\n",
       "      <td>.</td>\n",
       "      <td>heterochromatin</td>\n",
       "      <td>4500001.0</td>\n",
       "      <td>23000000.0</td>\n",
       "      <td>.</td>\n",
       "      <td>0.0</td>\n",
       "      <td>.</td>\n",
       "      <td>.</td>\n",
       "    </tr>\n",
       "  </tbody>\n",
       "</table>\n",
       "</div>"
      ],
      "text/plain": [
       "  seqname source          feature      start         end score  strand frame  \\\n",
       "0   chr01      .  heterochromatin  4500001.0  34000000.0     .     0.0     .   \n",
       "2   chr02      .  heterochromatin        0.0  14000000.0     .     0.0     .   \n",
       "5   chr03      .  heterochromatin  4500001.0  23000000.0     .     0.0     .   \n",
       "\n",
       "  attribute  \n",
       "0         .  \n",
       "2         .  \n",
       "5         .  "
      ]
     },
     "execution_count": 244,
     "metadata": {},
     "output_type": "execute_result"
    }
   ],
   "source": [
    "df_genome_parts_now = df_genome_parts[df_genome_parts.feature == where]\n",
    "print(len(df_genome_parts_now.index))\n",
    "df_genome_parts_now.head(3)"
   ]
  },
  {
   "cell_type": "code",
   "execution_count": 245,
   "metadata": {},
   "outputs": [
    {
     "name": "stdout",
     "output_type": "stream",
     "text": [
      "20053\n"
     ]
    },
    {
     "data": {
      "text/html": [
       "<div>\n",
       "<style scoped>\n",
       "    .dataframe tbody tr th:only-of-type {\n",
       "        vertical-align: middle;\n",
       "    }\n",
       "\n",
       "    .dataframe tbody tr th {\n",
       "        vertical-align: top;\n",
       "    }\n",
       "\n",
       "    .dataframe thead th {\n",
       "        text-align: right;\n",
       "    }\n",
       "</style>\n",
       "<table border=\"1\" class=\"dataframe\">\n",
       "  <thead>\n",
       "    <tr style=\"text-align: right;\">\n",
       "      <th></th>\n",
       "      <th>ID</th>\n",
       "      <th>Divergence</th>\n",
       "      <th>Age</th>\n",
       "      <th>Ts:Tv</th>\n",
       "      <th>seqname</th>\n",
       "      <th>start</th>\n",
       "      <th>end</th>\n",
       "    </tr>\n",
       "  </thead>\n",
       "  <tbody>\n",
       "    <tr>\n",
       "      <th>7538</th>\n",
       "      <td>RLX_family0_LARD_retrotransposon124_chr00_2127...</td>\n",
       "      <td>0.0628</td>\n",
       "      <td>3140000</td>\n",
       "      <td>1.4847</td>\n",
       "      <td>chr00</td>\n",
       "      <td>2127506</td>\n",
       "      <td>2129356</td>\n",
       "    </tr>\n",
       "    <tr>\n",
       "      <th>7539</th>\n",
       "      <td>RLX_family0_LARD_retrotransposon128_chr00_2431...</td>\n",
       "      <td>0.1324</td>\n",
       "      <td>6620000</td>\n",
       "      <td>5.6566</td>\n",
       "      <td>chr00</td>\n",
       "      <td>2431940</td>\n",
       "      <td>2434946</td>\n",
       "    </tr>\n",
       "    <tr>\n",
       "      <th>7540</th>\n",
       "      <td>RLX_family0_LARD_retrotransposon352_chr00_1458...</td>\n",
       "      <td>0.0176</td>\n",
       "      <td>880000</td>\n",
       "      <td>1.0000</td>\n",
       "      <td>chr00</td>\n",
       "      <td>14586054</td>\n",
       "      <td>14587550</td>\n",
       "    </tr>\n",
       "  </tbody>\n",
       "</table>\n",
       "</div>"
      ],
      "text/plain": [
       "                                                     ID  Divergence      Age  \\\n",
       "7538  RLX_family0_LARD_retrotransposon124_chr00_2127...      0.0628  3140000   \n",
       "7539  RLX_family0_LARD_retrotransposon128_chr00_2431...      0.1324  6620000   \n",
       "7540  RLX_family0_LARD_retrotransposon352_chr00_1458...      0.0176   880000   \n",
       "\n",
       "       Ts:Tv seqname     start       end  \n",
       "7538  1.4847   chr00   2127506   2129356  \n",
       "7539  5.6566   chr00   2431940   2434946  \n",
       "7540  1.0000   chr00  14586054  14587550  "
      ]
     },
     "execution_count": 245,
     "metadata": {},
     "output_type": "execute_result"
    }
   ],
   "source": [
    "df_ages_now = df_ages[df_ages.ID.str.contains(what)]\n",
    "print(len(df_ages_now.index))\n",
    "df_ages_now.head(3)"
   ]
  },
  {
   "cell_type": "code",
   "execution_count": 246,
   "metadata": {},
   "outputs": [],
   "source": [
    "saved = []\n",
    "for k,v in df_genome_parts_now.iterrows():\n",
    "    df_filter = df_ages_now[(df_ages_now.seqname == v.seqname) &\n",
    "                            (df_ages_now.start <= v.end) &\n",
    "                            (df_ages_now.end >= v.start) ]\n",
    "    saved.append(df_filter)\n",
    "df_res = pd.concat(saved)"
   ]
  },
  {
   "cell_type": "code",
   "execution_count": 247,
   "metadata": {},
   "outputs": [
    {
     "name": "stdout",
     "output_type": "stream",
     "text": [
      "7079\n"
     ]
    }
   ],
   "source": [
    "print(len(df_res.index))"
   ]
  },
  {
   "cell_type": "code",
   "execution_count": 248,
   "metadata": {},
   "outputs": [
    {
     "name": "stdout",
     "output_type": "stream",
     "text": [
      "7079\n"
     ]
    }
   ],
   "source": [
    "print(len(df_res.ID.unique()))"
   ]
  },
  {
   "cell_type": "code",
   "execution_count": 249,
   "metadata": {},
   "outputs": [],
   "source": [
    "path_save = 'data/plots/%s_%s' % (what, where)\n",
    "df_res.to_csv(path_save + '.csv', index=None)"
   ]
  },
  {
   "cell_type": "code",
   "execution_count": 250,
   "metadata": {},
   "outputs": [],
   "source": [
    "x = (df_res.Age / 1000000).tolist()"
   ]
  },
  {
   "cell_type": "code",
   "execution_count": 251,
   "metadata": {},
   "outputs": [
    {
     "data": {
      "text/plain": [
       "'data/plots/RLX_heterochromatin'"
      ]
     },
     "execution_count": 251,
     "metadata": {},
     "output_type": "execute_result"
    },
    {
     "data": {
      "image/png": "[encoded data removed]",
      "text/plain": [
       "<Figure size 432x288 with 1 Axes>"
      ]
     },
     "metadata": {
      "needs_background": "light"
     },
     "output_type": "display_data"
    }
   ],
   "source": [
    "# An \"interface\" to matplotlib.axes.Axes.hist() method\n",
    "fig = plt.figure()\n",
    "n, bins, patches = plt.hist(x=x, bins='auto', color='#0504aa',\n",
    "                            alpha=0.7, rwidth=0.85)\n",
    "plt.grid(axis='y', alpha=0.75)\n",
    "plt.xlabel('Age (my)')\n",
    "plt.ylabel('Frequency')\n",
    "plt.title('%s LTR in %s' % (what, where))\n",
    "maxfreq = n.max()\n",
    "# Set a clean upper y-axis limit.\n",
    "plt.ylim([0,ylim])\n",
    "fig.savefig(path_save + '.svg', dpi=fig.dpi)\n",
    "path_save"
   ]
  },
  {
   "cell_type": "code",
   "execution_count": null,
   "metadata": {},
   "outputs": [],
   "source": []
  },
  {
   "cell_type": "code",
   "execution_count": null,
   "metadata": {},
   "outputs": [],
   "source": []
  },
  {
   "cell_type": "code",
   "execution_count": null,
   "metadata": {},
   "outputs": [],
   "source": []
  },
  {
   "cell_type": "code",
   "execution_count": null,
   "metadata": {},
   "outputs": [],
   "source": []
  }
 ],
 "metadata": {
  "kernelspec": {
   "display_name": "Python 3",
   "language": "python",
   "name": "python3"
  },
  "language_info": {
   "codemirror_mode": {
    "name": "ipython",
    "version": 3
   },
   "file_extension": ".py",
   "mimetype": "text/x-python",
   "name": "python",
   "nbconvert_exporter": "python",
   "pygments_lexer": "ipython3",
   "version": "3.6.5"
  }
 },
 "nbformat": 4,
 "nbformat_minor": 2
}
