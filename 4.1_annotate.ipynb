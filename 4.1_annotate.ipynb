{
 "cells": [
  {
   "cell_type": "code",
   "execution_count": 1,
   "metadata": {},
   "outputs": [],
   "source": [
    "import pandas as pd\n",
    "from itertools import cycle\n",
    "from IPython.display import clear_output\n",
    "import os\n",
    "path_output = 'data/results/all.gff'\n",
    "path_blast = 'data/results/'\n",
    "pd.set_option('display.max_colwidth', -1)\n"
   ]
  },
  {
   "cell_type": "code",
   "execution_count": 2,
   "metadata": {},
   "outputs": [],
   "source": [
    "#TEs\n",
    "params = {}\n",
    "params['LTR'] = {'file':'blast_clustered_ltr.csv.filtered'}\n",
    "params['LINE'] = {'file':'blast_clustered_line.csv.filtered'}\n",
    "params['SINE'] = {'file':'blast_clustered_sine.csv.filtered'}\n",
    "params['TIR'] = {'file':'blast_clustered_tir.csv.filtered'}\n",
    "params['MITE'] = {'file':'blast_clustered_mite.csv.filtered'}\n",
    "#params['LARD'] = {'file':'blast_clustered_lard.csv.filtered'}\n",
    "params['helitron'] = {'file':'blast_clustered_helitron.csv.filtered'}\n",
    "params['TRIM'] = {'file':'blast_clustered_trim.csv.filtered'}\n"
   ]
  },
  {
   "cell_type": "code",
   "execution_count": null,
   "metadata": {},
   "outputs": [],
   "source": []
  },
  {
   "cell_type": "code",
   "execution_count": 3,
   "metadata": {},
   "outputs": [
    {
     "name": "stdout",
     "output_type": "stream",
     "text": [
      "('initial:', 7315)\n"
     ]
    }
   ],
   "source": [
    "#read blast output\n",
    "dfs = []\n",
    "for k,v in params.items():\n",
    "    df = pd.read_csv(path_blast + v['file'], sep='\\t')\n",
    "    dfs.append(df)\n",
    "df_all = pd.concat(dfs)\n",
    "df_all.columns = ['qseqid','sseqid','qstart','qend','sstart','send','score','length','mismatch','gaps','gapopen','nident','pident','qlen','slen','qcovs']\n",
    "df_all = df_all.reset_index(drop=True)\n",
    "print('initial:',len(df_all.index))"
   ]
  },
  {
   "cell_type": "code",
   "execution_count": 4,
   "metadata": {},
   "outputs": [
    {
     "data": {
      "text/plain": [
       "0    LTR_id_7512_RLG_singleton_family3_LTR_62_ChrUn_2310158_2311752[type:ltr_source:tephra][type:ltr_source:tephra]\n",
       "1    LTR_id_7374_RLG_LTR_296_FAM002621[type:ltr_source:TASR][type:ltr_source:TASR]                                 \n",
       "2    LTR_id_5335_RLG_LTR_606_FAM007493[type:ltr_source:TASR][type:ltr_source:TASR]                                 \n",
       "3    LTR_id_2672_RLC_LTR_519_FAM006723[type:ltr_source:TASR][type:ltr_source:TASR]                                 \n",
       "4    LTR_id_7319_RLG_LTR_485_FAM005744[type:ltr_source:TASR][type:ltr_source:TASR]                                 \n",
       "Name: qseqid, dtype: object"
      ]
     },
     "execution_count": 4,
     "metadata": {},
     "output_type": "execute_result"
    }
   ],
   "source": [
    "df_all['qseqid'].head()"
   ]
  },
  {
   "cell_type": "code",
   "execution_count": 5,
   "metadata": {},
   "outputs": [],
   "source": [
    "df_all['source'] = 'ST_annotation'\n",
    "df_all['frame'] = '.'\n",
    "df_all['score'] = '.'\n",
    "df_all['strand'] = '+'\n",
    "df_all['feature'] = 'TE'\n",
    "splited_id = df_all['qseqid'].str.split('_')\n",
    "df_all['auto_id'] = splited_id.str[0] + '_' + splited_id.str[1] + ':' + splited_id.str[2] + ';'\n",
    "df_all['qseqid'] = df_all['qseqid'].str.split('[', 1).str[1] + ';source_id:' + df_all['qseqid'].str.split('[', 1).str[0] \n",
    "df_all['qseqid'] = df_all['qseqid'].str.replace(\"\\\\]\\\\[\",\";\")\n",
    "df_all['qseqid'] = df_all['qseqid'].str.replace(\"]\",\"\")\n",
    "df_all['qseqid'] = df_all['qseqid'].str.replace(\"[\",\"\")\n",
    "df_all['qseqid'] = df_all['qseqid'].str.replace(\"[\",\"\")"
   ]
  },
  {
   "cell_type": "code",
   "execution_count": 6,
   "metadata": {},
   "outputs": [],
   "source": [
    "#order by chromosome and position\n",
    "df_all['new_sstart'] = df_all[['sstart','send']].min(axis=1)\n",
    "df_all['new_ssend'] = df_all[['sstart','send']].max(axis=1)\n",
    "df_all['sstart'] = df_all['new_sstart']\n",
    "df_all['send'] = df_all['new_ssend']\n",
    "df_all = df_all.drop('new_sstart',axis=1).drop('new_ssend',axis=1)\n",
    "df_all.sort_values(['sseqid', 'sstart'], inplace=True)"
   ]
  },
  {
   "cell_type": "code",
   "execution_count": 7,
   "metadata": {},
   "outputs": [],
   "source": [
    "#delete dups annotation\n",
    "for k,v in df_all.iterrows():\n",
    "    qs = {}\n",
    "    for q in v.qseqid.split(\";\"):\n",
    "        qs[q] = 1\n",
    "    new_qseqid = \";\".join(qs.keys())\n",
    "    df_all.at[k, 'qseqid'] = new_qseqid"
   ]
  },
  {
   "cell_type": "code",
   "execution_count": 8,
   "metadata": {},
   "outputs": [],
   "source": [
    "df_all['qseqid'] = df_all['auto_id'] + df_all['qseqid']\n",
    "df_all = df_all[['sseqid','source','feature','sstart','send','score','strand','frame','qseqid']]\n",
    "#gff3 -> ['seqname' , 'source' , 'feature' , 'start' , 'end' , 'score' , 'strand' , 'frame' , 'attribute']"
   ]
  },
  {
   "cell_type": "code",
   "execution_count": 9,
   "metadata": {},
   "outputs": [
    {
     "data": {
      "text/plain": [
       "'data/results/all.gff'"
      ]
     },
     "execution_count": 9,
     "metadata": {},
     "output_type": "execute_result"
    }
   ],
   "source": [
    "df_all.to_csv(path_output, sep=\"\\t\", header=None, index=None)\n",
    "path_output"
   ]
  },
  {
   "cell_type": "code",
   "execution_count": null,
   "metadata": {},
   "outputs": [],
   "source": []
  },
  {
   "cell_type": "code",
   "execution_count": null,
   "metadata": {},
   "outputs": [],
   "source": []
  },
  {
   "cell_type": "code",
   "execution_count": null,
   "metadata": {},
   "outputs": [],
   "source": []
  }
 ],
 "metadata": {
  "kernelspec": {
   "display_name": "Python 3",
   "language": "python",
   "name": "python3"
  },
  "language_info": {
   "codemirror_mode": {
    "name": "ipython",
    "version": 2
   },
   "file_extension": ".py",
   "mimetype": "text/x-python",
   "name": "python",
   "nbconvert_exporter": "python",
   "pygments_lexer": "ipython2",
   "version": "2.7.15"
  }
 },
 "nbformat": 4,
 "nbformat_minor": 2
}
