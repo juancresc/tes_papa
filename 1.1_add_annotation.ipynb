{
 "cells": [
  {
   "cell_type": "markdown",
   "metadata": {},
   "source": [
    "Adds annotations to fasta file according to the program which harvest each TE and TE class"
   ]
  },
  {
   "cell_type": "code",
   "execution_count": 1,
   "metadata": {},
   "outputs": [],
   "source": [
    "from Bio import SeqIO\n",
    "from Bio.SeqRecord import SeqRecord\n",
    "from Bio.Seq import Seq\n",
    "from os import listdir\n",
    "from os.path import isfile, join"
   ]
  },
  {
   "cell_type": "code",
   "execution_count": 2,
   "metadata": {},
   "outputs": [],
   "source": [
    "#mites\n",
    "paths_fasta = {}\n",
    "paths_fasta['type:MITE_source:tephra'] = 'data/fasta/tephra/MITEs_tephra_ClassII_families.fasta'\n",
    "paths_fasta['type:MITE_source:TASR'] = 'data/fasta/TASR/MITEs_TASR_ClassII_families.fasta'\n",
    "paths_fasta['type:MITE_source:MITETracker'] = 'data/fasta/MITETracker/MITEs_MITETracker_ClassII.fasta'\n",
    "file_out = 'data/results/mites.fasta'"
   ]
  },
  {
   "cell_type": "code",
   "execution_count": 3,
   "metadata": {},
   "outputs": [],
   "source": [
    "#tirs\n",
    "paths_fasta = {}\n",
    "paths_fasta['type:TIR_source:Repbase'] = 'data/fasta/repbase/TIRs_Repbase_ClassII_families.fasta'\n",
    "paths_fasta['type:TIR_source:TASR'] = 'data/fasta/TASR/TIRs_TASR_ClassII_families.fasta'\n",
    "paths_fasta['type:TIR_source:tephra'] = 'data/fasta/tephra/TIRs_tephra_ClassII_families.fasta'\n",
    "file_out = 'data/results/tirs.fasta'"
   ]
  },
  {
   "cell_type": "code",
   "execution_count": 4,
   "metadata": {},
   "outputs": [],
   "source": [
    "#helitrons\n",
    "paths_fasta = {}\n",
    "paths_fasta['type:helitrons_source:TASR'] = 'data/fasta/TASR/Helitrons_TASR_ClassII_families.fasta'\n",
    "paths_fasta['type:helitrons_source:tephra'] = 'data/fasta/tephra/Helitrons_tephra_ClassII_families.fasta'\n",
    "file_out = 'data/results/helitrons.fasta'"
   ]
  },
  {
   "cell_type": "code",
   "execution_count": 9,
   "metadata": {},
   "outputs": [],
   "source": [
    "#LTRs\n",
    "paths_fasta = {}\n",
    "paths_fasta['type:ltr_source:Repbase'] = 'data/fasta/Repbase/LTRs_Repbase_ClassI_families.fasta'\n",
    "paths_fasta['type:ltr_source:TASR'] = 'data/fasta/TASR/LTRs_TASR_ClassI_families.fasta'\n",
    "#paths_fasta['type:ltr-gypsy_source:tephra'] = 'data/fasta/tephra/LTRs-Gypsy_tephra_ClassI_families.fasta'\n",
    "#paths_fasta['type:ltr-copia_source:tephra'] = 'data/fasta/tephra/LTRs-Copia_tephra_ClassI_families.fasta'\n",
    "paths_fasta['type:ltr_source:tephra'] = 'data/fasta/tephra/LTRs_tephra_ClassI_families.fasta'\n",
    "file_out = 'data/results/ltr.fasta'"
   ]
  },
  {
   "cell_type": "code",
   "execution_count": 12,
   "metadata": {},
   "outputs": [],
   "source": [
    "#SINE\n",
    "paths_fasta = {}\n",
    "paths_fasta['type:SINE_source:Repbase'] = 'data/fasta/Repbase/SINEs_Repbase_ClassI_families.fasta'\n",
    "paths_fasta['type:SINE_source:TASR'] = 'data/fasta/TASR/SINEs_TASR_ClassI_families.fasta'\n",
    "paths_fasta['type:SINE_source:SINEScan'] = 'data/fasta/SINEScan/SINEs_SINEScan_ClassI_families.fasta'\n",
    "file_out = 'data/results/sine.fasta'"
   ]
  },
  {
   "cell_type": "code",
   "execution_count": 15,
   "metadata": {},
   "outputs": [],
   "source": [
    "#LINE\n",
    "paths_fasta = {}\n",
    "paths_fasta['type:LINE_source:Repbase'] = 'data/fasta/Repbase/LINEs_Repbase_ClassI_families.fasta'\n",
    "paths_fasta['type:LINE_source:TASR'] = 'data/fasta/TASR/LINEs_TASR_ClassI_families.fasta'\n",
    "file_out = 'data/results/line.fasta' "
   ]
  },
  {
   "cell_type": "code",
   "execution_count": 16,
   "metadata": {},
   "outputs": [],
   "source": [
    "buffer_seqs = []\n",
    "for k, file_fasta in paths_fasta.items():\n",
    "    fasta_seq = SeqIO.parse(file_fasta, 'fasta')\n",
    "    for record in fasta_seq:\n",
    "        new_id =  record.id + '[' + k + ']'\n",
    "        seq = SeqRecord(record.seq, id=new_id, description='')\n",
    "        buffer_seqs.append(seq)"
   ]
  },
  {
   "cell_type": "code",
   "execution_count": 17,
   "metadata": {},
   "outputs": [
    {
     "data": {
      "text/plain": [
       "'data/results/line.fasta'"
      ]
     },
     "execution_count": 17,
     "metadata": {},
     "output_type": "execute_result"
    }
   ],
   "source": [
    "SeqIO.write(buffer_seqs, file_out, \"fasta\")\n",
    "file_out"
   ]
  },
  {
   "cell_type": "code",
   "execution_count": null,
   "metadata": {},
   "outputs": [],
   "source": []
  },
  {
   "cell_type": "code",
   "execution_count": null,
   "metadata": {},
   "outputs": [],
   "source": []
  }
 ],
 "metadata": {
  "kernelspec": {
   "display_name": "Python 3",
   "language": "python",
   "name": "python3"
  },
  "language_info": {
   "codemirror_mode": {
    "name": "ipython",
    "version": 2
   },
   "file_extension": ".py",
   "mimetype": "text/x-python",
   "name": "python",
   "nbconvert_exporter": "python",
   "pygments_lexer": "ipython2",
   "version": "2.7.15"
  }
 },
 "nbformat": 4,
 "nbformat_minor": 2
}
