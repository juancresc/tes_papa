{
 "cells": [
  {
   "cell_type": "markdown",
   "metadata": {},
   "source": [
    "Adds annotations to fasta file according to the program which harvest each TE and TE class"
   ]
  },
  {
   "cell_type": "code",
   "execution_count": 5,
   "metadata": {},
   "outputs": [],
   "source": [
    "from Bio import SeqIO\n",
    "from Bio.SeqRecord import SeqRecord\n",
    "from Bio.Seq import Seq\n",
    "from os import listdir\n",
    "from os.path import isfile, join"
   ]
  },
  {
   "cell_type": "code",
   "execution_count": 18,
   "metadata": {},
   "outputs": [],
   "source": [
    "#mites\n",
    "paths_fasta = {}\n",
    "paths_fasta['type:MITE_source:tephra'] = 'data/fasta/tephra/MITEs_tephra_ClassII_families.fasta'\n",
    "paths_fasta['type:MITE_source:TASR'] = 'data/fasta/TASR/MITEs_TASR_ClassII_families.fasta'\n",
    "paths_fasta['type:MITE_source:MITETracker'] = 'data/fasta/MITETracker/MITEs_MITETracker_ClassII.fasta'\n",
    "file_out = 'data/results/mites.fasta'"
   ]
  },
  {
   "cell_type": "code",
   "execution_count": 19,
   "metadata": {},
   "outputs": [],
   "source": [
    "#tirs\n",
    "paths_fasta = {}\n",
    "paths_fasta['type:TIR_source:Repbase'] = 'data/fasta/repbase/TIRs_Repbase_ClassII_families.fasta'\n",
    "paths_fasta['type:TIR_source:TASR'] = 'data/fasta/TASR/TIRs_TASR_ClassII_families.fasta'\n",
    "paths_fasta['type:TIR_source:tephra'] = 'data/fasta/tephra/TIRs_tephra_ClassII_families.fasta'\n",
    "file_out = 'data/results/tirs.fasta'"
   ]
  },
  {
   "cell_type": "code",
   "execution_count": 6,
   "metadata": {},
   "outputs": [],
   "source": [
    "#helitrons\n",
    "paths_fasta = {}\n",
    "paths_fasta['type:helitrons_source:TASR'] = 'data/fasta/TASR/Helitrons_TASR_ClassII_families.fasta'\n",
    "paths_fasta['type:helitrons_source:tephra'] = 'data/fasta/tephra/Helitrons_tephra_ClassII_families.fasta'\n",
    "file_out = 'data/results/helitrons.fasta'"
   ]
  },
  {
   "cell_type": "code",
   "execution_count": 7,
   "metadata": {},
   "outputs": [],
   "source": [
    "buffer_seqs = []\n",
    "for k, file_fasta in paths_fasta.items():\n",
    "    fasta_seq = SeqIO.parse(file_fasta, 'fasta')\n",
    "    for record in fasta_seq:\n",
    "        new_id =  record.id + '[' + k + ']'\n",
    "        seq = SeqRecord(record.seq, id=new_id, description='')\n",
    "        buffer_seqs.append(seq)"
   ]
  },
  {
   "cell_type": "code",
   "execution_count": 8,
   "metadata": {},
   "outputs": [
    {
     "data": {
      "text/plain": [
       "1330"
      ]
     },
     "execution_count": 8,
     "metadata": {},
     "output_type": "execute_result"
    }
   ],
   "source": [
    "SeqIO.write(buffer_seqs, file_out, \"fasta\")"
   ]
  },
  {
   "cell_type": "code",
   "execution_count": null,
   "metadata": {},
   "outputs": [],
   "source": []
  },
  {
   "cell_type": "code",
   "execution_count": null,
   "metadata": {},
   "outputs": [],
   "source": []
  }
 ],
 "metadata": {
  "kernelspec": {
   "display_name": "Python 3",
   "language": "python",
   "name": "python3"
  },
  "language_info": {
   "codemirror_mode": {
    "name": "ipython",
    "version": 2
   },
   "file_extension": ".py",
   "mimetype": "text/x-python",
   "name": "python",
   "nbconvert_exporter": "python",
   "pygments_lexer": "ipython2",
   "version": "2.7.15"
  }
 },
 "nbformat": 4,
 "nbformat_minor": 2
}
