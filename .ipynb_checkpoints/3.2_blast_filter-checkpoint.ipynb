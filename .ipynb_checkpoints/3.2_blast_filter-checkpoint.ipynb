{
 "cells": [
  {
   "cell_type": "code",
   "execution_count": 1,
   "metadata": {},
   "outputs": [],
   "source": [
    "import pandas as pd\n",
    "path_blast = 'data/results/mites_clustered.blast.csv'\n",
    "path_output = 'data/results/mites_clustered.blast.filtered.csv'"
   ]
  },
  {
   "cell_type": "code",
   "execution_count": null,
   "metadata": {},
   "outputs": [],
   "source": [
    "#TEs\n",
    "params = {}\n",
    "params['LTR'] = {'min_len':650,'max_len':False,'min_distance':5,'max_q':1.4,'min_q':0.6,'min_pident':60,'min_qcov':80,'file':''}\n",
    "params['LINE'] = {'min_len':1500,'max_len':False,'min_distance':5,'max_q':1.2,'min_q':0.8,'min_pident':60,'min_qcov':80,'file':''}\n",
    "params['SINE'] = {'min_len':150,'max_len':800,'min_distance':5,'max_q':1.1,'min_q':0.9,'min_pident':90,'min_qcov':90,'file':''}\n",
    "params['TIR'] = {'min_len':700,'max_len':False,'min_distance':5,'max_q':1.1,'min_q':0.9,'min_pident':90,'min_qcov':90,'file':''}\n",
    "params['MITE'] = {'min_len':50,'max_len':800,'min_distance':5,'max_q':1.15,'min_q':0.85,'min_pident':90,'min_qcov':90,'file':''}\n",
    "params['Hel'] = {'min_len':2000,'max_len':False,'min_distance':5,'max_q':1.2,'min_q':0.8,'min_pident':60,'min_qcov':80,'file':''}\n",
    "\n",
    "te_type = 'LTR'"
   ]
  },
  {
   "cell_type": "code",
   "execution_count": null,
   "metadata": {},
   "outputs": [],
   "source": [
    "#read blast output\n",
    "df = pd.read_csv(dir_blast + params[te_type]['file'], sep='\\t', header=None)\n",
    "df.columns = ['qseqid,''sseqid','qstart','qend','sstart','send','score','length','mismatch','gaps','gapopen','nident','pident','qlen','slen','qcovs']\n",
    "print('initial:',len(df_blast.index))"
   ]
  },
  {
   "cell_type": "code",
   "execution_count": null,
   "metadata": {},
   "outputs": [],
   "source": [
    "#filter by length\n",
    "if(params[te_type]['min_len']):\n",
    "    df = df[(df.qlen > params[te_type]['min_len'])]\n",
    "    \n",
    "if(params[te_type]['max_len']):\n",
    "    df = df[(df.qlen < params[te_type]['max_len'])]\n",
    "\n",
    "print('Min and max len: ' + str(len(df.index)))"
   ]
  },
  {
   "cell_type": "code",
   "execution_count": null,
   "metadata": {},
   "outputs": [],
   "source": [
    "#filter by query / subject length treshold\n",
    "df_blast = df_blast[((df_blast.length / df_blast.qlen) >= params[te_type]['min_q']) &\n",
    "   ((df_blast.length / df_blast.slen) >= params[te_type]['min_q']) &\n",
    "   ((df_blast.length / df_blast.qlen) <= params[te_type]['max_q']) &\n",
    "   ((df_blast.length / df_blast.slen) <= params[te_type]['max_q'])]\n",
    "print('treshold:',len(df_blast.index))"
   ]
  },
  {
   "cell_type": "code",
   "execution_count": null,
   "metadata": {},
   "outputs": [],
   "source": [
    "#filter by pident and qcov\n",
    "df = df[(df.pident > params[te_type]['min_pident']) & (df.qcovs > params[te_type]['min_qcov'])]\n",
    "print('Min pident and min qcov: ' + str(len(df.index)))"
   ]
  },
  {
   "cell_type": "code",
   "execution_count": null,
   "metadata": {},
   "outputs": [],
   "source": [
    "#filter overlapped \n",
    "\n",
    "# sep by chr\n",
    "dfs = {}\n",
    "for seq in df.sseqid.unique():\n",
    "    dfs[seq] = df[df.sseqid == seq]\n",
    "\n",
    "#order sstart and send\n",
    "df['new_sstart'] = df[['sstart','send']].min(axis=1)\n",
    "df['new_ssend'] = df[['sstart','send']].max(axis=1)\n",
    "df['sstart'] = df['new_sstart']\n",
    "df['send'] = df['new_ssend']\n",
    "\n",
    "# filtering\n",
    "rows = []\n",
    "discard = []\n",
    "for index, row in df.iterrows():\n",
    "    if index in discard:\n",
    "        continue\n",
    "    df = dfs[row.sseqid]\n",
    "    res = df[(abs(df.sstart - row.sstart) <= params[te_type]['min_distance']) | (abs(df.send - row.send) <= params[te_type]['min_distance'])]\n",
    "    if len(res.index) > 1:\n",
    "        print(res)\n",
    "        break\n",
    "        added = False\n",
    "        for i2, r2 in res.iterrows():\n",
    "            if not added:\n",
    "                rows.append(r2)\n",
    "                added = True\n",
    "            else:\n",
    "                discard.append(r2.newindex)\n",
    "    else:\n",
    "        rows.append(row)\n",
    "\n",
    "df = pd.DataFrame(rows)\n",
    "df = df.drop('new_sstart',axis=1).drop('new_ssend',axis=1).drop('newindex',axis=1).drop('q',axis=1)\n",
    "df.sort_values(['sseqid', 'sstart'], inplace=True)\n",
    "print('Non overlapped: ' + str(len(df.index)))"
   ]
  },
  {
   "cell_type": "code",
   "execution_count": null,
   "metadata": {},
   "outputs": [],
   "source": [
    "df.to_csv()"
   ]
  }
 ],
 "metadata": {
  "kernelspec": {
   "display_name": "Python 3",
   "language": "python",
   "name": "python3"
  },
  "language_info": {
   "codemirror_mode": {
    "name": "ipython",
    "version": 3
   },
   "file_extension": ".py",
   "mimetype": "text/x-python",
   "name": "python",
   "nbconvert_exporter": "python",
   "pygments_lexer": "ipython3",
   "version": "3.6.5"
  }
 },
 "nbformat": 4,
 "nbformat_minor": 2
}
