{
 "cells": [
  {
   "cell_type": "code",
   "execution_count": 164,
   "metadata": {},
   "outputs": [],
   "source": [
    "# library\n",
    "import numpy as np\n",
    "import gff2coverage\n",
    "import pandas as pd\n",
    "%matplotlib inline\n",
    "import matplotlib.pyplot as plt"
   ]
  },
  {
   "cell_type": "code",
   "execution_count": 165,
   "metadata": {},
   "outputs": [],
   "source": [
    "path_gff = 'data/results/all.gff'\n",
    "path_genome = 'data/Stuberosum_genome.gff3'\n",
    "te_types = ['MITE', 'TRIM', 'LARD', 'TIR','helitron','LTR','SINE', 'LINE']\n",
    "unit_value = 1000000"
   ]
  },
  {
   "cell_type": "code",
   "execution_count": 166,
   "metadata": {},
   "outputs": [],
   "source": [
    "#load chromosomal srtucture\n",
    "df_genome = pd.read_csv(path_genome, sep='\\t')\n",
    "df_genome.columns = ['seqname' , 'source' , 'feature' , 'start' , 'end' , 'score' , 'strand' , 'frame' , 'attribute']"
   ]
  },
  {
   "cell_type": "code",
   "execution_count": 167,
   "metadata": {},
   "outputs": [],
   "source": [
    "#load data\n",
    "df = pd.read_csv(path_gff, sep='\\t')\n",
    "df.columns = ['seqname' , 'source' , 'feature' , 'start' , 'end' , 'score' , 'strand' , 'frame' , 'attribute']"
   ]
  },
  {
   "cell_type": "code",
   "execution_count": 168,
   "metadata": {},
   "outputs": [],
   "source": [
    "# sep by chr\n",
    "dfs = {}\n",
    "for seq in df.seqname.unique():\n",
    "    dfs[seq] = df[df.seqname == seq]"
   ]
  },
  {
   "cell_type": "code",
   "execution_count": null,
   "metadata": {},
   "outputs": [
    {
     "name": "stdout",
     "output_type": "stream",
     "text": [
      "chr01: elements count: 39484 max: 88663952\n"
     ]
    }
   ],
   "source": [
    "ys = {}\n",
    "xs = {}\n",
    "max_chrs = {}\n",
    "for chr_num in range(1, 13):\n",
    "    chr_name = 'chr' + str(chr_num).zfill(2)\n",
    "    df_genome_chr = df_genome[df_genome.seqname == chr_name]\n",
    "    max_chr = df_genome_chr.iloc[0].end\n",
    "    max_chrs[chr_num] = max_chr\n",
    "    df_chr = dfs[chr_name]\n",
    "    print('%s: elements count: %i max: %i' % (chr_name, len(df_chr.index), max_chr) )\n",
    "    #separate by step and calculate coverage\n",
    "    step = 1 # in mb\n",
    "    bins = (max_chr / unit_value) + 1\n",
    "    x = np.arange(0, bins + step, step)\n",
    "    y = []\n",
    "    for te in te_types:\n",
    "        current = []\n",
    "        for i in np.arange(0, bins + step, step):\n",
    "            nt_start = i * unit_value\n",
    "            nt_end = (i * unit_value) + (unit_value * step) - 1\n",
    "            df_res = df_chr[((df_chr.start + df_chr.end) / 2 >= nt_start) & ((df_chr.start + df_chr.end) / 2 <= nt_end) & (df_chr.attribute.str.contains(te))]\n",
    "            coverage = gff2coverage.calc_coverage_part(df_res, unit_value)\n",
    "            current.append(coverage)\n",
    "        y.append(current)\n",
    "    ys[chr_name] = y\n",
    "    xs[chr_name] = x"
   ]
  },
  {
   "cell_type": "code",
   "execution_count": null,
   "metadata": {},
   "outputs": [],
   "source": [
    "\n",
    "#plt.style.use('classic')\n",
    "#plt.rcParams['figure.figsize'] = [12, 4]\n",
    "#plt.ylabel('% of genome covered', fontsize=10)\n",
    "#plt.xlabel('Genome position in Mb', fontsize=10)\n",
    "#plt.margins(x=0)\n",
    "#fig.subplots_adjust(hspace=2, wspace=2)\n",
    "legend = False\n",
    "fig, axs = plt.subplots(nrows=12, sharex=True)\n",
    "fig.set_size_inches(20, 25)\n",
    "for chr_num in range(1, 13):\n",
    "    chr_name = 'chr' + str(chr_num).zfill(2)\n",
    "    axs[chr_num - 1].set_ylim([0,50])\n",
    "    axs[chr_num - 1].set_xlim([0,max_chrs[chr_num]])\n",
    "    axs[chr_num - 1].stackplot(xs[chr_name], ys[chr_name], labels=te_types,)    \n",
    "    axs[chr_num - 1].set_title(chr_name)\n",
    "#    if not legend:\n",
    "#        plt.legend(loc='best')\n",
    "#        legend = True\n",
    "#    plt.title(chr_name)\n",
    "plt.legend(loc=9, bbox_to_anchor=(0.5, -0.1), ncol=2)\n",
    "plt.savefig('data/results/foo.png')"
   ]
  },
  {
   "cell_type": "code",
   "execution_count": null,
   "metadata": {},
   "outputs": [],
   "source": []
  },
  {
   "cell_type": "code",
   "execution_count": null,
   "metadata": {},
   "outputs": [],
   "source": []
  },
  {
   "cell_type": "code",
   "execution_count": 80,
   "metadata": {},
   "outputs": [],
   "source": [
    "x_ = range(0,6)\n",
    "y_=[ [1,1,4,6,8,10], [1,2,2,7,10,10], [1,2,8,5,10,1] ]"
   ]
  }
 ],
 "metadata": {
  "kernelspec": {
   "display_name": "Python 3",
   "language": "python",
   "name": "python3"
  },
  "language_info": {
   "codemirror_mode": {
    "name": "ipython",
    "version": 2
   },
   "file_extension": ".py",
   "mimetype": "text/x-python",
   "name": "python",
   "nbconvert_exporter": "python",
   "pygments_lexer": "ipython2",
   "version": "2.7.15"
  }
 },
 "nbformat": 4,
 "nbformat_minor": 2
}
