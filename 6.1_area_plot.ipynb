{
 "cells": [
  {
   "cell_type": "code",
   "execution_count": 36,
   "metadata": {},
   "outputs": [],
   "source": [
    "# library\n",
    "import numpy as np\n",
    "import gff2coverage\n",
    "import pandas as pd\n",
    "path_gff = 'data/results/all.gff'\n",
    "path_genome = 'data/Stuberosum_genome.gff3'\n",
    "chr_name = 'chr03'\n",
    "te_types = ['MITE', 'TRIM', 'LARD', 'TIR','helitron','LTR','SINE', 'LINE']\n",
    "unit_value = 1000000\n",
    "unit_name = 'MB'"
   ]
  },
  {
   "cell_type": "code",
   "execution_count": 37,
   "metadata": {},
   "outputs": [
    {
     "data": {
      "text/html": [
       "<div>\n",
       "<style scoped>\n",
       "    .dataframe tbody tr th:only-of-type {\n",
       "        vertical-align: middle;\n",
       "    }\n",
       "\n",
       "    .dataframe tbody tr th {\n",
       "        vertical-align: top;\n",
       "    }\n",
       "\n",
       "    .dataframe thead th {\n",
       "        text-align: right;\n",
       "    }\n",
       "</style>\n",
       "<table border=\"1\" class=\"dataframe\">\n",
       "  <thead>\n",
       "    <tr style=\"text-align: right;\">\n",
       "      <th></th>\n",
       "      <th>seqname</th>\n",
       "      <th>source</th>\n",
       "      <th>feature</th>\n",
       "      <th>start</th>\n",
       "      <th>end</th>\n",
       "      <th>score</th>\n",
       "      <th>strand</th>\n",
       "      <th>frame</th>\n",
       "      <th>attribute</th>\n",
       "    </tr>\n",
       "  </thead>\n",
       "  <tbody>\n",
       "    <tr>\n",
       "      <th>3</th>\n",
       "      <td>chr03</td>\n",
       "      <td>.</td>\n",
       "      <td>chromosome</td>\n",
       "      <td>0</td>\n",
       "      <td>62290286</td>\n",
       "      <td>.</td>\n",
       "      <td>0</td>\n",
       "      <td>.</td>\n",
       "      <td>.</td>\n",
       "    </tr>\n",
       "  </tbody>\n",
       "</table>\n",
       "</div>"
      ],
      "text/plain": [
       "  seqname source     feature  start       end score  strand frame attribute\n",
       "3   chr03      .  chromosome      0  62290286     .       0     .         ."
      ]
     },
     "execution_count": 37,
     "metadata": {},
     "output_type": "execute_result"
    }
   ],
   "source": [
    "#load chromosomal srtucture\n",
    "df_genome = pd.read_csv(path_genome, sep='\\t')\n",
    "df_genome.columns = ['seqname' , 'source' , 'feature' , 'start' , 'end' , 'score' , 'strand' , 'frame' , 'attribute']\n",
    "df_genome = df_genome[df_genome.seqname == chr_name]\n",
    "max_chr = df_genome.iloc[0].end\n",
    "df_genome"
   ]
  },
  {
   "cell_type": "code",
   "execution_count": 38,
   "metadata": {},
   "outputs": [
    {
     "name": "stdout",
     "output_type": "stream",
     "text": [
      "For chr03:24983\n"
     ]
    }
   ],
   "source": [
    "#load data\n",
    "df = pd.read_csv(path_gff, sep='\\t')\n",
    "df.columns = ['seqname' , 'source' , 'feature' , 'start' , 'end' , 'score' , 'strand' , 'frame' , 'attribute']\n",
    "df = df[df.seqname == chr_name]\n",
    "print('For %s:%i' % (chr_name, len(df.index),) )"
   ]
  },
  {
   "cell_type": "code",
   "execution_count": 39,
   "metadata": {},
   "outputs": [],
   "source": [
    "#dfs = {}\n",
    "#for seq in df_genome.seqname.unique():\n",
    "#    dfs[seq] = df[df.seqname == seq]"
   ]
  },
  {
   "cell_type": "code",
   "execution_count": null,
   "metadata": {},
   "outputs": [],
   "source": [
    "#separate by MB and calculate coverage\n",
    "bins = (max_chr / unit_value) + 1\n",
    "x = range(0,bins)\n",
    "y = []\n",
    "for te in te_types:\n",
    "    current = []\n",
    "    for i in range(1, max_chr, unit_value):\n",
    "        nt_start = i\n",
    "        nt_end = i + unit_value - 1\n",
    "        df_res = df[((df.start + df.end) / 2 >= nt_start) & ((df.start + df.end) / 2 <= nt_end) & (df.attribute.str.contains(te))]\n",
    "        coverage = gff2coverage.calc_coverage_part(df_res, unit_value)\n",
    "        current.append(coverage)\n",
    "#        print(te, coverage)\n",
    "    y.append(current)"
   ]
  },
  {
   "cell_type": "code",
   "execution_count": null,
   "metadata": {},
   "outputs": [],
   "source": [
    "%matplotlib inline\n",
    "# Plot\n",
    "import matplotlib.pyplot as plt\n",
    "\n",
    "plt.rcParams['figure.figsize'] = [13, 6]\n",
    "plt.ylabel('% of genome covered', fontsize=10)\n",
    "plt.xlabel('Genome position in Mb', fontsize=10)\n",
    "plt.margins(x=0)\n",
    "axes = plt.gca()\n",
    "axes.set_ylim([0,100])\n",
    "plt.stackplot(x,y, labels=te_types)\n",
    "plt.legend(loc='best')\n",
    "plt.show()"
   ]
  },
  {
   "cell_type": "code",
   "execution_count": null,
   "metadata": {},
   "outputs": [],
   "source": []
  },
  {
   "cell_type": "code",
   "execution_count": null,
   "metadata": {},
   "outputs": [],
   "source": [
    "x = range(0,6)\n",
    "y=[ [1,1,4,6,8,10], [1,2,2,7,10,10], [1,2,8,5,10,1] ]\n",
    "# Plot\n",
    "axes = plt.gca()\n",
    "plt.margins(x=0)\n",
    "axes.set_ylim([0,100])\n",
    "\n",
    "plt.stackplot(x,y, labels=te_types)\n",
    "plt.legend(loc='upper right')\n",
    "plt.show()"
   ]
  },
  {
   "cell_type": "code",
   "execution_count": null,
   "metadata": {},
   "outputs": [],
   "source": []
  }
 ],
 "metadata": {
  "kernelspec": {
   "display_name": "Python 3",
   "language": "python",
   "name": "python3"
  },
  "language_info": {
   "codemirror_mode": {
    "name": "ipython",
    "version": 2
   },
   "file_extension": ".py",
   "mimetype": "text/x-python",
   "name": "python",
   "nbconvert_exporter": "python",
   "pygments_lexer": "ipython2",
   "version": "2.7.15"
  }
 },
 "nbformat": 4,
 "nbformat_minor": 2
}
